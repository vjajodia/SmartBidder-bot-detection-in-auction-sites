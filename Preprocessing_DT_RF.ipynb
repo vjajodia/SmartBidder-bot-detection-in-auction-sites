{
 "cells": [
  {
   "cell_type": "markdown",
   "id": "abc85f9b-e7ba-4f41-b9ae-ea6b3f2e2c94",
   "metadata": {},
   "source": [
    "# Business Intelligence for Online Bidding Systems using Machine Learning"
   ]
  },
  {
   "cell_type": "markdown",
   "id": "7996d32d-ebb5-4caa-95e5-f8e29117f162",
   "metadata": {},
   "source": [
    "### Importing libraries"
   ]
  },
  {
   "cell_type": "code",
   "execution_count": 1,
   "id": "ed75b244-e1e6-451d-85e3-c34cd1667247",
   "metadata": {},
   "outputs": [],
   "source": [
    "import pandas as pd\n",
    "import numpy as np\n",
    "from sklearn.model_selection import train_test_split\n",
    "import matplotlib.pyplot as plt\n",
    "import seaborn as sns"
   ]
  },
  {
   "cell_type": "code",
   "execution_count": 2,
   "id": "06f1742f-bec4-4161-b35c-630b893c5b86",
   "metadata": {},
   "outputs": [],
   "source": [
    "bids_df = pd.read_csv('./data/bids.csv')\n",
    "train_df = pd.read_csv('./data/train.csv')\n",
    "test_df = pd.read_csv('./data/test.csv')"
   ]
  },
  {
   "cell_type": "markdown",
   "id": "3d07fb7c-482a-41dc-82b4-370237a7edbb",
   "metadata": {},
   "source": [
    "### Cleaning the data"
   ]
  },
  {
   "cell_type": "code",
   "execution_count": 3,
   "id": "73c669a7-6e96-4377-a5ff-9942119d3188",
   "metadata": {},
   "outputs": [
    {
     "data": {
      "text/html": [
       "<div>\n",
       "<style scoped>\n",
       "    .dataframe tbody tr th:only-of-type {\n",
       "        vertical-align: middle;\n",
       "    }\n",
       "\n",
       "    .dataframe tbody tr th {\n",
       "        vertical-align: top;\n",
       "    }\n",
       "\n",
       "    .dataframe thead th {\n",
       "        text-align: right;\n",
       "    }\n",
       "</style>\n",
       "<table border=\"1\" class=\"dataframe\">\n",
       "  <thead>\n",
       "    <tr style=\"text-align: right;\">\n",
       "      <th></th>\n",
       "      <th>bid_id</th>\n",
       "      <th>bidder_id</th>\n",
       "      <th>auction</th>\n",
       "      <th>merchandise</th>\n",
       "      <th>device</th>\n",
       "      <th>time</th>\n",
       "      <th>country</th>\n",
       "      <th>ip</th>\n",
       "      <th>url</th>\n",
       "    </tr>\n",
       "  </thead>\n",
       "  <tbody>\n",
       "    <tr>\n",
       "      <th>0</th>\n",
       "      <td>0</td>\n",
       "      <td>8dac2b259fd1c6d1120e519fb1ac14fbqvax8</td>\n",
       "      <td>ewmzr</td>\n",
       "      <td>jewelry</td>\n",
       "      <td>phone0</td>\n",
       "      <td>9759243157894736</td>\n",
       "      <td>us</td>\n",
       "      <td>69.166.231.58</td>\n",
       "      <td>vasstdc27m7nks3</td>\n",
       "    </tr>\n",
       "    <tr>\n",
       "      <th>1</th>\n",
       "      <td>1</td>\n",
       "      <td>668d393e858e8126275433046bbd35c6tywop</td>\n",
       "      <td>aeqok</td>\n",
       "      <td>furniture</td>\n",
       "      <td>phone1</td>\n",
       "      <td>9759243157894736</td>\n",
       "      <td>in</td>\n",
       "      <td>50.201.125.84</td>\n",
       "      <td>jmqlhflrzwuay9c</td>\n",
       "    </tr>\n",
       "    <tr>\n",
       "      <th>2</th>\n",
       "      <td>2</td>\n",
       "      <td>aa5f360084278b35d746fa6af3a7a1a5ra3xe</td>\n",
       "      <td>wa00e</td>\n",
       "      <td>home goods</td>\n",
       "      <td>phone2</td>\n",
       "      <td>9759243157894736</td>\n",
       "      <td>py</td>\n",
       "      <td>112.54.208.157</td>\n",
       "      <td>vasstdc27m7nks3</td>\n",
       "    </tr>\n",
       "    <tr>\n",
       "      <th>3</th>\n",
       "      <td>3</td>\n",
       "      <td>3939ac3ef7d472a59a9c5f893dd3e39fh9ofi</td>\n",
       "      <td>jefix</td>\n",
       "      <td>jewelry</td>\n",
       "      <td>phone4</td>\n",
       "      <td>9759243157894736</td>\n",
       "      <td>in</td>\n",
       "      <td>18.99.175.133</td>\n",
       "      <td>vasstdc27m7nks3</td>\n",
       "    </tr>\n",
       "    <tr>\n",
       "      <th>4</th>\n",
       "      <td>4</td>\n",
       "      <td>8393c48eaf4b8fa96886edc7cf27b372dsibi</td>\n",
       "      <td>jefix</td>\n",
       "      <td>jewelry</td>\n",
       "      <td>phone5</td>\n",
       "      <td>9759243157894736</td>\n",
       "      <td>in</td>\n",
       "      <td>145.138.5.37</td>\n",
       "      <td>vasstdc27m7nks3</td>\n",
       "    </tr>\n",
       "  </tbody>\n",
       "</table>\n",
       "</div>"
      ],
      "text/plain": [
       "   bid_id                              bidder_id auction merchandise  device  \\\n",
       "0       0  8dac2b259fd1c6d1120e519fb1ac14fbqvax8   ewmzr     jewelry  phone0   \n",
       "1       1  668d393e858e8126275433046bbd35c6tywop   aeqok   furniture  phone1   \n",
       "2       2  aa5f360084278b35d746fa6af3a7a1a5ra3xe   wa00e  home goods  phone2   \n",
       "3       3  3939ac3ef7d472a59a9c5f893dd3e39fh9ofi   jefix     jewelry  phone4   \n",
       "4       4  8393c48eaf4b8fa96886edc7cf27b372dsibi   jefix     jewelry  phone5   \n",
       "\n",
       "               time country              ip              url  \n",
       "0  9759243157894736      us   69.166.231.58  vasstdc27m7nks3  \n",
       "1  9759243157894736      in   50.201.125.84  jmqlhflrzwuay9c  \n",
       "2  9759243157894736      py  112.54.208.157  vasstdc27m7nks3  \n",
       "3  9759243157894736      in   18.99.175.133  vasstdc27m7nks3  \n",
       "4  9759243157894736      in    145.138.5.37  vasstdc27m7nks3  "
      ]
     },
     "execution_count": 3,
     "metadata": {},
     "output_type": "execute_result"
    }
   ],
   "source": [
    "bids_df.head()"
   ]
  },
  {
   "cell_type": "code",
   "execution_count": 4,
   "id": "f265c334-ad4a-43aa-a884-a741eed7b137",
   "metadata": {},
   "outputs": [
    {
     "data": {
      "text/html": [
       "<div>\n",
       "<style scoped>\n",
       "    .dataframe tbody tr th:only-of-type {\n",
       "        vertical-align: middle;\n",
       "    }\n",
       "\n",
       "    .dataframe tbody tr th {\n",
       "        vertical-align: top;\n",
       "    }\n",
       "\n",
       "    .dataframe thead th {\n",
       "        text-align: right;\n",
       "    }\n",
       "</style>\n",
       "<table border=\"1\" class=\"dataframe\">\n",
       "  <thead>\n",
       "    <tr style=\"text-align: right;\">\n",
       "      <th></th>\n",
       "      <th>bidder_id</th>\n",
       "      <th>payment_account</th>\n",
       "      <th>address</th>\n",
       "      <th>outcome</th>\n",
       "    </tr>\n",
       "  </thead>\n",
       "  <tbody>\n",
       "    <tr>\n",
       "      <th>0</th>\n",
       "      <td>91a3c57b13234af24875c56fb7e2b2f4rb56a</td>\n",
       "      <td>a3d2de7675556553a5f08e4c88d2c228754av</td>\n",
       "      <td>a3d2de7675556553a5f08e4c88d2c228vt0u4</td>\n",
       "      <td>0.0</td>\n",
       "    </tr>\n",
       "    <tr>\n",
       "      <th>1</th>\n",
       "      <td>624f258b49e77713fc34034560f93fb3hu3jo</td>\n",
       "      <td>a3d2de7675556553a5f08e4c88d2c228v1sga</td>\n",
       "      <td>ae87054e5a97a8f840a3991d12611fdcrfbq3</td>\n",
       "      <td>0.0</td>\n",
       "    </tr>\n",
       "    <tr>\n",
       "      <th>2</th>\n",
       "      <td>1c5f4fc669099bfbfac515cd26997bd12ruaj</td>\n",
       "      <td>a3d2de7675556553a5f08e4c88d2c2280cybl</td>\n",
       "      <td>92520288b50f03907041887884ba49c0cl0pd</td>\n",
       "      <td>0.0</td>\n",
       "    </tr>\n",
       "    <tr>\n",
       "      <th>3</th>\n",
       "      <td>4bee9aba2abda51bf43d639013d6efe12iycd</td>\n",
       "      <td>51d80e233f7b6a7dfdee484a3c120f3b2ita8</td>\n",
       "      <td>4cb9717c8ad7e88a9a284989dd79b98dbevyi</td>\n",
       "      <td>0.0</td>\n",
       "    </tr>\n",
       "    <tr>\n",
       "      <th>4</th>\n",
       "      <td>4ab12bc61c82ddd9c2d65e60555808acqgos1</td>\n",
       "      <td>a3d2de7675556553a5f08e4c88d2c22857ddh</td>\n",
       "      <td>2a96c3ce94b3be921e0296097b88b56a7x1ji</td>\n",
       "      <td>0.0</td>\n",
       "    </tr>\n",
       "  </tbody>\n",
       "</table>\n",
       "</div>"
      ],
      "text/plain": [
       "                               bidder_id  \\\n",
       "0  91a3c57b13234af24875c56fb7e2b2f4rb56a   \n",
       "1  624f258b49e77713fc34034560f93fb3hu3jo   \n",
       "2  1c5f4fc669099bfbfac515cd26997bd12ruaj   \n",
       "3  4bee9aba2abda51bf43d639013d6efe12iycd   \n",
       "4  4ab12bc61c82ddd9c2d65e60555808acqgos1   \n",
       "\n",
       "                         payment_account  \\\n",
       "0  a3d2de7675556553a5f08e4c88d2c228754av   \n",
       "1  a3d2de7675556553a5f08e4c88d2c228v1sga   \n",
       "2  a3d2de7675556553a5f08e4c88d2c2280cybl   \n",
       "3  51d80e233f7b6a7dfdee484a3c120f3b2ita8   \n",
       "4  a3d2de7675556553a5f08e4c88d2c22857ddh   \n",
       "\n",
       "                                 address  outcome  \n",
       "0  a3d2de7675556553a5f08e4c88d2c228vt0u4      0.0  \n",
       "1  ae87054e5a97a8f840a3991d12611fdcrfbq3      0.0  \n",
       "2  92520288b50f03907041887884ba49c0cl0pd      0.0  \n",
       "3  4cb9717c8ad7e88a9a284989dd79b98dbevyi      0.0  \n",
       "4  2a96c3ce94b3be921e0296097b88b56a7x1ji      0.0  "
      ]
     },
     "execution_count": 4,
     "metadata": {},
     "output_type": "execute_result"
    }
   ],
   "source": [
    "train_df.head()"
   ]
  },
  {
   "cell_type": "code",
   "execution_count": 5,
   "id": "439f2de8-ff49-4e6f-b92a-7148bf60176b",
   "metadata": {},
   "outputs": [
    {
     "data": {
      "text/plain": [
       "(7656334, 9)"
      ]
     },
     "execution_count": 5,
     "metadata": {},
     "output_type": "execute_result"
    }
   ],
   "source": [
    "bids_df.shape"
   ]
  },
  {
   "cell_type": "code",
   "execution_count": 6,
   "id": "7c858c8d-36f9-4e1e-9142-5cef18119f44",
   "metadata": {},
   "outputs": [
    {
     "data": {
      "text/plain": [
       "(2013, 4)"
      ]
     },
     "execution_count": 6,
     "metadata": {},
     "output_type": "execute_result"
    }
   ],
   "source": [
    "train_df.shape"
   ]
  },
  {
   "cell_type": "markdown",
   "id": "216e8953-82db-4fdb-86e6-9a5da6afece8",
   "metadata": {},
   "source": [
    "#### Checking the missing values"
   ]
  },
  {
   "cell_type": "code",
   "execution_count": 7,
   "id": "6bd72473-1cdb-4e88-90c4-23e5a9b6942d",
   "metadata": {},
   "outputs": [],
   "source": [
    "# bids_df.isnull().sum()"
   ]
  },
  {
   "cell_type": "markdown",
   "id": "60a173fb-b59c-4bf9-bb6f-d7288cf84be8",
   "metadata": {},
   "source": [
    "In bids data, the column country has some missing values."
   ]
  },
  {
   "cell_type": "code",
   "execution_count": 8,
   "id": "b1b214e7-2e72-459a-bb0d-23073be51e1b",
   "metadata": {},
   "outputs": [],
   "source": [
    "# percent_missing = bids_df['country'].isnull().mean()\n",
    "# print(f\"Percentage of missing country data: {percent_missing*100: .2f}%\")"
   ]
  },
  {
   "cell_type": "markdown",
   "id": "2d88d100-a2a8-40db-8630-fca69b8f45b7",
   "metadata": {},
   "source": [
    "Hence, only a small portion of data is missing in the entire dataset."
   ]
  },
  {
   "cell_type": "markdown",
   "id": "3fdc8df3-f2d5-40ce-a8f7-c5aca35ff9e9",
   "metadata": {},
   "source": [
    "#### Distribution of the countries"
   ]
  },
  {
   "cell_type": "code",
   "execution_count": 9,
   "id": "bcbe4940-a879-4140-adfd-4db1a3cee683",
   "metadata": {},
   "outputs": [],
   "source": [
    "# unique_countries = bids_df['country'].value_counts()"
   ]
  },
  {
   "cell_type": "code",
   "execution_count": 10,
   "id": "6e6a82ba-b398-44ee-b06a-79300c1a640d",
   "metadata": {},
   "outputs": [],
   "source": [
    "# fig, ax = plt.subplots(figsize = (15, 4))\n",
    "# countries_distribution = sns.barplot(x = unique_countries.index, y = unique_countries.values, ax = ax)                        \n",
    "# ax.get_xaxis().set_visible(False)\n",
    "\n",
    "# plt.show()"
   ]
  },
  {
   "cell_type": "markdown",
   "id": "d4b4a845-b9ff-4b9a-9cc7-2cc1b85250a9",
   "metadata": {},
   "source": [
    "We can see the distribution of the countries and find that there is one country that is significantly higher than the rest. Hence, mode imputation may be a good approach."
   ]
  },
  {
   "cell_type": "code",
   "execution_count": 11,
   "id": "80f4fef3-74bd-4558-aedc-6d4d98d49fb8",
   "metadata": {},
   "outputs": [],
   "source": [
    "# bids_df['country'] = bids_df['country'].fillna(bids_df['country'].mode()[0])"
   ]
  },
  {
   "cell_type": "code",
   "execution_count": 12,
   "id": "d45e3ea4-f37c-4bbb-a232-5e6c2419dcae",
   "metadata": {},
   "outputs": [],
   "source": [
    "# bids_df.isnull().sum()"
   ]
  },
  {
   "cell_type": "code",
   "execution_count": 13,
   "id": "c7c3db4f-95ba-4cbf-bcae-da313f150e0a",
   "metadata": {},
   "outputs": [],
   "source": [
    "# train_df.isnull().sum()"
   ]
  },
  {
   "cell_type": "markdown",
   "id": "f6d5581a-0b25-4c2c-91a6-bc9775df98aa",
   "metadata": {},
   "source": [
    "Train data does not have any missing data."
   ]
  },
  {
   "cell_type": "markdown",
   "id": "a9eb6bd7-c095-4156-b4b3-eb0aa3b866c9",
   "metadata": {},
   "source": [
    "#### Analyze Dataset: The datasets are provided by two part:"
   ]
  },
  {
   "cell_type": "markdown",
   "id": "d53cb11e-2eb4-4120-86c7-503c859c6b5c",
   "metadata": {},
   "source": [
    "1. train.csv: the base bidder dataset with labels. Besides label, it also contains unique bidder_id followed with payment_account, address and outcome;\n",
    "2. bids.csv: the dataset contains some more useful information associated with unique key bid_id, corresponding with bidder_id, auction, merchandise, device, time, country, ip, and url. time and url are encrypted information."
   ]
  },
  {
   "cell_type": "markdown",
   "id": "b3e0ae35-84e8-4f36-bc97-b9f0555da4bb",
   "metadata": {},
   "source": [
    "Since both of these two files contains the unique key bidder_id, we firstly joined these data by this key. Our object is to try to find each bid is made by a human or robot, thus, we only consider the data which have bids information and labelled. We will left join on train.csv and check the joined data for missing bids information."
   ]
  },
  {
   "cell_type": "code",
   "execution_count": 14,
   "id": "436a8be1-1f50-4790-a733-0cd128f2babb",
   "metadata": {},
   "outputs": [],
   "source": [
    "# Populate train and test data with bid details\n",
    "def populate_bids(df):\n",
    "    df = pd.merge(left=df, right=bids_df, how='left', left_on='bidder_id', right_on='bidder_id')\n",
    "    return df"
   ]
  },
  {
   "cell_type": "code",
   "execution_count": 15,
   "id": "b2196241-9058-4047-bf4a-fb5293c94e6f",
   "metadata": {},
   "outputs": [
    {
     "data": {
      "text/plain": [
       "bidder_id             0\n",
       "payment_account       0\n",
       "address               0\n",
       "bid_id               70\n",
       "auction              70\n",
       "merchandise          70\n",
       "device               70\n",
       "time                 70\n",
       "country            6228\n",
       "ip                   70\n",
       "url                  70\n",
       "dtype: int64"
      ]
     },
     "execution_count": 15,
     "metadata": {},
     "output_type": "execute_result"
    }
   ],
   "source": [
    "test = populate_bids(test_df)\n",
    "test.isna().sum()"
   ]
  },
  {
   "cell_type": "code",
   "execution_count": 16,
   "id": "9fc262fe-7bfd-42e9-a123-4d900fb87de9",
   "metadata": {},
   "outputs": [
    {
     "data": {
      "text/plain": [
       "bidder_id             0\n",
       "payment_account       0\n",
       "address               0\n",
       "outcome               0\n",
       "bid_id               29\n",
       "auction              29\n",
       "merchandise          29\n",
       "device               29\n",
       "time                 29\n",
       "country            2730\n",
       "ip                   29\n",
       "url                  29\n",
       "dtype: int64"
      ]
     },
     "execution_count": 16,
     "metadata": {},
     "output_type": "execute_result"
    }
   ],
   "source": [
    "train = populate_bids(train_df)\n",
    "train.isna().sum()"
   ]
  },
  {
   "cell_type": "markdown",
   "id": "a374fe3f-b7a2-40f0-aea0-b400d7f67f22",
   "metadata": {},
   "source": [
    "Data Cleaning: Since we can see all the missing values are from the variables that come from bids, we want to check if there exist some of bidder_id do not have any bids."
   ]
  },
  {
   "cell_type": "code",
   "execution_count": 17,
   "id": "a0698e3f-1bb7-4790-ad09-5e4a179b9408",
   "metadata": {},
   "outputs": [
    {
     "data": {
      "text/plain": [
       "29"
      ]
     },
     "execution_count": 17,
     "metadata": {},
     "output_type": "execute_result"
    }
   ],
   "source": [
    "nobids_train = train[pd.isnull(train['bid_id'])]['bidder_id'].unique()\n",
    "len(nobids_train)"
   ]
  },
  {
   "cell_type": "code",
   "execution_count": 18,
   "id": "a360695f-e820-4c7e-9e6f-d919f6283687",
   "metadata": {},
   "outputs": [
    {
     "data": {
      "text/plain": [
       "70"
      ]
     },
     "execution_count": 18,
     "metadata": {},
     "output_type": "execute_result"
    }
   ],
   "source": [
    "nobids_test = test[pd.isnull(test['bid_id'])]['bidder_id'].unique()\n",
    "len(nobids_test)"
   ]
  },
  {
   "cell_type": "code",
   "execution_count": 19,
   "id": "ee5c21af-8830-4d68-94eb-c61704f2df75",
   "metadata": {},
   "outputs": [
    {
     "data": {
      "text/plain": [
       "17583      0.0\n",
       "42424      0.0\n",
       "129439     0.0\n",
       "214915     0.0\n",
       "221776     0.0\n",
       "226432     0.0\n",
       "255107     0.0\n",
       "305088     0.0\n",
       "333331     0.0\n",
       "409451     0.0\n",
       "654549     0.0\n",
       "657208     0.0\n",
       "788183     0.0\n",
       "790914     0.0\n",
       "794927     0.0\n",
       "810369     0.0\n",
       "883351     0.0\n",
       "1018748    0.0\n",
       "1019599    0.0\n",
       "1021349    0.0\n",
       "1123023    0.0\n",
       "1139921    0.0\n",
       "1217466    0.0\n",
       "1465813    0.0\n",
       "1482542    0.0\n",
       "1648201    0.0\n",
       "1974826    0.0\n",
       "2139077    0.0\n",
       "2999380    0.0\n",
       "Name: outcome, dtype: float64"
      ]
     },
     "execution_count": 19,
     "metadata": {},
     "output_type": "execute_result"
    }
   ],
   "source": [
    "# Check outcome for these in the train\n",
    "train[train['bidder_id'].isin(nobids_train)]['outcome']"
   ]
  },
  {
   "cell_type": "markdown",
   "id": "c1f27968-03d1-4c9b-b2ca-d7acd32b2ebd",
   "metadata": {},
   "source": [
    "##### There exist 29 bidder in training data set having no bid data. After checking with their labels, they were all marked as human. Since we aim to detect robot, we will just ignore them. We will update populate_bids function."
   ]
  },
  {
   "cell_type": "code",
   "execution_count": 20,
   "id": "dd388325-aac3-47aa-82a4-1510c8e23296",
   "metadata": {},
   "outputs": [],
   "source": [
    "# Populate train and test data with bid details\n",
    "def populate_bids_with_data_cleanup(df):\n",
    "    df = pd.merge(left=df, right=bids_df, how='left', left_on='bidder_id', right_on='bidder_id')\n",
    "    nobids = df[pd.isnull(df['bid_id'])]['bidder_id'].unique()\n",
    "    # for all the missing value observation, drop it\n",
    "    df = df[~df['bidder_id'].isin(nobids)]\n",
    "    return df"
   ]
  },
  {
   "cell_type": "code",
   "execution_count": 21,
   "id": "726fadd0-f988-4359-bd41-a9fb41127ac3",
   "metadata": {},
   "outputs": [
    {
     "data": {
      "text/plain": [
       "bidder_id             0\n",
       "payment_account       0\n",
       "address               0\n",
       "bid_id                0\n",
       "auction               0\n",
       "merchandise           0\n",
       "device                0\n",
       "time                  0\n",
       "country            6158\n",
       "ip                    0\n",
       "url                   0\n",
       "dtype: int64"
      ]
     },
     "execution_count": 21,
     "metadata": {},
     "output_type": "execute_result"
    }
   ],
   "source": [
    "test_data = populate_bids_with_data_cleanup(test_df)\n",
    "test_data.isna().sum()"
   ]
  },
  {
   "cell_type": "code",
   "execution_count": 22,
   "id": "f5f416fe-ceb5-47d9-98c4-2d6f2fa2f77a",
   "metadata": {},
   "outputs": [
    {
     "data": {
      "text/plain": [
       "bidder_id             0\n",
       "payment_account       0\n",
       "address               0\n",
       "outcome               0\n",
       "bid_id                0\n",
       "auction               0\n",
       "merchandise           0\n",
       "device                0\n",
       "time                  0\n",
       "country            2701\n",
       "ip                    0\n",
       "url                   0\n",
       "dtype: int64"
      ]
     },
     "execution_count": 22,
     "metadata": {},
     "output_type": "execute_result"
    }
   ],
   "source": [
    "train_data = populate_bids_with_data_cleanup(train_df)\n",
    "train_data.isna().sum()"
   ]
  },
  {
   "cell_type": "code",
   "execution_count": 23,
   "id": "a5f2363e-f9b5-46d7-8bbd-edabbacaf572",
   "metadata": {},
   "outputs": [
    {
     "name": "stdout",
     "output_type": "stream",
     "text": [
      " 0.09 % observations missing country entry in train data.\n"
     ]
    }
   ],
   "source": [
    "# check the missing value ratio of the country entry in train data\n",
    "count_miss_ratio_train = pd.isnull(train_data['country']).sum()/len(train_data)*100\n",
    "print(f\" %0.2f %% observations missing country entry in train data.\" %\n",
    "      float(count_miss_ratio_train))"
   ]
  },
  {
   "cell_type": "code",
   "execution_count": null,
   "id": "ebeabedc",
   "metadata": {},
   "outputs": [],
   "source": []
  },
  {
   "cell_type": "code",
   "execution_count": null,
   "id": "eb58281a",
   "metadata": {},
   "outputs": [],
   "source": []
  },
  {
   "cell_type": "code",
   "execution_count": 24,
   "id": "09efd5e5-24c6-48bd-aac1-6e7acf08293f",
   "metadata": {},
   "outputs": [
    {
     "name": "stdout",
     "output_type": "stream",
     "text": [
      " 0.13 % observations missing country entry in test data.\n"
     ]
    }
   ],
   "source": [
    "# check the missing value ratio of the country entry in test data\n",
    "count_miss_ratio_test = pd.isnull(test_data['country']).sum()/len(test_data)*100\n",
    "print(f\" %0.2f %% observations missing country entry in test data.\" %\n",
    "      float(count_miss_ratio_test))"
   ]
  },
  {
   "cell_type": "code",
   "execution_count": null,
   "id": "f9cc9cdb",
   "metadata": {},
   "outputs": [],
   "source": []
  },
  {
   "cell_type": "markdown",
   "id": "c1051663-4fb7-4a17-8d7e-3b1c7deaca66",
   "metadata": {},
   "source": [
    "For the full data set, there is only few of observations missing country entry. We will just ignore the missing country entry data."
   ]
  },
  {
   "cell_type": "code",
   "execution_count": 25,
   "id": "4d13fecf-6393-411b-bb88-1e38b7a9ca92",
   "metadata": {},
   "outputs": [],
   "source": [
    "# Populate train and test data with bid details\n",
    "def populate_bids_with_data_cleanup_final(df):\n",
    "    df = pd.merge(left=df, right=bids_df, how='left', left_on='bidder_id', right_on='bidder_id')\n",
    "    nobids = df[pd.isnull(df['bid_id'])]['bidder_id'].unique()\n",
    "    # for all the missing value observation, drop it\n",
    "    df = df[~df['bidder_id'].isin(nobids)]\n",
    "    # remove missing country data\n",
    "    df = df.dropna()\n",
    "    return df"
   ]
  },
  {
   "cell_type": "code",
   "execution_count": 26,
   "id": "73495a46-5183-4c4f-8fb0-9ec5df151040",
   "metadata": {},
   "outputs": [
    {
     "data": {
      "text/plain": [
       "bidder_id          0\n",
       "payment_account    0\n",
       "address            0\n",
       "outcome            0\n",
       "bid_id             0\n",
       "auction            0\n",
       "merchandise        0\n",
       "device             0\n",
       "time               0\n",
       "country            0\n",
       "ip                 0\n",
       "url                0\n",
       "dtype: int64"
      ]
     },
     "execution_count": 26,
     "metadata": {},
     "output_type": "execute_result"
    }
   ],
   "source": [
    "train = populate_bids_with_data_cleanup_final(train_df)\n",
    "train.isna().sum()"
   ]
  },
  {
   "cell_type": "code",
   "execution_count": 27,
   "id": "0019885a-1a0a-4915-b454-78d6d9fe23e5",
   "metadata": {},
   "outputs": [
    {
     "data": {
      "text/plain": [
       "bidder_id          0\n",
       "payment_account    0\n",
       "address            0\n",
       "bid_id             0\n",
       "auction            0\n",
       "merchandise        0\n",
       "device             0\n",
       "time               0\n",
       "country            0\n",
       "ip                 0\n",
       "url                0\n",
       "dtype: int64"
      ]
     },
     "execution_count": 27,
     "metadata": {},
     "output_type": "execute_result"
    }
   ],
   "source": [
    "test = populate_bids_with_data_cleanup_final(test_df)\n",
    "test.isna().sum()"
   ]
  },
  {
   "cell_type": "markdown",
   "id": "9b6b140c-6422-4e31-8474-6aa40bb11449",
   "metadata": {},
   "source": [
    "### Exploring data"
   ]
  },
  {
   "cell_type": "markdown",
   "id": "3dd3f4ac-72ad-490b-8dac-adde10a15340",
   "metadata": {},
   "source": [
    "#### Checking the unique no of each feature in train and bids data"
   ]
  },
  {
   "cell_type": "code",
   "execution_count": 28,
   "id": "55c359c2-86d0-445a-a8aa-825a4aac53c4",
   "metadata": {},
   "outputs": [
    {
     "name": "stdout",
     "output_type": "stream",
     "text": [
      "Total no of row in train:          3068523\n",
      "Total no of bids in train:         3068523\n",
      "Total no of bidder in train:      1983\n",
      "Total no of payment in train:     1983\n",
      "Total no of address in train:     1983\n",
      "Total no of auction in train:     12740\n",
      "Total no of merchandise in train: 10\n",
      "Total no of device in train:      5726\n",
      "Total no of country in train:     198\n",
      "Total no of ip in train:          1028810\n",
      "Total no of url in train:         663265\n"
     ]
    }
   ],
   "source": [
    "print(f\"Total no of row in train:          {len(train)}\")\n",
    "print(f\"Total no of bids in train:         {len(train['bid_id'].unique())}\")\n",
    "print(f\"Total no of bidder in train:      {len(train['bidder_id'].unique())}\")\n",
    "print(f\"Total no of payment in train:     {len(train['payment_account'].unique())}\")\n",
    "print(f\"Total no of address in train:     {len(train['address'].unique())}\")\n",
    "print(f\"Total no of auction in train:     {len(train['auction'].unique())}\")\n",
    "print(f\"Total no of merchandise in train: {len(train['merchandise'].unique())}\")\n",
    "print(f\"Total no of device in train:      {len(train['device'].unique())}\")\n",
    "print(f\"Total no of country in train:     {len(train['country'].unique())}\")\n",
    "print(f\"Total no of ip in train:          {len(train['ip'].unique())}\")\n",
    "print(f\"Total no of url in train:         {len(train['url'].unique())}\")"
   ]
  },
  {
   "cell_type": "code",
   "execution_count": 29,
   "id": "d3b18399-04df-40b5-bf18-51086061efce",
   "metadata": {},
   "outputs": [
    {
     "name": "stdout",
     "output_type": "stream",
     "text": [
      "total bids made by robots in data set: 412153\n",
      "total bids made by human in data set:  2656370\n",
      "the ratio of made by robot vs. bids made by human in data set: 3:20\n"
     ]
    }
   ],
   "source": [
    "print(f\"total bids made by robots in data set: {len(train[train['outcome'] == 1])}\")\n",
    "print(f\"total bids made by human in data set:  {len(train[train['outcome'] == 0])}\")\n",
    "print(\"the ratio of made by robot vs. bids made by human in data set: 3:20\")"
   ]
  },
  {
   "cell_type": "markdown",
   "id": "df1bb4ce-0c0b-4702-8c71-2be51b032407",
   "metadata": {},
   "source": [
    "### Feature Engineering"
   ]
  },
  {
   "cell_type": "code",
   "execution_count": 30,
   "id": "0b96bed1-9094-4fd7-be6e-bcb30df4eddc",
   "metadata": {},
   "outputs": [],
   "source": [
    "# bidding time difference per user (bidder_id)\n",
    "def calculate_bidding_time_difference_per_user(df):\n",
    "    df = df.sort_values(by=['time'])\n",
    "    df['timediffs'] = df.groupby('bidder_id')['time'].transform(pd.Series.diff)\n",
    "    return df"
   ]
  },
  {
   "cell_type": "code",
   "execution_count": 31,
   "id": "16018f47-dce9-4cb2-9343-2518068bc81b",
   "metadata": {},
   "outputs": [],
   "source": [
    "# number of bids a user made per auction\n",
    "def bids_user_made_per_auction(df):\n",
    "    bids_per_auction = df.groupby(['auction', 'bidder_id']).size()\n",
    "    return bids_per_auction.to_frame()"
   ]
  },
  {
   "cell_type": "code",
   "execution_count": 32,
   "id": "a8901e7f-2741-4949-a8d4-205ff48fe1c9",
   "metadata": {},
   "outputs": [],
   "source": [
    "# proportion of bots for each country\n",
    "def proportion_of_bots_for_each_country(df):\n",
    "    pbots_country = df[df['outcome'] == 1].groupby('country').size()/df.groupby('country').size()\n",
    "    pbots_country = pbots_country.fillna(0)\n",
    "    return pbots_country.to_frame()"
   ]
  },
  {
   "cell_type": "code",
   "execution_count": 33,
   "id": "974db642-0314-4e3b-9d5f-393804e80f47",
   "metadata": {},
   "outputs": [],
   "source": [
    "# proportion of bots per device\n",
    "def proportion_of_bots_per_device(df):\n",
    "    pbots_device = df[df['outcome'] == 1].groupby('device').size()/df.groupby('device').size()\n",
    "    pbots_device = pbots_device.fillna(0)\n",
    "    return pbots_device.to_frame()"
   ]
  },
  {
   "cell_type": "code",
   "execution_count": 34,
   "id": "edd1e506-4bfd-4a02-8ce7-76e1a055b53d",
   "metadata": {},
   "outputs": [],
   "source": [
    "# number of unique ip to number of bids ratio\n",
    "def number_of_unique_ip_to_number_of_bids_ratio(df):\n",
    "    ip_bids_ratio = df.groupby('bidder_id')['ip'].nunique()/df.groupby('bidder_id')['bid_id'].nunique()\n",
    "    return ip_bids_ratio.to_frame()"
   ]
  },
  {
   "cell_type": "code",
   "execution_count": 35,
   "id": "87fcb90e-8dff-4e73-aab8-0cf4ee9b51d0",
   "metadata": {},
   "outputs": [],
   "source": [
    "from scipy import stats\n",
    "\n",
    "def ent(data):\n",
    "    p_data = data.value_counts()/len(data)  # calculates the probabilities\n",
    "    # input probabilities to get the entropy\n",
    "    entropy = stats.entropy(p_data)\n",
    "    return entropy"
   ]
  },
  {
   "cell_type": "code",
   "execution_count": 36,
   "id": "0467d83b-171b-450a-945a-737758a1592e",
   "metadata": {},
   "outputs": [],
   "source": [
    "# mean per auction url entropy for each user\n",
    "# Input a pandas series\n",
    "def mean_per_auctio_url_entropy_for_each_user(df):\n",
    "    auction_url_entropy = df.groupby(['auction', 'bidder_id'])['url'].apply(ent)\n",
    "    return auction_url_entropy.groupby('bidder_id').mean().reset_index()"
   ]
  },
  {
   "cell_type": "code",
   "execution_count": 37,
   "id": "103ea079-c6c4-46c0-905d-d4a2670ba171",
   "metadata": {},
   "outputs": [],
   "source": [
    "def feature_engineering(df):\n",
    "    df = df.sort_values(by=['time'])\n",
    "    df['timediffs'] = df.groupby('bidder_id')['time'].transform(pd.Series.diff)\n",
    "    df = pd.merge(df, bids_user_made_per_auction(df), on=['auction', 'bidder_id'], how='left')\n",
    "    df = pd.merge(df, proportion_of_bots_for_each_country(df), on='country', how='left')\n",
    "    df = pd.merge(df, proportion_of_bots_per_device(df), on='device', how='left')\n",
    "    df = pd.merge(df, number_of_unique_ip_to_number_of_bids_ratio(df), on='bidder_id', how='left')\n",
    "    df = pd.merge(df, mean_per_auctio_url_entropy_for_each_user(df), on='bidder_id', how='left')\n",
    "    return df"
   ]
  },
  {
   "cell_type": "code",
   "execution_count": 38,
   "id": "e24b1f10-f93b-4e32-83ce-1a4c8693fdb3",
   "metadata": {},
   "outputs": [
    {
     "name": "stderr",
     "output_type": "stream",
     "text": [
      "/var/folders/rz/q4yf3l591kj4lmf27ykwkt9w0000gp/T/ipykernel_7114/3020834649.py:7: FutureWarning: Passing 'suffixes' which cause duplicate columns {'0_x'} in the result is deprecated and will raise a MergeError in a future version.\n",
      "  df = pd.merge(df, number_of_unique_ip_to_number_of_bids_ratio(df), on='bidder_id', how='left')\n"
     ]
    },
    {
     "data": {
      "text/plain": [
       "bidder_id             0\n",
       "payment_account       0\n",
       "address               0\n",
       "outcome               0\n",
       "bid_id                0\n",
       "auction               0\n",
       "merchandise           0\n",
       "device                0\n",
       "time                  0\n",
       "country               0\n",
       "ip                    0\n",
       "url_x                 0\n",
       "timediffs          1983\n",
       "0_x                   0\n",
       "0_y                   0\n",
       "0_x                   0\n",
       "0_y                   0\n",
       "url_y                 0\n",
       "dtype: int64"
      ]
     },
     "execution_count": 38,
     "metadata": {},
     "output_type": "execute_result"
    }
   ],
   "source": [
    "train = feature_engineering(train)\n",
    "train.isnull().sum()"
   ]
  },
  {
   "cell_type": "code",
   "execution_count": 39,
   "id": "0f9bb367-d064-4980-981d-eb8fe583bd53",
   "metadata": {},
   "outputs": [
    {
     "data": {
      "text/plain": [
       "Index(['bidder_id', 'payment_account', 'address', 'outcome', 'bid_id',\n",
       "       'auction', 'merchandise', 'device', 'time', 'country', 'ip', 'url_x',\n",
       "       'timediffs', '0_x', '0_y', '0_x', '0_y', 'url_y'],\n",
       "      dtype='object')"
      ]
     },
     "execution_count": 39,
     "metadata": {},
     "output_type": "execute_result"
    }
   ],
   "source": [
    "train.columns"
   ]
  },
  {
   "cell_type": "code",
   "execution_count": 40,
   "id": "401ef3ab-7456-4971-8205-9f1862cbb08e",
   "metadata": {},
   "outputs": [
    {
     "data": {
      "text/html": [
       "<div>\n",
       "<style scoped>\n",
       "    .dataframe tbody tr th:only-of-type {\n",
       "        vertical-align: middle;\n",
       "    }\n",
       "\n",
       "    .dataframe tbody tr th {\n",
       "        vertical-align: top;\n",
       "    }\n",
       "\n",
       "    .dataframe thead th {\n",
       "        text-align: right;\n",
       "    }\n",
       "</style>\n",
       "<table border=\"1\" class=\"dataframe\">\n",
       "  <thead>\n",
       "    <tr style=\"text-align: right;\">\n",
       "      <th></th>\n",
       "      <th>bidder_id</th>\n",
       "      <th>payment_account</th>\n",
       "      <th>address</th>\n",
       "      <th>outcome</th>\n",
       "      <th>bid_id</th>\n",
       "      <th>auction</th>\n",
       "      <th>merchandise</th>\n",
       "      <th>device</th>\n",
       "      <th>time</th>\n",
       "      <th>country</th>\n",
       "      <th>ip</th>\n",
       "      <th>url</th>\n",
       "      <th>timediffs</th>\n",
       "      <th>bids_per_auction</th>\n",
       "      <th>pbots_country</th>\n",
       "      <th>pbots_device</th>\n",
       "      <th>ip_bids_ratio</th>\n",
       "      <th>auction_url_entropy</th>\n",
       "    </tr>\n",
       "  </thead>\n",
       "  <tbody>\n",
       "    <tr>\n",
       "      <th>0</th>\n",
       "      <td>76218e14c379c12d599dae9e1c00b61a3i5b2</td>\n",
       "      <td>a3d2de7675556553a5f08e4c88d2c228sjo4q</td>\n",
       "      <td>ca8d4b018cb62966eebb2974f5a83b4fstk6z</td>\n",
       "      <td>0.0</td>\n",
       "      <td>2351187.0</td>\n",
       "      <td>6hpvy</td>\n",
       "      <td>sporting goods</td>\n",
       "      <td>phone1161</td>\n",
       "      <td>9.631917e+15</td>\n",
       "      <td>cz</td>\n",
       "      <td>121.169.96.51</td>\n",
       "      <td>f33fl83l4vrg6is</td>\n",
       "      <td>NaN</td>\n",
       "      <td>368</td>\n",
       "      <td>0.089199</td>\n",
       "      <td>0.020161</td>\n",
       "      <td>0.178624</td>\n",
       "      <td>1.463760</td>\n",
       "    </tr>\n",
       "    <tr>\n",
       "      <th>1</th>\n",
       "      <td>6e178db6d17d21aa88aaca5bf15c2761lc500</td>\n",
       "      <td>a3d2de7675556553a5f08e4c88d2c228mqaf6</td>\n",
       "      <td>0d11440b07e5e2c8550af74b728ab4edk47gk</td>\n",
       "      <td>0.0</td>\n",
       "      <td>2351200.0</td>\n",
       "      <td>jqx39</td>\n",
       "      <td>jewelry</td>\n",
       "      <td>phone99</td>\n",
       "      <td>9.631917e+15</td>\n",
       "      <td>sa</td>\n",
       "      <td>174.12.78.255</td>\n",
       "      <td>omwhmwzvrn6ycq6</td>\n",
       "      <td>NaN</td>\n",
       "      <td>15452</td>\n",
       "      <td>0.177281</td>\n",
       "      <td>0.055360</td>\n",
       "      <td>0.583490</td>\n",
       "      <td>0.885604</td>\n",
       "    </tr>\n",
       "    <tr>\n",
       "      <th>2</th>\n",
       "      <td>197e90906939267ace2422e78e8e83889znqp</td>\n",
       "      <td>faef6512727719c3dd147a06ba951c947c4fn</td>\n",
       "      <td>dd7151709002fc3dce968916d8ec00ede03vc</td>\n",
       "      <td>0.0</td>\n",
       "      <td>2351192.0</td>\n",
       "      <td>gst86</td>\n",
       "      <td>home goods</td>\n",
       "      <td>phone348</td>\n",
       "      <td>9.631917e+15</td>\n",
       "      <td>ma</td>\n",
       "      <td>154.151.182.60</td>\n",
       "      <td>vasstdc27m7nks3</td>\n",
       "      <td>NaN</td>\n",
       "      <td>2386</td>\n",
       "      <td>0.095494</td>\n",
       "      <td>0.065255</td>\n",
       "      <td>0.461730</td>\n",
       "      <td>0.809338</td>\n",
       "    </tr>\n",
       "    <tr>\n",
       "      <th>3</th>\n",
       "      <td>f5b2bbad20d1d7ded3ed960393bec0f40u6hn</td>\n",
       "      <td>a3d2de7675556553a5f08e4c88d2c228sezhf</td>\n",
       "      <td>a3d2de7675556553a5f08e4c88d2c228nfhse</td>\n",
       "      <td>0.0</td>\n",
       "      <td>2351190.0</td>\n",
       "      <td>fagyq</td>\n",
       "      <td>sporting goods</td>\n",
       "      <td>phone1</td>\n",
       "      <td>9.631917e+15</td>\n",
       "      <td>in</td>\n",
       "      <td>161.192.187.34</td>\n",
       "      <td>3skc4v2r07bneta</td>\n",
       "      <td>NaN</td>\n",
       "      <td>851</td>\n",
       "      <td>0.133801</td>\n",
       "      <td>0.056095</td>\n",
       "      <td>0.196636</td>\n",
       "      <td>1.747853</td>\n",
       "    </tr>\n",
       "    <tr>\n",
       "      <th>4</th>\n",
       "      <td>f5b2bbad20d1d7ded3ed960393bec0f40u6hn</td>\n",
       "      <td>a3d2de7675556553a5f08e4c88d2c228sezhf</td>\n",
       "      <td>a3d2de7675556553a5f08e4c88d2c228nfhse</td>\n",
       "      <td>0.0</td>\n",
       "      <td>2351188.0</td>\n",
       "      <td>64uay</td>\n",
       "      <td>sporting goods</td>\n",
       "      <td>phone0</td>\n",
       "      <td>9.631917e+15</td>\n",
       "      <td>ke</td>\n",
       "      <td>17.120.130.121</td>\n",
       "      <td>vasstdc27m7nks3</td>\n",
       "      <td>0.0</td>\n",
       "      <td>12</td>\n",
       "      <td>0.035496</td>\n",
       "      <td>0.009222</td>\n",
       "      <td>0.196636</td>\n",
       "      <td>1.747853</td>\n",
       "    </tr>\n",
       "  </tbody>\n",
       "</table>\n",
       "</div>"
      ],
      "text/plain": [
       "                               bidder_id  \\\n",
       "0  76218e14c379c12d599dae9e1c00b61a3i5b2   \n",
       "1  6e178db6d17d21aa88aaca5bf15c2761lc500   \n",
       "2  197e90906939267ace2422e78e8e83889znqp   \n",
       "3  f5b2bbad20d1d7ded3ed960393bec0f40u6hn   \n",
       "4  f5b2bbad20d1d7ded3ed960393bec0f40u6hn   \n",
       "\n",
       "                         payment_account  \\\n",
       "0  a3d2de7675556553a5f08e4c88d2c228sjo4q   \n",
       "1  a3d2de7675556553a5f08e4c88d2c228mqaf6   \n",
       "2  faef6512727719c3dd147a06ba951c947c4fn   \n",
       "3  a3d2de7675556553a5f08e4c88d2c228sezhf   \n",
       "4  a3d2de7675556553a5f08e4c88d2c228sezhf   \n",
       "\n",
       "                                 address  outcome     bid_id auction  \\\n",
       "0  ca8d4b018cb62966eebb2974f5a83b4fstk6z      0.0  2351187.0   6hpvy   \n",
       "1  0d11440b07e5e2c8550af74b728ab4edk47gk      0.0  2351200.0   jqx39   \n",
       "2  dd7151709002fc3dce968916d8ec00ede03vc      0.0  2351192.0   gst86   \n",
       "3  a3d2de7675556553a5f08e4c88d2c228nfhse      0.0  2351190.0   fagyq   \n",
       "4  a3d2de7675556553a5f08e4c88d2c228nfhse      0.0  2351188.0   64uay   \n",
       "\n",
       "      merchandise     device          time country              ip  \\\n",
       "0  sporting goods  phone1161  9.631917e+15      cz   121.169.96.51   \n",
       "1         jewelry    phone99  9.631917e+15      sa   174.12.78.255   \n",
       "2      home goods   phone348  9.631917e+15      ma  154.151.182.60   \n",
       "3  sporting goods     phone1  9.631917e+15      in  161.192.187.34   \n",
       "4  sporting goods     phone0  9.631917e+15      ke  17.120.130.121   \n",
       "\n",
       "               url  timediffs  bids_per_auction  pbots_country  pbots_device  \\\n",
       "0  f33fl83l4vrg6is        NaN               368       0.089199      0.020161   \n",
       "1  omwhmwzvrn6ycq6        NaN             15452       0.177281      0.055360   \n",
       "2  vasstdc27m7nks3        NaN              2386       0.095494      0.065255   \n",
       "3  3skc4v2r07bneta        NaN               851       0.133801      0.056095   \n",
       "4  vasstdc27m7nks3        0.0                12       0.035496      0.009222   \n",
       "\n",
       "   ip_bids_ratio  auction_url_entropy  \n",
       "0       0.178624             1.463760  \n",
       "1       0.583490             0.885604  \n",
       "2       0.461730             0.809338  \n",
       "3       0.196636             1.747853  \n",
       "4       0.196636             1.747853  "
      ]
     },
     "execution_count": 40,
     "metadata": {},
     "output_type": "execute_result"
    }
   ],
   "source": [
    "# set column names\n",
    "train.columns = ['bidder_id', 'payment_account', 'address', 'outcome',\n",
    "               'bid_id', 'auction', 'merchandise', 'device', 'time', 'country',\n",
    "               'ip', 'url', 'timediffs', 'bids_per_auction', 'pbots_country', 'pbots_device',\n",
    "               'ip_bids_ratio', 'auction_url_entropy']\n",
    "train.head()"
   ]
  },
  {
   "cell_type": "code",
   "execution_count": 41,
   "id": "5d171de4-1ffc-4ce9-980e-e1c1b7f4a782",
   "metadata": {},
   "outputs": [
    {
     "data": {
      "text/html": [
       "<div>\n",
       "<style scoped>\n",
       "    .dataframe tbody tr th:only-of-type {\n",
       "        vertical-align: middle;\n",
       "    }\n",
       "\n",
       "    .dataframe tbody tr th {\n",
       "        vertical-align: top;\n",
       "    }\n",
       "\n",
       "    .dataframe thead th {\n",
       "        text-align: right;\n",
       "    }\n",
       "</style>\n",
       "<table border=\"1\" class=\"dataframe\">\n",
       "  <thead>\n",
       "    <tr style=\"text-align: right;\">\n",
       "      <th></th>\n",
       "      <th>bidder_id</th>\n",
       "      <th>payment_account</th>\n",
       "      <th>address</th>\n",
       "      <th>outcome</th>\n",
       "      <th>bid_id</th>\n",
       "      <th>auction</th>\n",
       "      <th>merchandise</th>\n",
       "      <th>device</th>\n",
       "      <th>time</th>\n",
       "      <th>country</th>\n",
       "      <th>ip</th>\n",
       "      <th>url</th>\n",
       "      <th>timediffs</th>\n",
       "      <th>bids_per_auction</th>\n",
       "      <th>pbots_country</th>\n",
       "      <th>pbots_device</th>\n",
       "      <th>ip_bids_ratio</th>\n",
       "      <th>auction_url_entropy</th>\n",
       "    </tr>\n",
       "  </thead>\n",
       "  <tbody>\n",
       "    <tr>\n",
       "      <th>0</th>\n",
       "      <td>76218e14c379c12d599dae9e1c00b61a3i5b2</td>\n",
       "      <td>a3d2de7675556553a5f08e4c88d2c228sjo4q</td>\n",
       "      <td>ca8d4b018cb62966eebb2974f5a83b4fstk6z</td>\n",
       "      <td>0.0</td>\n",
       "      <td>2351187.0</td>\n",
       "      <td>6hpvy</td>\n",
       "      <td>sporting goods</td>\n",
       "      <td>phone1161</td>\n",
       "      <td>9.631917e+15</td>\n",
       "      <td>cz</td>\n",
       "      <td>121.169.96.51</td>\n",
       "      <td>f33fl83l4vrg6is</td>\n",
       "      <td>0.0</td>\n",
       "      <td>368</td>\n",
       "      <td>0.089199</td>\n",
       "      <td>0.020161</td>\n",
       "      <td>0.178624</td>\n",
       "      <td>1.463760</td>\n",
       "    </tr>\n",
       "    <tr>\n",
       "      <th>1</th>\n",
       "      <td>6e178db6d17d21aa88aaca5bf15c2761lc500</td>\n",
       "      <td>a3d2de7675556553a5f08e4c88d2c228mqaf6</td>\n",
       "      <td>0d11440b07e5e2c8550af74b728ab4edk47gk</td>\n",
       "      <td>0.0</td>\n",
       "      <td>2351200.0</td>\n",
       "      <td>jqx39</td>\n",
       "      <td>jewelry</td>\n",
       "      <td>phone99</td>\n",
       "      <td>9.631917e+15</td>\n",
       "      <td>sa</td>\n",
       "      <td>174.12.78.255</td>\n",
       "      <td>omwhmwzvrn6ycq6</td>\n",
       "      <td>0.0</td>\n",
       "      <td>15452</td>\n",
       "      <td>0.177281</td>\n",
       "      <td>0.055360</td>\n",
       "      <td>0.583490</td>\n",
       "      <td>0.885604</td>\n",
       "    </tr>\n",
       "    <tr>\n",
       "      <th>2</th>\n",
       "      <td>197e90906939267ace2422e78e8e83889znqp</td>\n",
       "      <td>faef6512727719c3dd147a06ba951c947c4fn</td>\n",
       "      <td>dd7151709002fc3dce968916d8ec00ede03vc</td>\n",
       "      <td>0.0</td>\n",
       "      <td>2351192.0</td>\n",
       "      <td>gst86</td>\n",
       "      <td>home goods</td>\n",
       "      <td>phone348</td>\n",
       "      <td>9.631917e+15</td>\n",
       "      <td>ma</td>\n",
       "      <td>154.151.182.60</td>\n",
       "      <td>vasstdc27m7nks3</td>\n",
       "      <td>0.0</td>\n",
       "      <td>2386</td>\n",
       "      <td>0.095494</td>\n",
       "      <td>0.065255</td>\n",
       "      <td>0.461730</td>\n",
       "      <td>0.809338</td>\n",
       "    </tr>\n",
       "    <tr>\n",
       "      <th>3</th>\n",
       "      <td>f5b2bbad20d1d7ded3ed960393bec0f40u6hn</td>\n",
       "      <td>a3d2de7675556553a5f08e4c88d2c228sezhf</td>\n",
       "      <td>a3d2de7675556553a5f08e4c88d2c228nfhse</td>\n",
       "      <td>0.0</td>\n",
       "      <td>2351190.0</td>\n",
       "      <td>fagyq</td>\n",
       "      <td>sporting goods</td>\n",
       "      <td>phone1</td>\n",
       "      <td>9.631917e+15</td>\n",
       "      <td>in</td>\n",
       "      <td>161.192.187.34</td>\n",
       "      <td>3skc4v2r07bneta</td>\n",
       "      <td>0.0</td>\n",
       "      <td>851</td>\n",
       "      <td>0.133801</td>\n",
       "      <td>0.056095</td>\n",
       "      <td>0.196636</td>\n",
       "      <td>1.747853</td>\n",
       "    </tr>\n",
       "    <tr>\n",
       "      <th>4</th>\n",
       "      <td>f5b2bbad20d1d7ded3ed960393bec0f40u6hn</td>\n",
       "      <td>a3d2de7675556553a5f08e4c88d2c228sezhf</td>\n",
       "      <td>a3d2de7675556553a5f08e4c88d2c228nfhse</td>\n",
       "      <td>0.0</td>\n",
       "      <td>2351188.0</td>\n",
       "      <td>64uay</td>\n",
       "      <td>sporting goods</td>\n",
       "      <td>phone0</td>\n",
       "      <td>9.631917e+15</td>\n",
       "      <td>ke</td>\n",
       "      <td>17.120.130.121</td>\n",
       "      <td>vasstdc27m7nks3</td>\n",
       "      <td>0.0</td>\n",
       "      <td>12</td>\n",
       "      <td>0.035496</td>\n",
       "      <td>0.009222</td>\n",
       "      <td>0.196636</td>\n",
       "      <td>1.747853</td>\n",
       "    </tr>\n",
       "  </tbody>\n",
       "</table>\n",
       "</div>"
      ],
      "text/plain": [
       "                               bidder_id  \\\n",
       "0  76218e14c379c12d599dae9e1c00b61a3i5b2   \n",
       "1  6e178db6d17d21aa88aaca5bf15c2761lc500   \n",
       "2  197e90906939267ace2422e78e8e83889znqp   \n",
       "3  f5b2bbad20d1d7ded3ed960393bec0f40u6hn   \n",
       "4  f5b2bbad20d1d7ded3ed960393bec0f40u6hn   \n",
       "\n",
       "                         payment_account  \\\n",
       "0  a3d2de7675556553a5f08e4c88d2c228sjo4q   \n",
       "1  a3d2de7675556553a5f08e4c88d2c228mqaf6   \n",
       "2  faef6512727719c3dd147a06ba951c947c4fn   \n",
       "3  a3d2de7675556553a5f08e4c88d2c228sezhf   \n",
       "4  a3d2de7675556553a5f08e4c88d2c228sezhf   \n",
       "\n",
       "                                 address  outcome     bid_id auction  \\\n",
       "0  ca8d4b018cb62966eebb2974f5a83b4fstk6z      0.0  2351187.0   6hpvy   \n",
       "1  0d11440b07e5e2c8550af74b728ab4edk47gk      0.0  2351200.0   jqx39   \n",
       "2  dd7151709002fc3dce968916d8ec00ede03vc      0.0  2351192.0   gst86   \n",
       "3  a3d2de7675556553a5f08e4c88d2c228nfhse      0.0  2351190.0   fagyq   \n",
       "4  a3d2de7675556553a5f08e4c88d2c228nfhse      0.0  2351188.0   64uay   \n",
       "\n",
       "      merchandise     device          time country              ip  \\\n",
       "0  sporting goods  phone1161  9.631917e+15      cz   121.169.96.51   \n",
       "1         jewelry    phone99  9.631917e+15      sa   174.12.78.255   \n",
       "2      home goods   phone348  9.631917e+15      ma  154.151.182.60   \n",
       "3  sporting goods     phone1  9.631917e+15      in  161.192.187.34   \n",
       "4  sporting goods     phone0  9.631917e+15      ke  17.120.130.121   \n",
       "\n",
       "               url  timediffs  bids_per_auction  pbots_country  pbots_device  \\\n",
       "0  f33fl83l4vrg6is        0.0               368       0.089199      0.020161   \n",
       "1  omwhmwzvrn6ycq6        0.0             15452       0.177281      0.055360   \n",
       "2  vasstdc27m7nks3        0.0              2386       0.095494      0.065255   \n",
       "3  3skc4v2r07bneta        0.0               851       0.133801      0.056095   \n",
       "4  vasstdc27m7nks3        0.0                12       0.035496      0.009222   \n",
       "\n",
       "   ip_bids_ratio  auction_url_entropy  \n",
       "0       0.178624             1.463760  \n",
       "1       0.583490             0.885604  \n",
       "2       0.461730             0.809338  \n",
       "3       0.196636             1.747853  \n",
       "4       0.196636             1.747853  "
      ]
     },
     "execution_count": 41,
     "metadata": {},
     "output_type": "execute_result"
    }
   ],
   "source": [
    "train.timediffs = train.timediffs.fillna(0)\n",
    "train.head()"
   ]
  },
  {
   "cell_type": "markdown",
   "id": "2f528c1e-49b9-458d-8eda-cb7bd759d480",
   "metadata": {},
   "source": [
    "### Data Visualization"
   ]
  },
  {
   "cell_type": "code",
   "execution_count": 42,
   "id": "5a089133",
   "metadata": {},
   "outputs": [
    {
     "name": "stdout",
     "output_type": "stream",
     "text": [
      "\u001b[33mDEPRECATION: Configuring installation scheme with distutils config files is deprecated and will no longer work in the near future. If you are using a Homebrew or Linuxbrew Python, please see discussion at https://github.com/Homebrew/homebrew-core/issues/76621\u001b[0m\u001b[33m\n",
      "\u001b[0mRequirement already satisfied: beautifultable in /usr/local/lib/python3.9/site-packages (1.1.0)\n",
      "Requirement already satisfied: wcwidth in /usr/local/lib/python3.9/site-packages (from beautifultable) (0.2.5)\n",
      "\u001b[33mDEPRECATION: Configuring installation scheme with distutils config files is deprecated and will no longer work in the near future. If you are using a Homebrew or Linuxbrew Python, please see discussion at https://github.com/Homebrew/homebrew-core/issues/76621\u001b[0m\u001b[33m\n",
      "\u001b[0mNote: you may need to restart the kernel to use updated packages.\n"
     ]
    }
   ],
   "source": [
    "pip install beautifultable"
   ]
  },
  {
   "cell_type": "code",
   "execution_count": 43,
   "id": "59c515d2-79df-42f1-8edf-8996bb13abec",
   "metadata": {},
   "outputs": [],
   "source": [
    "import matplotlib.pyplot as plt\n",
    "import seaborn as sns\n",
    "from beautifultable import BeautifulTable\n",
    "import warnings"
   ]
  },
  {
   "cell_type": "code",
   "execution_count": 44,
   "id": "1ff87014-196a-4640-b900-f537fb04e922",
   "metadata": {},
   "outputs": [],
   "source": [
    "warnings.filterwarnings('ignore')"
   ]
  },
  {
   "cell_type": "code",
   "execution_count": 45,
   "id": "22297c64-eb12-4f6c-a4ad-b20e1508918b",
   "metadata": {},
   "outputs": [
    {
     "data": {
      "text/plain": [
       "((412153, 18), (2656370, 18))"
      ]
     },
     "execution_count": 45,
     "metadata": {},
     "output_type": "execute_result"
    }
   ],
   "source": [
    "bots = train.loc[train.outcome == 1]\n",
    "human = train.loc[train.outcome == 0]\n",
    "bots.shape, human.shape"
   ]
  },
  {
   "cell_type": "code",
   "execution_count": 46,
   "id": "1e1971ec-d84f-401c-9b12-13c3fae45286",
   "metadata": {},
   "outputs": [
    {
     "data": {
      "image/png": "[encoded data removed]",
      "text/plain": [
       "<Figure size 1008x864 with 6 Axes>"
      ]
     },
     "metadata": {
      "needs_background": "light"
     },
     "output_type": "display_data"
    }
   ],
   "source": [
    "fig, axes = plt.subplots(3, 2, figsize=(14, 12), sharex=False)\n",
    "sns.distplot(train['bids_per_auction'], hist=False, kde=True,\n",
    "             bins=int(180/5), color='darkblue',\n",
    "             kde_kws={'linewidth': 1.5}, ax=axes[0, 0])\n",
    "sns.distplot(human['bids_per_auction'], hist=False, kde=True,\n",
    "             bins=int(180/5), color='darkred',\n",
    "             kde_kws={'linewidth': 1.5}, ax=axes[0, 0])\n",
    "\n",
    "sns.distplot(bots['pbots_country'], hist=False, kde=True,\n",
    "             bins=int(180/5), color='darkblue',\n",
    "             kde_kws={'linewidth': 1.5}, ax=axes[0, 1])\n",
    "sns.distplot(human['pbots_country'], hist=False, kde=True,\n",
    "             bins=int(180/5), color='darkred',\n",
    "             kde_kws={'linewidth': 1.5}, ax=axes[0, 1])\n",
    "\n",
    "sns.distplot(bots['pbots_device'], hist=False, kde=True,\n",
    "             bins=int(180/5), color='darkblue', label='bots',\n",
    "             kde_kws={'linewidth': 1.5}, ax=axes[1, 0])\n",
    "sns.distplot(human['pbots_device'], hist=False, kde=True,\n",
    "             bins=int(180/5), color='darkred', label='human',\n",
    "             kde_kws={'linewidth': 1.5}, ax=axes[1, 0])\n",
    "\n",
    "sns.distplot(bots['ip_bids_ratio'], hist=False, kde=True,\n",
    "             bins=int(180/5), color='darkblue',\n",
    "             kde_kws={'linewidth': 1.5}, ax=axes[1, 1])\n",
    "sns.distplot(human['ip_bids_ratio'], hist=False, kde=True,\n",
    "             bins=int(180/5), color='darkred',\n",
    "             kde_kws={'linewidth': 1.5}, ax=axes[1, 1])\n",
    "\n",
    "sns.distplot(bots['auction_url_entropy'], hist=False, kde=True,\n",
    "             bins=int(180/5), color='darkblue',\n",
    "             kde_kws={'linewidth': 1.5}, ax=axes[2, 0])\n",
    "sns.distplot(human['auction_url_entropy'], hist=False, kde=True,\n",
    "             bins=int(180/5), color='darkred',\n",
    "             kde_kws={'linewidth': 1.5}, ax=axes[2, 0])\n",
    "\n",
    "sns.distplot(bots['timediffs'], hist=False, kde=True,\n",
    "             bins=int(180/5), color='darkblue',\n",
    "             kde_kws={'linewidth': 1.5}, ax=axes[2, 1])\n",
    "sns.distplot(human['timediffs'], hist=False, kde=True,\n",
    "             bins=int(180/5), color='darkred',\n",
    "             kde_kws={'linewidth': 1.5}, ax=axes[2, 1])\n",
    "plt.legend(['bots', 'human'])\n",
    "plt.show()"
   ]
  },
  {
   "cell_type": "code",
   "execution_count": 47,
   "id": "7c0b987b-4194-4449-b612-50272d07e9f9",
   "metadata": {},
   "outputs": [
    {
     "data": {
      "text/plain": [
       "<AxesSubplot:>"
      ]
     },
     "execution_count": 47,
     "metadata": {},
     "output_type": "execute_result"
    },
    {
     "data": {
      "image/png": "[encoded data removed]",
      "text/plain": [
       "<Figure size 432x288 with 2 Axes>"
      ]
     },
     "metadata": {
      "needs_background": "light"
     },
     "output_type": "display_data"
    }
   ],
   "source": [
    "corr_matrix = train.corr()\n",
    "sns.heatmap(corr_matrix.corr(),\n",
    "            xticklabels=corr_matrix.corr().columns,\n",
    "            yticklabels=corr_matrix.corr().columns,\n",
    "            cmap=\"YlGnBu\",\n",
    "            fmt='d')"
   ]
  },
  {
   "cell_type": "markdown",
   "id": "02dad335-2b64-41ad-8634-870de9f93d98",
   "metadata": {},
   "source": [
    "### Modeling"
   ]
  },
  {
   "cell_type": "code",
   "execution_count": 48,
   "id": "f4392895-4af6-445b-9dd6-e4cfd459cb9e",
   "metadata": {},
   "outputs": [],
   "source": [
    "# for train and test data set split\n",
    "from sklearn.model_selection import train_test_split\n",
    "bid_train, bid_test = train_test_split(train, test_size=0.2)"
   ]
  },
  {
   "cell_type": "markdown",
   "id": "89b74f31-c900-4107-8234-f7919322b696",
   "metadata": {},
   "source": [
    "##### Undersampling"
   ]
  },
  {
   "cell_type": "markdown",
   "id": "4e800a79-5c96-4998-9533-f993cd6f3f30",
   "metadata": {},
   "source": [
    "From data preprocessing part, we see the ratio of the robot bidder and the human bidder is 3:20, thus we need to undersampling the human bidder samples in the trainset to keep the data balance."
   ]
  },
  {
   "cell_type": "code",
   "execution_count": 49,
   "id": "bc066134-5a16-41f9-8815-90635f7a7ac3",
   "metadata": {},
   "outputs": [
    {
     "data": {
      "text/html": [
       "<div>\n",
       "<style scoped>\n",
       "    .dataframe tbody tr th:only-of-type {\n",
       "        vertical-align: middle;\n",
       "    }\n",
       "\n",
       "    .dataframe tbody tr th {\n",
       "        vertical-align: top;\n",
       "    }\n",
       "\n",
       "    .dataframe thead th {\n",
       "        text-align: right;\n",
       "    }\n",
       "</style>\n",
       "<table border=\"1\" class=\"dataframe\">\n",
       "  <thead>\n",
       "    <tr style=\"text-align: right;\">\n",
       "      <th></th>\n",
       "      <th>bidder_id</th>\n",
       "      <th>payment_account</th>\n",
       "      <th>address</th>\n",
       "      <th>outcome</th>\n",
       "      <th>bid_id</th>\n",
       "      <th>auction</th>\n",
       "      <th>merchandise</th>\n",
       "      <th>device</th>\n",
       "      <th>time</th>\n",
       "      <th>country</th>\n",
       "      <th>ip</th>\n",
       "      <th>url</th>\n",
       "      <th>timediffs</th>\n",
       "      <th>bids_per_auction</th>\n",
       "      <th>pbots_country</th>\n",
       "      <th>pbots_device</th>\n",
       "      <th>ip_bids_ratio</th>\n",
       "      <th>auction_url_entropy</th>\n",
       "    </tr>\n",
       "  </thead>\n",
       "  <tbody>\n",
       "    <tr>\n",
       "      <th>2545272</th>\n",
       "      <td>67a1b129ca241c51d0abb5484f8eb3fct8o5c</td>\n",
       "      <td>a12ba564b8f968acf2efcee7087d8e4defyfl</td>\n",
       "      <td>6876549ce8193a2e92a84a50141701c4f86k4</td>\n",
       "      <td>1.0</td>\n",
       "      <td>1011094.0</td>\n",
       "      <td>m5cq4</td>\n",
       "      <td>sporting goods</td>\n",
       "      <td>phone386</td>\n",
       "      <td>9.764599e+15</td>\n",
       "      <td>us</td>\n",
       "      <td>233.198.60.214</td>\n",
       "      <td>vasstdc27m7nks3</td>\n",
       "      <td>3.157895e+08</td>\n",
       "      <td>382</td>\n",
       "      <td>0.476018</td>\n",
       "      <td>0.692879</td>\n",
       "      <td>0.633952</td>\n",
       "      <td>0.020786</td>\n",
       "    </tr>\n",
       "    <tr>\n",
       "      <th>2662562</th>\n",
       "      <td>e12177ff9c1a8413996f7b1a590980c82ofeo</td>\n",
       "      <td>4ceb0ecc3a5bf6988c1639c112ea88eaoit7w</td>\n",
       "      <td>acb0169abfffe7093ba53f8a4472ff4b14lk7</td>\n",
       "      <td>1.0</td>\n",
       "      <td>1309434.0</td>\n",
       "      <td>07axb</td>\n",
       "      <td>sporting goods</td>\n",
       "      <td>phone243</td>\n",
       "      <td>9.766926e+15</td>\n",
       "      <td>in</td>\n",
       "      <td>9.107.136.178</td>\n",
       "      <td>85a8kbxj9hi7mvb</td>\n",
       "      <td>2.157895e+09</td>\n",
       "      <td>169</td>\n",
       "      <td>0.133801</td>\n",
       "      <td>0.108521</td>\n",
       "      <td>0.551035</td>\n",
       "      <td>1.129438</td>\n",
       "    </tr>\n",
       "    <tr>\n",
       "      <th>121725</th>\n",
       "      <td>c8f537f6bb0aa2d45da541a875f014358qm7p</td>\n",
       "      <td>a3d2de7675556553a5f08e4c88d2c228avrrr</td>\n",
       "      <td>ca8d4b018cb62966eebb2974f5a83b4flnsno</td>\n",
       "      <td>1.0</td>\n",
       "      <td>2643484.0</td>\n",
       "      <td>4qcs9</td>\n",
       "      <td>sporting goods</td>\n",
       "      <td>phone435</td>\n",
       "      <td>9.632813e+15</td>\n",
       "      <td>za</td>\n",
       "      <td>77.63.173.12</td>\n",
       "      <td>qbwaw70u759wyme</td>\n",
       "      <td>3.315789e+09</td>\n",
       "      <td>137</td>\n",
       "      <td>0.086032</td>\n",
       "      <td>0.051107</td>\n",
       "      <td>0.402938</td>\n",
       "      <td>0.986332</td>\n",
       "    </tr>\n",
       "    <tr>\n",
       "      <th>2505202</th>\n",
       "      <td>c2e1242ad5ea781923a08987d55365c69fii7</td>\n",
       "      <td>a3d2de7675556553a5f08e4c88d2c228ck7kd</td>\n",
       "      <td>186e3af2ea3d97f854014c021ee14734wun94</td>\n",
       "      <td>1.0</td>\n",
       "      <td>913297.0</td>\n",
       "      <td>19wf5</td>\n",
       "      <td>jewelry</td>\n",
       "      <td>phone28</td>\n",
       "      <td>9.764221e+15</td>\n",
       "      <td>za</td>\n",
       "      <td>201.205.219.153</td>\n",
       "      <td>fqvbxv65by2lyo3</td>\n",
       "      <td>3.157895e+08</td>\n",
       "      <td>21</td>\n",
       "      <td>0.086032</td>\n",
       "      <td>0.237663</td>\n",
       "      <td>0.450257</td>\n",
       "      <td>0.949257</td>\n",
       "    </tr>\n",
       "    <tr>\n",
       "      <th>1577800</th>\n",
       "      <td>c8f537f6bb0aa2d45da541a875f014358qm7p</td>\n",
       "      <td>a3d2de7675556553a5f08e4c88d2c228avrrr</td>\n",
       "      <td>ca8d4b018cb62966eebb2974f5a83b4flnsno</td>\n",
       "      <td>1.0</td>\n",
       "      <td>6199346.0</td>\n",
       "      <td>fb06y</td>\n",
       "      <td>sporting goods</td>\n",
       "      <td>phone63</td>\n",
       "      <td>9.700734e+15</td>\n",
       "      <td>ru</td>\n",
       "      <td>155.231.50.85</td>\n",
       "      <td>yzoa2so5irpskra</td>\n",
       "      <td>5.263158e+07</td>\n",
       "      <td>1912</td>\n",
       "      <td>0.206036</td>\n",
       "      <td>0.110642</td>\n",
       "      <td>0.402938</td>\n",
       "      <td>0.986332</td>\n",
       "    </tr>\n",
       "  </tbody>\n",
       "</table>\n",
       "</div>"
      ],
      "text/plain": [
       "                                     bidder_id  \\\n",
       "2545272  67a1b129ca241c51d0abb5484f8eb3fct8o5c   \n",
       "2662562  e12177ff9c1a8413996f7b1a590980c82ofeo   \n",
       "121725   c8f537f6bb0aa2d45da541a875f014358qm7p   \n",
       "2505202  c2e1242ad5ea781923a08987d55365c69fii7   \n",
       "1577800  c8f537f6bb0aa2d45da541a875f014358qm7p   \n",
       "\n",
       "                               payment_account  \\\n",
       "2545272  a12ba564b8f968acf2efcee7087d8e4defyfl   \n",
       "2662562  4ceb0ecc3a5bf6988c1639c112ea88eaoit7w   \n",
       "121725   a3d2de7675556553a5f08e4c88d2c228avrrr   \n",
       "2505202  a3d2de7675556553a5f08e4c88d2c228ck7kd   \n",
       "1577800  a3d2de7675556553a5f08e4c88d2c228avrrr   \n",
       "\n",
       "                                       address  outcome     bid_id auction  \\\n",
       "2545272  6876549ce8193a2e92a84a50141701c4f86k4      1.0  1011094.0   m5cq4   \n",
       "2662562  acb0169abfffe7093ba53f8a4472ff4b14lk7      1.0  1309434.0   07axb   \n",
       "121725   ca8d4b018cb62966eebb2974f5a83b4flnsno      1.0  2643484.0   4qcs9   \n",
       "2505202  186e3af2ea3d97f854014c021ee14734wun94      1.0   913297.0   19wf5   \n",
       "1577800  ca8d4b018cb62966eebb2974f5a83b4flnsno      1.0  6199346.0   fb06y   \n",
       "\n",
       "            merchandise    device          time country               ip  \\\n",
       "2545272  sporting goods  phone386  9.764599e+15      us   233.198.60.214   \n",
       "2662562  sporting goods  phone243  9.766926e+15      in    9.107.136.178   \n",
       "121725   sporting goods  phone435  9.632813e+15      za     77.63.173.12   \n",
       "2505202         jewelry   phone28  9.764221e+15      za  201.205.219.153   \n",
       "1577800  sporting goods   phone63  9.700734e+15      ru    155.231.50.85   \n",
       "\n",
       "                     url     timediffs  bids_per_auction  pbots_country  \\\n",
       "2545272  vasstdc27m7nks3  3.157895e+08               382       0.476018   \n",
       "2662562  85a8kbxj9hi7mvb  2.157895e+09               169       0.133801   \n",
       "121725   qbwaw70u759wyme  3.315789e+09               137       0.086032   \n",
       "2505202  fqvbxv65by2lyo3  3.157895e+08                21       0.086032   \n",
       "1577800  yzoa2so5irpskra  5.263158e+07              1912       0.206036   \n",
       "\n",
       "         pbots_device  ip_bids_ratio  auction_url_entropy  \n",
       "2545272      0.692879       0.633952             0.020786  \n",
       "2662562      0.108521       0.551035             1.129438  \n",
       "121725       0.051107       0.402938             0.986332  \n",
       "2505202      0.237663       0.450257             0.949257  \n",
       "1577800      0.110642       0.402938             0.986332  "
      ]
     },
     "execution_count": 49,
     "metadata": {},
     "output_type": "execute_result"
    }
   ],
   "source": [
    "# Balance train data\n",
    "bots_train = bid_train.loc[bid_train.outcome == 1]\n",
    "human_train = bid_train.loc[bid_train.outcome == 0]\n",
    "human_sample = human_train.sample(n=len(bots_train))\n",
    "bid_train_balance = pd.concat([bots_train, human_sample])\n",
    "bid_train_balance.head()"
   ]
  },
  {
   "cell_type": "code",
   "execution_count": 50,
   "id": "afcddcff-7a8f-4809-999e-ed004e4e58a3",
   "metadata": {},
   "outputs": [
    {
     "data": {
      "text/plain": [
       "((658992, 5), (658992,))"
      ]
     },
     "execution_count": 50,
     "metadata": {},
     "output_type": "execute_result"
    }
   ],
   "source": [
    "train_columns = ['bids_per_auction','pbots_country','pbots_device','ip_bids_ratio','auction_url_entropy']\n",
    "X_train = bid_train_balance[train_columns]\n",
    "y_train = bid_train_balance['outcome']\n",
    "\n",
    "X_test = bid_test[train_columns]\n",
    "y_test = bid_test['outcome']\n",
    "X_train.shape, y_train.shape"
   ]
  },
  {
   "cell_type": "markdown",
   "id": "79079a20-b320-4e66-876c-1eb080caa701",
   "metadata": {},
   "source": [
    "## 1. Decision Tree"
   ]
  },
  {
   "cell_type": "code",
   "execution_count": 51,
   "id": "d2f1c915-8983-49f7-a459-914b4d593874",
   "metadata": {},
   "outputs": [
    {
     "name": "stdout",
     "output_type": "stream",
     "text": [
      "{'criterion': 'gini', 'max_depth': 4, 'max_leaf_nodes': 13, 'min_samples_split': 2}\n"
     ]
    }
   ],
   "source": [
    "from sklearn import tree\n",
    "from sklearn.model_selection import GridSearchCV\n",
    "from sklearn.model_selection import RandomizedSearchCV\n",
    "\n",
    "# hyperparameter tuning\n",
    "dt = tree.DecisionTreeClassifier()\n",
    "param_grid = {\n",
    "    'criterion': ['gini', 'entropy'],\n",
    "    'max_depth': range(3, 6),\n",
    "    'max_leaf_nodes': range(10, 15),\n",
    "    'min_samples_split': range(2, 6)\n",
    "}\n",
    "\n",
    "dt_cv = GridSearchCV(estimator=dt,\n",
    "                     param_grid=param_grid,\n",
    "                     cv=5)\n",
    "dt_cv.fit(X_train, y_train)\n",
    "print(dt_cv.best_params_)"
   ]
  },
  {
   "cell_type": "code",
   "execution_count": 52,
   "id": "6fd6ee06-18f0-4290-a333-b29d4c77b470",
   "metadata": {},
   "outputs": [
    {
     "name": "stdout",
     "output_type": "stream",
     "text": [
      "--- 0.7176179885864258 seconds ---\n"
     ]
    }
   ],
   "source": [
    "import time\n",
    "# fit the model\n",
    "# Decision Tree\n",
    "start_time = time.time()\n",
    "kwargs_regularize = dict(criterion='gini',\n",
    "                         max_depth=5,\n",
    "                         max_leaf_nodes=14,\n",
    "                         min_samples_split=2)\n",
    "dt = tree.DecisionTreeClassifier(**kwargs_regularize)\n",
    "dt.fit(X_train, y_train)\n",
    "\n",
    "dt_time = time.time() - start_time\n",
    "print(\"--- %s seconds ---\" % (time.time() - start_time))"
   ]
  },
  {
   "cell_type": "code",
   "execution_count": 53,
   "id": "68e5f867-5595-4ad3-8a2c-1ee0766c8a2b",
   "metadata": {},
   "outputs": [
    {
     "name": "stdout",
     "output_type": "stream",
     "text": [
      "Feature importance of Decision Tree Model\n"
     ]
    },
    {
     "data": {
      "image/png": "[encoded data removed]",
      "text/plain": [
       "<Figure size 360x360 with 1 Axes>"
      ]
     },
     "metadata": {},
     "output_type": "display_data"
    }
   ],
   "source": [
    "# Check feature importance and display in bar plot.\n",
    "print('Feature importance of Decision Tree Model')\n",
    "plt.style.use('ggplot')\n",
    "fig = plt.figure(figsize=(5, 5))\n",
    "feat_importances = pd.Series(dt.feature_importances_, index=X_train.columns)\n",
    "feat_importances.nsmallest(5).plot(kind='barh', alpha=0.7)\n",
    "fig.savefig('dt_feature.png')"
   ]
  },
  {
   "cell_type": "code",
   "execution_count": 54,
   "id": "b6f840c8-2a42-40b8-9f3b-91cdb56bd18e",
   "metadata": {},
   "outputs": [],
   "source": [
    "y_dt_pred = dt.predict(X_test)"
   ]
  },
  {
   "cell_type": "code",
   "execution_count": 55,
   "id": "a502dcc6-5703-44b0-9980-db2d7f8ff6b5",
   "metadata": {},
   "outputs": [
    {
     "name": "stdout",
     "output_type": "stream",
     "text": [
      "Decision Tree Accuracy: 0.843\n"
     ]
    }
   ],
   "source": [
    "from sklearn.metrics import accuracy_score\n",
    "# accuracy score\n",
    "print(f\"Decision Tree Accuracy: {accuracy_score(y_dt_pred, y_test):.3f}\")"
   ]
  },
  {
   "cell_type": "markdown",
   "id": "882a4164-283c-46f8-9bc5-42ab03d1df94",
   "metadata": {},
   "source": [
    "#### AUC"
   ]
  },
  {
   "cell_type": "code",
   "execution_count": 56,
   "id": "02869b39-21c7-4c34-8b9e-b53bf296f90e",
   "metadata": {},
   "outputs": [
    {
     "data": {
      "image/png": "[encoded data removed]",
      "text/plain": [
       "<Figure size 360x360 with 1 Axes>"
      ]
     },
     "metadata": {},
     "output_type": "display_data"
    }
   ],
   "source": [
    "from sklearn.metrics import roc_curve, auc\n",
    "from sklearn.metrics import confusion_matrix\n",
    "from sklearn.metrics import classification_report\n",
    "from pylab import rcParams\n",
    "\n",
    "# Plot ROC in one graph\n",
    "y_dt_score = dt.predict_proba(X_test)[:, 1]\n",
    "fpr_dt, tpr_dt, _dt = roc_curve(y_test, y_dt_score)\n",
    "roc_dt_auc = auc(fpr_dt, tpr_dt)\n",
    "\n",
    "fig = plt.figure(figsize=(5, 5))\n",
    "plt.plot(fpr_dt, tpr_dt, label='DT ROC curve (area = %0.2f)' % roc_dt_auc)\n",
    "plt.plot([0, 1], [0, 1], 'k--')\n",
    "plt.xlim([0.0, 1.0])\n",
    "plt.ylim([0.0, 1.005])\n",
    "plt.xlabel('False Positive Rate')\n",
    "plt.ylabel('True Positive Rate')\n",
    "plt.title('Receiver operating characteristic')\n",
    "plt.legend(loc=\"lower right\")\n",
    "plt.show()\n",
    "fig.savefig('roc_dt_auc.png')"
   ]
  },
  {
   "cell_type": "markdown",
   "id": "a7934125-cc92-4fd1-8b89-0c62312797d7",
   "metadata": {},
   "source": [
    "#### Pecision vs Recall"
   ]
  },
  {
   "cell_type": "code",
   "execution_count": 57,
   "id": "a3869aa8-c12f-4f65-a2e8-e9f8423fbd4b",
   "metadata": {
    "scrolled": true
   },
   "outputs": [],
   "source": [
    "# print('Classification Report of Decision Tree Model')\n",
    "# print(classification_report(y_test, y_dt_pred))"
   ]
  },
  {
   "cell_type": "markdown",
   "id": "50555fa5-835c-4233-b4da-a4065ae37c86",
   "metadata": {},
   "source": [
    "## 2. Random Forest"
   ]
  },
  {
   "cell_type": "code",
   "execution_count": 97,
   "id": "9bf5e9fb-d7fc-41d8-a259-ffdea2e85594",
   "metadata": {},
   "outputs": [
    {
     "name": "stdout",
     "output_type": "stream",
     "text": [
      "{'max_depth': 5, 'max_features': 'auto', 'max_leaf_nodes': 11}\n"
     ]
    }
   ],
   "source": [
    "from sklearn.ensemble import RandomForestClassifier\n",
    "\n",
    "rf = RandomForestClassifier(n_estimators=50)\n",
    "param_grid = {\n",
    "    'max_depth': range(3, 6),\n",
    "    'max_leaf_nodes': range(8, 12),\n",
    "    'max_features': ['sqrt', 'auto', 'log2']\n",
    "}\n",
    "\n",
    "rf_cv = GridSearchCV(estimator=rf,\n",
    "                     param_grid=param_grid,\n",
    "                     cv=5)\n",
    "rf_cv.fit(X_train, y_train)\n",
    "print(rf_cv.best_params_)"
   ]
  },
  {
   "cell_type": "code",
   "execution_count": 98,
   "id": "a2f0bf48-a381-4e8c-bf74-d6ae5b95ae71",
   "metadata": {},
   "outputs": [
    {
     "name": "stdout",
     "output_type": "stream",
     "text": [
      "--- 36.052568674087524 seconds ---\n"
     ]
    }
   ],
   "source": [
    "start_time = time.time()\n",
    "\n",
    "rf = RandomForestClassifier(n_estimators=100, max_depth=5,\n",
    "                            max_leaf_nodes=11, max_features='log2',\n",
    "                            bootstrap=True, oob_score=True)\n",
    "rf.fit(X_train, y_train)\n",
    "\n",
    "rf_time = time.time() - start_time\n",
    "print(\"--- %s seconds ---\" % (time.time() - start_time))"
   ]
  },
  {
   "cell_type": "code",
   "execution_count": 99,
   "id": "76f0d87d-54a0-47b0-9d8e-9cfd9b77f898",
   "metadata": {},
   "outputs": [
    {
     "name": "stdout",
     "output_type": "stream",
     "text": [
      "Feature importance of Random Forest Model\n"
     ]
    },
    {
     "data": {
      "image/png": "[encoded data removed]",
      "text/plain": [
       "<Figure size 360x360 with 1 Axes>"
      ]
     },
     "metadata": {},
     "output_type": "display_data"
    }
   ],
   "source": [
    "# Check feature importance and display in bar plot.\n",
    "print('Feature importance of Random Forest Model')\n",
    "plt.style.use('ggplot')\n",
    "fig = plt.figure(figsize=(5, 5))\n",
    "feat_importances = pd.Series(rf.feature_importances_, index=X_train.columns)\n",
    "feat_importances.nsmallest(5).plot(kind='barh', alpha=0.7)\n",
    "fig.savefig('rf_feature.png')"
   ]
  },
  {
   "cell_type": "code",
   "execution_count": 100,
   "id": "490e287b-aea3-4aa1-ad2b-02899cc7d72b",
   "metadata": {},
   "outputs": [
    {
     "name": "stdout",
     "output_type": "stream",
     "text": [
      "Random Forest Accuracy: 0.924\n"
     ]
    }
   ],
   "source": [
    "y_rf_pred = rf.predict(X_test)\n",
    "print(f\"Random Forest Accuracy: {accuracy_score(y_rf_pred, y_test):.3f}\")"
   ]
  },
  {
   "cell_type": "markdown",
   "id": "063bb1a0-8036-4b92-a25d-4d211920b06c",
   "metadata": {},
   "source": [
    "#### AUC"
   ]
  },
  {
   "cell_type": "code",
   "execution_count": 62,
   "id": "58c711d6-b486-4a2b-acd2-328476ca74ef",
   "metadata": {},
   "outputs": [],
   "source": [
    "# # Plot ROC in one graph\n",
    "# y_rf_score = rf.predict_proba(X_test)[:, 1]\n",
    "# fpr_rf, tpr_rf, _rf = roc_curve(y_test, y_rf_score)\n",
    "# roc_rf_auc = auc(fpr_rf, tpr_rf)\n",
    "\n",
    "# plt.figure(figsize=(5, 5))\n",
    "# plt.plot(fpr_rf, tpr_rf, label='RF ROC curve (area = %0.2f)' % roc_rf_auc)\n",
    "# plt.plot([0, 1], [0, 1], 'k--')\n",
    "# plt.xlim([0.0, 1.0])\n",
    "# plt.ylim([0.0, 1.005])\n",
    "# plt.xlabel('False Positive Rate')\n",
    "# plt.ylabel('True Positive Rate')\n",
    "# plt.title('Receiver operating characteristic')\n",
    "# plt.legend(loc=\"lower right\")\n",
    "# plt.show()\n",
    "# fig.savefig('roc_rf_auc.png')"
   ]
  },
  {
   "cell_type": "markdown",
   "id": "175f53e8-273c-48d4-b487-31821b86bb17",
   "metadata": {},
   "source": [
    "#### Precision vs. Recall"
   ]
  },
  {
   "cell_type": "code",
   "execution_count": 63,
   "id": "a064ecce-8bc2-4cb0-a28a-2415405a29c0",
   "metadata": {},
   "outputs": [],
   "source": [
    "# print('Classification Report of Random Forest Model')\n",
    "# print(classification_report(y_test, y_rf_pred))"
   ]
  },
  {
   "cell_type": "markdown",
   "id": "ff71a953",
   "metadata": {},
   "source": [
    "# # KNN Algorithm\n"
   ]
  },
  {
   "cell_type": "code",
   "execution_count": 72,
   "id": "d55819e5",
   "metadata": {},
   "outputs": [],
   "source": [
    "from sklearn.neighbors import KNeighborsClassifier\n",
    "from sklearn.model_selection import cross_val_score\n",
    "from sklearn import metrics\n",
    "from sklearn.metrics import accuracy_score\n",
    "from sklearn.metrics import classification_report"
   ]
  },
  {
   "cell_type": "markdown",
   "id": "17f12194",
   "metadata": {},
   "source": [
    "### Plotting the K val with Cross validated score"
   ]
  },
  {
   "cell_type": "code",
   "execution_count": 65,
   "id": "b27ce596",
   "metadata": {},
   "outputs": [
    {
     "data": {
      "text/plain": [
       "Text(0, 0.5, 'Cross-Validated f1 Score')"
      ]
     },
     "execution_count": 65,
     "metadata": {},
     "output_type": "execute_result"
    },
    {
     "data": {
      "image/png": "[encoded data removed]",
      "text/plain": [
       "<Figure size 432x288 with 1 Axes>"
      ]
     },
     "metadata": {
      "needs_background": "light"
     },
     "output_type": "display_data"
    }
   ],
   "source": [
    "k_range = list(range(1, 10))\n",
    "k_scores = {}\n",
    "for k in k_range:\n",
    "  knn = KNeighborsClassifier(n_neighbors=k)\n",
    "  scores = cross_val_score(knn, X_train, y_train, cv=10, scoring='f1')\n",
    "  k_scores[k] = scores.mean()\n",
    "\n",
    "plt.plot(k_range, k_scores.values())\n",
    "plt.xlabel('Value of K for KNN')\n",
    "plt.ylabel('Cross-Validated f1 Score')"
   ]
  },
  {
   "cell_type": "markdown",
   "id": "497a9a02",
   "metadata": {},
   "source": [
    "### Selecting the best value of K"
   ]
  },
  {
   "cell_type": "code",
   "execution_count": 67,
   "id": "588b44e9",
   "metadata": {},
   "outputs": [
    {
     "name": "stdout",
     "output_type": "stream",
     "text": [
      "1\n",
      "0.9929132598696485\n"
     ]
    }
   ],
   "source": [
    "best_k = -1\n",
    "max_score = -1\n",
    "for k,score in k_scores.items():\n",
    "    if score > max_score:\n",
    "        best_k = k\n",
    "        max_score = score\n",
    "print(best_k)\n",
    "print(max_score)"
   ]
  },
  {
   "cell_type": "markdown",
   "id": "bce213d0",
   "metadata": {},
   "source": [
    "### Fitting the best value of K"
   ]
  },
  {
   "cell_type": "code",
   "execution_count": 69,
   "id": "da966ddd",
   "metadata": {},
   "outputs": [
    {
     "name": "stdout",
     "output_type": "stream",
     "text": [
      "0.9915460068280932\n"
     ]
    }
   ],
   "source": [
    "knn = KNeighborsClassifier(n_neighbors=best_k)\n",
    "knn.fit(X_train, y_train)\n",
    "y_knn_pred = knn.predict(X_test)\n",
    "print(metrics.f1_score(y_test, y_knn_pred, average='weighted'))"
   ]
  },
  {
   "cell_type": "markdown",
   "id": "2cfc191e",
   "metadata": {},
   "source": [
    "### Accuracy "
   ]
  },
  {
   "cell_type": "code",
   "execution_count": 73,
   "id": "56dc02dd",
   "metadata": {},
   "outputs": [
    {
     "name": "stdout",
     "output_type": "stream",
     "text": [
      "KNN Accuracy: 0.991\n"
     ]
    }
   ],
   "source": [
    "print(f\"KNN Accuracy: {accuracy_score(y_knn_pred, y_test):.3f}\")"
   ]
  },
  {
   "cell_type": "code",
   "execution_count": 74,
   "id": "5a1b303c",
   "metadata": {},
   "outputs": [
    {
     "name": "stdout",
     "output_type": "stream",
     "text": [
      "Classification Report of KNN model\n",
      "              precision    recall  f1-score   support\n",
      "\n",
      "         0.0       1.00      0.99      1.00    531469\n",
      "         1.0       0.94      1.00      0.97     82236\n",
      "\n",
      "    accuracy                           0.99    613705\n",
      "   macro avg       0.97      0.99      0.98    613705\n",
      "weighted avg       0.99      0.99      0.99    613705\n",
      "\n"
     ]
    }
   ],
   "source": [
    "print('Classification Report of KNN model')\n",
    "print(classification_report(y_test, y_knn_pred))"
   ]
  },
  {
   "cell_type": "markdown",
   "id": "5f72d81e",
   "metadata": {},
   "source": [
    "## SVM Algorithm "
   ]
  },
  {
   "cell_type": "code",
   "execution_count": 58,
   "id": "66443782",
   "metadata": {},
   "outputs": [],
   "source": [
    "from sklearn.svm import SVC"
   ]
  },
  {
   "cell_type": "code",
   "execution_count": null,
   "id": "5ea09e3e",
   "metadata": {},
   "outputs": [],
   "source": [
    "model = SVC(kernel=\"linear\", C=0.025)\n",
    "model.fit(X_train,y_train)\n",
    "y_svm_pred = model.predict(X_test)\n",
    "print(metrics.f1_score(y_test, y_svm_pred, average='weighted'))"
   ]
  },
  {
   "cell_type": "code",
   "execution_count": null,
   "id": "1fb7507d",
   "metadata": {},
   "outputs": [],
   "source": [
    "print('Classification Report of SVM model')\n",
    "print(classification_report(y_test, y_svm_pred))"
   ]
  },
  {
   "cell_type": "markdown",
   "id": "b6918f82",
   "metadata": {},
   "source": [
    "## Naive Bayes"
   ]
  },
  {
   "cell_type": "code",
   "execution_count": 51,
   "id": "a1f5ecad",
   "metadata": {},
   "outputs": [
    {
     "data": {
      "text/plain": [
       "GaussianNB()"
      ]
     },
     "execution_count": 51,
     "metadata": {},
     "output_type": "execute_result"
    }
   ],
   "source": [
    "from sklearn.naive_bayes import GaussianNB\n",
    "\n",
    "gnb = GaussianNB()\n",
    "\n",
    "gnb.fit(X_train, y_train)"
   ]
  },
  {
   "cell_type": "code",
   "execution_count": 52,
   "id": "7cbc0d2c",
   "metadata": {},
   "outputs": [],
   "source": [
    "y_nb_pred = gnb.predict(X_test)\n"
   ]
  },
  {
   "cell_type": "code",
   "execution_count": 53,
   "id": "5ad0d9ab",
   "metadata": {},
   "outputs": [
    {
     "name": "stdout",
     "output_type": "stream",
     "text": [
      "Model accuracy score: 0.8835\n"
     ]
    }
   ],
   "source": [
    "from sklearn.metrics import accuracy_score\n",
    "\n",
    "print('Model accuracy score: {0:0.4f}'. format(accuracy_score(y_test, y_nb_pred)))"
   ]
  },
  {
   "cell_type": "code",
   "execution_count": 54,
   "id": "88baa376",
   "metadata": {},
   "outputs": [
    {
     "data": {
      "image/png": "[encoded data removed]",
      "text/plain": [
       "<Figure size 360x360 with 1 Axes>"
      ]
     },
     "metadata": {
      "needs_background": "light"
     },
     "output_type": "display_data"
    }
   ],
   "source": [
    "from sklearn.metrics import roc_curve, auc\n",
    "from sklearn.metrics import confusion_matrix\n",
    "from sklearn.metrics import classification_report\n",
    "from pylab import rcParams\n",
    "\n",
    "# Plot ROC in one graph\n",
    "y_nb_score = gnb.predict_proba(X_test)[:, 1]\n",
    "fpr_nb, tpr_nb, _nb = roc_curve(y_test, y_nb_score)\n",
    "roc_nb_auc = auc(fpr_nb, tpr_nb)\n",
    "\n",
    "fig = plt.figure(figsize=(5, 5))\n",
    "plt.plot(fpr_nb, tpr_nb, label='NB ROC curve (area = %0.2f)' % roc_nb_auc)\n",
    "plt.plot([0, 1], [0, 1], 'k--')\n",
    "plt.xlim([0.0, 1.0])\n",
    "plt.ylim([0.0, 1.005])\n",
    "plt.xlabel('False Positive Rate')\n",
    "plt.ylabel('True Positive Rate')\n",
    "plt.title('Receiver operating characteristic')\n",
    "plt.legend(loc=\"lower right\")\n",
    "plt.show()\n",
    "fig.savefig('roc_NB_auc.png')"
   ]
  },
  {
   "cell_type": "code",
   "execution_count": null,
   "id": "7b60f9b3",
   "metadata": {},
   "outputs": [],
   "source": []
  },
  {
   "cell_type": "markdown",
   "id": "f62cd4e5",
   "metadata": {},
   "source": [
    "## Logistic Regression"
   ]
  },
  {
   "cell_type": "code",
   "execution_count": 55,
   "id": "48b54b4c",
   "metadata": {},
   "outputs": [
    {
     "data": {
      "text/plain": [
       "LogisticRegression(random_state=0, solver='liblinear')"
      ]
     },
     "execution_count": 55,
     "metadata": {},
     "output_type": "execute_result"
    }
   ],
   "source": [
    "from sklearn.linear_model import LogisticRegression\n",
    "\n",
    "logreg = LogisticRegression(solver='liblinear', random_state=0)\n",
    "\n",
    "logreg.fit(X_train, y_train)"
   ]
  },
  {
   "cell_type": "code",
   "execution_count": 56,
   "id": "588dc496",
   "metadata": {},
   "outputs": [],
   "source": [
    "y_lr_pred_test = logreg.predict(X_test)"
   ]
  },
  {
   "cell_type": "code",
   "execution_count": 57,
   "id": "3562555c",
   "metadata": {},
   "outputs": [
    {
     "name": "stdout",
     "output_type": "stream",
     "text": [
      "Model accuracy score: 0.8397\n"
     ]
    }
   ],
   "source": [
    "from sklearn.metrics import accuracy_score\n",
    "\n",
    "print('Model accuracy score: {0:0.4f}'. format(accuracy_score(y_test, y_lr_pred_test)))"
   ]
  },
  {
   "cell_type": "code",
   "execution_count": 58,
   "id": "bed10d13",
   "metadata": {},
   "outputs": [],
   "source": [
    "# predicting to compare the train test set accuracy\n",
    "y_lr_pred_train = logreg.predict(X_train)"
   ]
  },
  {
   "cell_type": "code",
   "execution_count": 59,
   "id": "03ef927a",
   "metadata": {},
   "outputs": [
    {
     "name": "stdout",
     "output_type": "stream",
     "text": [
      "Training-set accuracy score: 0.7603\n"
     ]
    }
   ],
   "source": [
    "print('Training-set accuracy score: {0:0.4f}'. format(accuracy_score(y_train, y_lr_pred_train)))"
   ]
  },
  {
   "cell_type": "code",
   "execution_count": 60,
   "id": "99481c17",
   "metadata": {},
   "outputs": [
    {
     "data": {
      "image/png": "[encoded data removed]",
      "text/plain": [
       "<Figure size 360x360 with 1 Axes>"
      ]
     },
     "metadata": {
      "needs_background": "light"
     },
     "output_type": "display_data"
    }
   ],
   "source": [
    "# Plot ROC in one graph\n",
    "y_lr_score = logreg.predict_proba(X_test)[:, 1]\n",
    "fpr_lr, tpr_lr, _lr = roc_curve(y_test, y_lr_score)\n",
    "roc_lr_auc = auc(fpr_lr, tpr_lr)\n",
    "\n",
    "fig = plt.figure(figsize=(5, 5))\n",
    "plt.plot(fpr_lr, tpr_lr, label='LR ROC curve (area = %0.2f)' % roc_lr_auc)\n",
    "plt.plot([0, 1], [0, 1], 'k--')\n",
    "plt.xlim([0.0, 1.0])\n",
    "plt.ylim([0.0, 1.005])\n",
    "plt.xlabel('False Positive Rate')\n",
    "plt.ylabel('True Positive Rate')\n",
    "plt.title('Receiver operating characteristic')\n",
    "plt.legend(loc=\"lower right\")\n",
    "plt.show()\n",
    "fig.savefig('roc_LR_auc.png')"
   ]
  },
  {
   "cell_type": "code",
   "execution_count": null,
   "id": "961a7af6",
   "metadata": {},
   "outputs": [],
   "source": []
  },
  {
   "cell_type": "code",
   "execution_count": null,
   "id": "e46c3941",
   "metadata": {},
   "outputs": [],
   "source": []
  }
 ],
 "metadata": {
  "kernelspec": {
   "display_name": "Python 3 (ipykernel)",
   "language": "python",
   "name": "python3"
  },
  "language_info": {
   "codemirror_mode": {
    "name": "ipython",
    "version": 3
   },
   "file_extension": ".py",
   "mimetype": "text/x-python",
   "name": "python",
   "nbconvert_exporter": "python",
   "pygments_lexer": "ipython3",
   "version": "3.9.12"
  }
 },
 "nbformat": 4,
 "nbformat_minor": 5
}
