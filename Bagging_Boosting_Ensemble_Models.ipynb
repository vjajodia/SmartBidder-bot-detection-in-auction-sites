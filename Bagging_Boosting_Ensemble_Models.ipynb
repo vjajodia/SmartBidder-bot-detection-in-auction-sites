{
  "cells": [
    {
      "cell_type": "markdown",
      "id": "abc85f9b-e7ba-4f41-b9ae-ea6b3f2e2c94",
      "metadata": {
        "id": "abc85f9b-e7ba-4f41-b9ae-ea6b3f2e2c94"
      },
      "source": [
        "# Business Intelligence for Online Bidding Systems using Machine Learning"
      ]
    },
    {
      "cell_type": "markdown",
      "id": "7996d32d-ebb5-4caa-95e5-f8e29117f162",
      "metadata": {
        "id": "7996d32d-ebb5-4caa-95e5-f8e29117f162"
      },
      "source": [
        "### Importing libraries"
      ]
    },
    {
      "cell_type": "code",
      "execution_count": 1,
      "id": "ed75b244-e1e6-451d-85e3-c34cd1667247",
      "metadata": {
        "id": "ed75b244-e1e6-451d-85e3-c34cd1667247"
      },
      "outputs": [],
      "source": [
        "import pandas as pd\n",
        "import numpy as np\n",
        "from sklearn.model_selection import train_test_split\n",
        "import matplotlib.pyplot as plt\n",
        "import seaborn as sns"
      ]
    },
    {
      "cell_type": "code",
      "source": [
        "from google.colab import drive\n",
        "drive.mount('/content/drive')"
      ],
      "metadata": {
        "colab": {
          "base_uri": "https://localhost:8080/"
        },
        "id": "F2RG5RHenTjz",
        "outputId": "412c9111-b499-4cff-d071-b1f1924efde2"
      },
      "id": "F2RG5RHenTjz",
      "execution_count": 2,
      "outputs": [
        {
          "output_type": "stream",
          "name": "stdout",
          "text": [
            "Mounted at /content/drive\n"
          ]
        }
      ]
    },
    {
      "cell_type": "code",
      "execution_count": 3,
      "id": "06f1742f-bec4-4161-b35c-630b893c5b86",
      "metadata": {
        "id": "06f1742f-bec4-4161-b35c-630b893c5b86"
      },
      "outputs": [],
      "source": [
        "bids_df = pd.read_csv('/content/drive/MyDrive/CMPE 295/zip_data/bids.csv.zip')\n",
        "train_df = pd.read_csv('/content/drive/MyDrive/CMPE 295/zip_data/train.csv.zip')\n",
        "test_df = pd.read_csv('/content/drive/MyDrive/CMPE 295/zip_data/test.csv.zip')"
      ]
    },
    {
      "cell_type": "markdown",
      "id": "3d07fb7c-482a-41dc-82b4-370237a7edbb",
      "metadata": {
        "id": "3d07fb7c-482a-41dc-82b4-370237a7edbb"
      },
      "source": [
        "### Cleaning the data"
      ]
    },
    {
      "cell_type": "code",
      "execution_count": 4,
      "id": "73c669a7-6e96-4377-a5ff-9942119d3188",
      "metadata": {
        "id": "73c669a7-6e96-4377-a5ff-9942119d3188",
        "colab": {
          "base_uri": "https://localhost:8080/",
          "height": 0
        },
        "outputId": "4f0f4d80-74a3-4ee6-e0f3-3e54d7538793"
      },
      "outputs": [
        {
          "output_type": "execute_result",
          "data": {
            "text/plain": [
              "   bid_id                              bidder_id auction merchandise  device  \\\n",
              "0       0  8dac2b259fd1c6d1120e519fb1ac14fbqvax8   ewmzr     jewelry  phone0   \n",
              "1       1  668d393e858e8126275433046bbd35c6tywop   aeqok   furniture  phone1   \n",
              "2       2  aa5f360084278b35d746fa6af3a7a1a5ra3xe   wa00e  home goods  phone2   \n",
              "3       3  3939ac3ef7d472a59a9c5f893dd3e39fh9ofi   jefix     jewelry  phone4   \n",
              "4       4  8393c48eaf4b8fa96886edc7cf27b372dsibi   jefix     jewelry  phone5   \n",
              "\n",
              "               time country              ip              url  \n",
              "0  9759243157894736      us   69.166.231.58  vasstdc27m7nks3  \n",
              "1  9759243157894736      in   50.201.125.84  jmqlhflrzwuay9c  \n",
              "2  9759243157894736      py  112.54.208.157  vasstdc27m7nks3  \n",
              "3  9759243157894736      in   18.99.175.133  vasstdc27m7nks3  \n",
              "4  9759243157894736      in    145.138.5.37  vasstdc27m7nks3  "
            ],
            "text/html": [
              "\n",
              "  <div id=\"df-98d0efe5-16a4-405e-a211-993ee74da9f6\">\n",
              "    <div class=\"colab-df-container\">\n",
              "      <div>\n",
              "<style scoped>\n",
              "    .dataframe tbody tr th:only-of-type {\n",
              "        vertical-align: middle;\n",
              "    }\n",
              "\n",
              "    .dataframe tbody tr th {\n",
              "        vertical-align: top;\n",
              "    }\n",
              "\n",
              "    .dataframe thead th {\n",
              "        text-align: right;\n",
              "    }\n",
              "</style>\n",
              "<table border=\"1\" class=\"dataframe\">\n",
              "  <thead>\n",
              "    <tr style=\"text-align: right;\">\n",
              "      <th></th>\n",
              "      <th>bid_id</th>\n",
              "      <th>bidder_id</th>\n",
              "      <th>auction</th>\n",
              "      <th>merchandise</th>\n",
              "      <th>device</th>\n",
              "      <th>time</th>\n",
              "      <th>country</th>\n",
              "      <th>ip</th>\n",
              "      <th>url</th>\n",
              "    </tr>\n",
              "  </thead>\n",
              "  <tbody>\n",
              "    <tr>\n",
              "      <th>0</th>\n",
              "      <td>0</td>\n",
              "      <td>8dac2b259fd1c6d1120e519fb1ac14fbqvax8</td>\n",
              "      <td>ewmzr</td>\n",
              "      <td>jewelry</td>\n",
              "      <td>phone0</td>\n",
              "      <td>9759243157894736</td>\n",
              "      <td>us</td>\n",
              "      <td>69.166.231.58</td>\n",
              "      <td>vasstdc27m7nks3</td>\n",
              "    </tr>\n",
              "    <tr>\n",
              "      <th>1</th>\n",
              "      <td>1</td>\n",
              "      <td>668d393e858e8126275433046bbd35c6tywop</td>\n",
              "      <td>aeqok</td>\n",
              "      <td>furniture</td>\n",
              "      <td>phone1</td>\n",
              "      <td>9759243157894736</td>\n",
              "      <td>in</td>\n",
              "      <td>50.201.125.84</td>\n",
              "      <td>jmqlhflrzwuay9c</td>\n",
              "    </tr>\n",
              "    <tr>\n",
              "      <th>2</th>\n",
              "      <td>2</td>\n",
              "      <td>aa5f360084278b35d746fa6af3a7a1a5ra3xe</td>\n",
              "      <td>wa00e</td>\n",
              "      <td>home goods</td>\n",
              "      <td>phone2</td>\n",
              "      <td>9759243157894736</td>\n",
              "      <td>py</td>\n",
              "      <td>112.54.208.157</td>\n",
              "      <td>vasstdc27m7nks3</td>\n",
              "    </tr>\n",
              "    <tr>\n",
              "      <th>3</th>\n",
              "      <td>3</td>\n",
              "      <td>3939ac3ef7d472a59a9c5f893dd3e39fh9ofi</td>\n",
              "      <td>jefix</td>\n",
              "      <td>jewelry</td>\n",
              "      <td>phone4</td>\n",
              "      <td>9759243157894736</td>\n",
              "      <td>in</td>\n",
              "      <td>18.99.175.133</td>\n",
              "      <td>vasstdc27m7nks3</td>\n",
              "    </tr>\n",
              "    <tr>\n",
              "      <th>4</th>\n",
              "      <td>4</td>\n",
              "      <td>8393c48eaf4b8fa96886edc7cf27b372dsibi</td>\n",
              "      <td>jefix</td>\n",
              "      <td>jewelry</td>\n",
              "      <td>phone5</td>\n",
              "      <td>9759243157894736</td>\n",
              "      <td>in</td>\n",
              "      <td>145.138.5.37</td>\n",
              "      <td>vasstdc27m7nks3</td>\n",
              "    </tr>\n",
              "  </tbody>\n",
              "</table>\n",
              "</div>\n",
              "      <button class=\"colab-df-convert\" onclick=\"convertToInteractive('df-98d0efe5-16a4-405e-a211-993ee74da9f6')\"\n",
              "              title=\"Convert this dataframe to an interactive table.\"\n",
              "              style=\"display:none;\">\n",
              "        \n",
              "  <svg xmlns=\"http://www.w3.org/2000/svg\" height=\"24px\"viewBox=\"0 0 24 24\"\n",
              "       width=\"24px\">\n",
              "    <path d=\"M0 0h24v24H0V0z\" fill=\"none\"/>\n",
              "    <path d=\"M18.56 5.44l.94 2.06.94-2.06 2.06-.94-2.06-.94-.94-2.06-.94 2.06-2.06.94zm-11 1L8.5 8.5l.94-2.06 2.06-.94-2.06-.94L8.5 2.5l-.94 2.06-2.06.94zm10 10l.94 2.06.94-2.06 2.06-.94-2.06-.94-.94-2.06-.94 2.06-2.06.94z\"/><path d=\"M17.41 7.96l-1.37-1.37c-.4-.4-.92-.59-1.43-.59-.52 0-1.04.2-1.43.59L10.3 9.45l-7.72 7.72c-.78.78-.78 2.05 0 2.83L4 21.41c.39.39.9.59 1.41.59.51 0 1.02-.2 1.41-.59l7.78-7.78 2.81-2.81c.8-.78.8-2.07 0-2.86zM5.41 20L4 18.59l7.72-7.72 1.47 1.35L5.41 20z\"/>\n",
              "  </svg>\n",
              "      </button>\n",
              "      \n",
              "  <style>\n",
              "    .colab-df-container {\n",
              "      display:flex;\n",
              "      flex-wrap:wrap;\n",
              "      gap: 12px;\n",
              "    }\n",
              "\n",
              "    .colab-df-convert {\n",
              "      background-color: #E8F0FE;\n",
              "      border: none;\n",
              "      border-radius: 50%;\n",
              "      cursor: pointer;\n",
              "      display: none;\n",
              "      fill: #1967D2;\n",
              "      height: 32px;\n",
              "      padding: 0 0 0 0;\n",
              "      width: 32px;\n",
              "    }\n",
              "\n",
              "    .colab-df-convert:hover {\n",
              "      background-color: #E2EBFA;\n",
              "      box-shadow: 0px 1px 2px rgba(60, 64, 67, 0.3), 0px 1px 3px 1px rgba(60, 64, 67, 0.15);\n",
              "      fill: #174EA6;\n",
              "    }\n",
              "\n",
              "    [theme=dark] .colab-df-convert {\n",
              "      background-color: #3B4455;\n",
              "      fill: #D2E3FC;\n",
              "    }\n",
              "\n",
              "    [theme=dark] .colab-df-convert:hover {\n",
              "      background-color: #434B5C;\n",
              "      box-shadow: 0px 1px 3px 1px rgba(0, 0, 0, 0.15);\n",
              "      filter: drop-shadow(0px 1px 2px rgba(0, 0, 0, 0.3));\n",
              "      fill: #FFFFFF;\n",
              "    }\n",
              "  </style>\n",
              "\n",
              "      <script>\n",
              "        const buttonEl =\n",
              "          document.querySelector('#df-98d0efe5-16a4-405e-a211-993ee74da9f6 button.colab-df-convert');\n",
              "        buttonEl.style.display =\n",
              "          google.colab.kernel.accessAllowed ? 'block' : 'none';\n",
              "\n",
              "        async function convertToInteractive(key) {\n",
              "          const element = document.querySelector('#df-98d0efe5-16a4-405e-a211-993ee74da9f6');\n",
              "          const dataTable =\n",
              "            await google.colab.kernel.invokeFunction('convertToInteractive',\n",
              "                                                     [key], {});\n",
              "          if (!dataTable) return;\n",
              "\n",
              "          const docLinkHtml = 'Like what you see? Visit the ' +\n",
              "            '<a target=\"_blank\" href=https://colab.research.google.com/notebooks/data_table.ipynb>data table notebook</a>'\n",
              "            + ' to learn more about interactive tables.';\n",
              "          element.innerHTML = '';\n",
              "          dataTable['output_type'] = 'display_data';\n",
              "          await google.colab.output.renderOutput(dataTable, element);\n",
              "          const docLink = document.createElement('div');\n",
              "          docLink.innerHTML = docLinkHtml;\n",
              "          element.appendChild(docLink);\n",
              "        }\n",
              "      </script>\n",
              "    </div>\n",
              "  </div>\n",
              "  "
            ]
          },
          "metadata": {},
          "execution_count": 4
        }
      ],
      "source": [
        "bids_df.head()"
      ]
    },
    {
      "cell_type": "code",
      "execution_count": 5,
      "id": "f265c334-ad4a-43aa-a884-a741eed7b137",
      "metadata": {
        "id": "f265c334-ad4a-43aa-a884-a741eed7b137",
        "colab": {
          "base_uri": "https://localhost:8080/",
          "height": 0
        },
        "outputId": "295f4ec7-87b2-4eea-b2e3-c9b96e9f8378"
      },
      "outputs": [
        {
          "output_type": "execute_result",
          "data": {
            "text/plain": [
              "                               bidder_id  \\\n",
              "0  91a3c57b13234af24875c56fb7e2b2f4rb56a   \n",
              "1  624f258b49e77713fc34034560f93fb3hu3jo   \n",
              "2  1c5f4fc669099bfbfac515cd26997bd12ruaj   \n",
              "3  4bee9aba2abda51bf43d639013d6efe12iycd   \n",
              "4  4ab12bc61c82ddd9c2d65e60555808acqgos1   \n",
              "\n",
              "                         payment_account  \\\n",
              "0  a3d2de7675556553a5f08e4c88d2c228754av   \n",
              "1  a3d2de7675556553a5f08e4c88d2c228v1sga   \n",
              "2  a3d2de7675556553a5f08e4c88d2c2280cybl   \n",
              "3  51d80e233f7b6a7dfdee484a3c120f3b2ita8   \n",
              "4  a3d2de7675556553a5f08e4c88d2c22857ddh   \n",
              "\n",
              "                                 address  outcome  \n",
              "0  a3d2de7675556553a5f08e4c88d2c228vt0u4      0.0  \n",
              "1  ae87054e5a97a8f840a3991d12611fdcrfbq3      0.0  \n",
              "2  92520288b50f03907041887884ba49c0cl0pd      0.0  \n",
              "3  4cb9717c8ad7e88a9a284989dd79b98dbevyi      0.0  \n",
              "4  2a96c3ce94b3be921e0296097b88b56a7x1ji      0.0  "
            ],
            "text/html": [
              "\n",
              "  <div id=\"df-43360692-128f-4c11-a54c-158c4f198b2c\">\n",
              "    <div class=\"colab-df-container\">\n",
              "      <div>\n",
              "<style scoped>\n",
              "    .dataframe tbody tr th:only-of-type {\n",
              "        vertical-align: middle;\n",
              "    }\n",
              "\n",
              "    .dataframe tbody tr th {\n",
              "        vertical-align: top;\n",
              "    }\n",
              "\n",
              "    .dataframe thead th {\n",
              "        text-align: right;\n",
              "    }\n",
              "</style>\n",
              "<table border=\"1\" class=\"dataframe\">\n",
              "  <thead>\n",
              "    <tr style=\"text-align: right;\">\n",
              "      <th></th>\n",
              "      <th>bidder_id</th>\n",
              "      <th>payment_account</th>\n",
              "      <th>address</th>\n",
              "      <th>outcome</th>\n",
              "    </tr>\n",
              "  </thead>\n",
              "  <tbody>\n",
              "    <tr>\n",
              "      <th>0</th>\n",
              "      <td>91a3c57b13234af24875c56fb7e2b2f4rb56a</td>\n",
              "      <td>a3d2de7675556553a5f08e4c88d2c228754av</td>\n",
              "      <td>a3d2de7675556553a5f08e4c88d2c228vt0u4</td>\n",
              "      <td>0.0</td>\n",
              "    </tr>\n",
              "    <tr>\n",
              "      <th>1</th>\n",
              "      <td>624f258b49e77713fc34034560f93fb3hu3jo</td>\n",
              "      <td>a3d2de7675556553a5f08e4c88d2c228v1sga</td>\n",
              "      <td>ae87054e5a97a8f840a3991d12611fdcrfbq3</td>\n",
              "      <td>0.0</td>\n",
              "    </tr>\n",
              "    <tr>\n",
              "      <th>2</th>\n",
              "      <td>1c5f4fc669099bfbfac515cd26997bd12ruaj</td>\n",
              "      <td>a3d2de7675556553a5f08e4c88d2c2280cybl</td>\n",
              "      <td>92520288b50f03907041887884ba49c0cl0pd</td>\n",
              "      <td>0.0</td>\n",
              "    </tr>\n",
              "    <tr>\n",
              "      <th>3</th>\n",
              "      <td>4bee9aba2abda51bf43d639013d6efe12iycd</td>\n",
              "      <td>51d80e233f7b6a7dfdee484a3c120f3b2ita8</td>\n",
              "      <td>4cb9717c8ad7e88a9a284989dd79b98dbevyi</td>\n",
              "      <td>0.0</td>\n",
              "    </tr>\n",
              "    <tr>\n",
              "      <th>4</th>\n",
              "      <td>4ab12bc61c82ddd9c2d65e60555808acqgos1</td>\n",
              "      <td>a3d2de7675556553a5f08e4c88d2c22857ddh</td>\n",
              "      <td>2a96c3ce94b3be921e0296097b88b56a7x1ji</td>\n",
              "      <td>0.0</td>\n",
              "    </tr>\n",
              "  </tbody>\n",
              "</table>\n",
              "</div>\n",
              "      <button class=\"colab-df-convert\" onclick=\"convertToInteractive('df-43360692-128f-4c11-a54c-158c4f198b2c')\"\n",
              "              title=\"Convert this dataframe to an interactive table.\"\n",
              "              style=\"display:none;\">\n",
              "        \n",
              "  <svg xmlns=\"http://www.w3.org/2000/svg\" height=\"24px\"viewBox=\"0 0 24 24\"\n",
              "       width=\"24px\">\n",
              "    <path d=\"M0 0h24v24H0V0z\" fill=\"none\"/>\n",
              "    <path d=\"M18.56 5.44l.94 2.06.94-2.06 2.06-.94-2.06-.94-.94-2.06-.94 2.06-2.06.94zm-11 1L8.5 8.5l.94-2.06 2.06-.94-2.06-.94L8.5 2.5l-.94 2.06-2.06.94zm10 10l.94 2.06.94-2.06 2.06-.94-2.06-.94-.94-2.06-.94 2.06-2.06.94z\"/><path d=\"M17.41 7.96l-1.37-1.37c-.4-.4-.92-.59-1.43-.59-.52 0-1.04.2-1.43.59L10.3 9.45l-7.72 7.72c-.78.78-.78 2.05 0 2.83L4 21.41c.39.39.9.59 1.41.59.51 0 1.02-.2 1.41-.59l7.78-7.78 2.81-2.81c.8-.78.8-2.07 0-2.86zM5.41 20L4 18.59l7.72-7.72 1.47 1.35L5.41 20z\"/>\n",
              "  </svg>\n",
              "      </button>\n",
              "      \n",
              "  <style>\n",
              "    .colab-df-container {\n",
              "      display:flex;\n",
              "      flex-wrap:wrap;\n",
              "      gap: 12px;\n",
              "    }\n",
              "\n",
              "    .colab-df-convert {\n",
              "      background-color: #E8F0FE;\n",
              "      border: none;\n",
              "      border-radius: 50%;\n",
              "      cursor: pointer;\n",
              "      display: none;\n",
              "      fill: #1967D2;\n",
              "      height: 32px;\n",
              "      padding: 0 0 0 0;\n",
              "      width: 32px;\n",
              "    }\n",
              "\n",
              "    .colab-df-convert:hover {\n",
              "      background-color: #E2EBFA;\n",
              "      box-shadow: 0px 1px 2px rgba(60, 64, 67, 0.3), 0px 1px 3px 1px rgba(60, 64, 67, 0.15);\n",
              "      fill: #174EA6;\n",
              "    }\n",
              "\n",
              "    [theme=dark] .colab-df-convert {\n",
              "      background-color: #3B4455;\n",
              "      fill: #D2E3FC;\n",
              "    }\n",
              "\n",
              "    [theme=dark] .colab-df-convert:hover {\n",
              "      background-color: #434B5C;\n",
              "      box-shadow: 0px 1px 3px 1px rgba(0, 0, 0, 0.15);\n",
              "      filter: drop-shadow(0px 1px 2px rgba(0, 0, 0, 0.3));\n",
              "      fill: #FFFFFF;\n",
              "    }\n",
              "  </style>\n",
              "\n",
              "      <script>\n",
              "        const buttonEl =\n",
              "          document.querySelector('#df-43360692-128f-4c11-a54c-158c4f198b2c button.colab-df-convert');\n",
              "        buttonEl.style.display =\n",
              "          google.colab.kernel.accessAllowed ? 'block' : 'none';\n",
              "\n",
              "        async function convertToInteractive(key) {\n",
              "          const element = document.querySelector('#df-43360692-128f-4c11-a54c-158c4f198b2c');\n",
              "          const dataTable =\n",
              "            await google.colab.kernel.invokeFunction('convertToInteractive',\n",
              "                                                     [key], {});\n",
              "          if (!dataTable) return;\n",
              "\n",
              "          const docLinkHtml = 'Like what you see? Visit the ' +\n",
              "            '<a target=\"_blank\" href=https://colab.research.google.com/notebooks/data_table.ipynb>data table notebook</a>'\n",
              "            + ' to learn more about interactive tables.';\n",
              "          element.innerHTML = '';\n",
              "          dataTable['output_type'] = 'display_data';\n",
              "          await google.colab.output.renderOutput(dataTable, element);\n",
              "          const docLink = document.createElement('div');\n",
              "          docLink.innerHTML = docLinkHtml;\n",
              "          element.appendChild(docLink);\n",
              "        }\n",
              "      </script>\n",
              "    </div>\n",
              "  </div>\n",
              "  "
            ]
          },
          "metadata": {},
          "execution_count": 5
        }
      ],
      "source": [
        "train_df.head()"
      ]
    },
    {
      "cell_type": "code",
      "execution_count": 6,
      "id": "439f2de8-ff49-4e6f-b92a-7148bf60176b",
      "metadata": {
        "id": "439f2de8-ff49-4e6f-b92a-7148bf60176b",
        "colab": {
          "base_uri": "https://localhost:8080/"
        },
        "outputId": "f1dd131b-8a1e-4a78-ccf5-6082bfd3517c"
      },
      "outputs": [
        {
          "output_type": "execute_result",
          "data": {
            "text/plain": [
              "(7656334, 9)"
            ]
          },
          "metadata": {},
          "execution_count": 6
        }
      ],
      "source": [
        "bids_df.shape"
      ]
    },
    {
      "cell_type": "code",
      "execution_count": 7,
      "id": "7c858c8d-36f9-4e1e-9142-5cef18119f44",
      "metadata": {
        "id": "7c858c8d-36f9-4e1e-9142-5cef18119f44",
        "colab": {
          "base_uri": "https://localhost:8080/"
        },
        "outputId": "b7162eb9-a2ee-4f9a-dfcb-cf07545ebc57"
      },
      "outputs": [
        {
          "output_type": "execute_result",
          "data": {
            "text/plain": [
              "(2013, 4)"
            ]
          },
          "metadata": {},
          "execution_count": 7
        }
      ],
      "source": [
        "train_df.shape"
      ]
    },
    {
      "cell_type": "markdown",
      "id": "216e8953-82db-4fdb-86e6-9a5da6afece8",
      "metadata": {
        "id": "216e8953-82db-4fdb-86e6-9a5da6afece8"
      },
      "source": [
        "#### Checking the missing values"
      ]
    },
    {
      "cell_type": "code",
      "execution_count": 8,
      "id": "6bd72473-1cdb-4e88-90c4-23e5a9b6942d",
      "metadata": {
        "id": "6bd72473-1cdb-4e88-90c4-23e5a9b6942d"
      },
      "outputs": [],
      "source": [
        "# bids_df.isnull().sum()"
      ]
    },
    {
      "cell_type": "markdown",
      "id": "60a173fb-b59c-4bf9-bb6f-d7288cf84be8",
      "metadata": {
        "id": "60a173fb-b59c-4bf9-bb6f-d7288cf84be8"
      },
      "source": [
        "In bids data, the column country has some missing values."
      ]
    },
    {
      "cell_type": "code",
      "execution_count": 9,
      "id": "b1b214e7-2e72-459a-bb0d-23073be51e1b",
      "metadata": {
        "id": "b1b214e7-2e72-459a-bb0d-23073be51e1b"
      },
      "outputs": [],
      "source": [
        "# percent_missing = bids_df['country'].isnull().mean()\n",
        "# print(f\"Percentage of missing country data: {percent_missing*100: .2f}%\")"
      ]
    },
    {
      "cell_type": "markdown",
      "id": "2d88d100-a2a8-40db-8630-fca69b8f45b7",
      "metadata": {
        "id": "2d88d100-a2a8-40db-8630-fca69b8f45b7"
      },
      "source": [
        "Hence, only a small portion of data is missing in the entire dataset."
      ]
    },
    {
      "cell_type": "markdown",
      "id": "3fdc8df3-f2d5-40ce-a8f7-c5aca35ff9e9",
      "metadata": {
        "id": "3fdc8df3-f2d5-40ce-a8f7-c5aca35ff9e9"
      },
      "source": [
        "#### Distribution of the countries"
      ]
    },
    {
      "cell_type": "code",
      "execution_count": 10,
      "id": "bcbe4940-a879-4140-adfd-4db1a3cee683",
      "metadata": {
        "id": "bcbe4940-a879-4140-adfd-4db1a3cee683"
      },
      "outputs": [],
      "source": [
        "# unique_countries = bids_df['country'].value_counts()"
      ]
    },
    {
      "cell_type": "code",
      "execution_count": 11,
      "id": "6e6a82ba-b398-44ee-b06a-79300c1a640d",
      "metadata": {
        "id": "6e6a82ba-b398-44ee-b06a-79300c1a640d"
      },
      "outputs": [],
      "source": [
        "# fig, ax = plt.subplots(figsize = (15, 4))\n",
        "# countries_distribution = sns.barplot(x = unique_countries.index, y = unique_countries.values, ax = ax)                        \n",
        "# ax.get_xaxis().set_visible(False)\n",
        "\n",
        "# plt.show()"
      ]
    },
    {
      "cell_type": "markdown",
      "id": "d4b4a845-b9ff-4b9a-9cc7-2cc1b85250a9",
      "metadata": {
        "id": "d4b4a845-b9ff-4b9a-9cc7-2cc1b85250a9"
      },
      "source": [
        "We can see the distribution of the countries and find that there is one country that is significantly higher than the rest. Hence, mode imputation may be a good approach."
      ]
    },
    {
      "cell_type": "code",
      "execution_count": 12,
      "id": "80f4fef3-74bd-4558-aedc-6d4d98d49fb8",
      "metadata": {
        "id": "80f4fef3-74bd-4558-aedc-6d4d98d49fb8"
      },
      "outputs": [],
      "source": [
        "# bids_df['country'] = bids_df['country'].fillna(bids_df['country'].mode()[0])"
      ]
    },
    {
      "cell_type": "code",
      "execution_count": 13,
      "id": "d45e3ea4-f37c-4bbb-a232-5e6c2419dcae",
      "metadata": {
        "id": "d45e3ea4-f37c-4bbb-a232-5e6c2419dcae"
      },
      "outputs": [],
      "source": [
        "# bids_df.isnull().sum()"
      ]
    },
    {
      "cell_type": "code",
      "execution_count": 14,
      "id": "c7c3db4f-95ba-4cbf-bcae-da313f150e0a",
      "metadata": {
        "id": "c7c3db4f-95ba-4cbf-bcae-da313f150e0a"
      },
      "outputs": [],
      "source": [
        "# train_df.isnull().sum()"
      ]
    },
    {
      "cell_type": "markdown",
      "id": "f6d5581a-0b25-4c2c-91a6-bc9775df98aa",
      "metadata": {
        "id": "f6d5581a-0b25-4c2c-91a6-bc9775df98aa"
      },
      "source": [
        "Train data does not have any missing data."
      ]
    },
    {
      "cell_type": "markdown",
      "id": "a9eb6bd7-c095-4156-b4b3-eb0aa3b866c9",
      "metadata": {
        "id": "a9eb6bd7-c095-4156-b4b3-eb0aa3b866c9"
      },
      "source": [
        "#### Analyze Dataset: The datasets are provided by two part:"
      ]
    },
    {
      "cell_type": "markdown",
      "id": "d53cb11e-2eb4-4120-86c7-503c859c6b5c",
      "metadata": {
        "id": "d53cb11e-2eb4-4120-86c7-503c859c6b5c"
      },
      "source": [
        "1. train.csv: the base bidder dataset with labels. Besides label, it also contains unique bidder_id followed with payment_account, address and outcome;\n",
        "2. bids.csv: the dataset contains some more useful information associated with unique key bid_id, corresponding with bidder_id, auction, merchandise, device, time, country, ip, and url. time and url are encrypted information."
      ]
    },
    {
      "cell_type": "markdown",
      "id": "b3e0ae35-84e8-4f36-bc97-b9f0555da4bb",
      "metadata": {
        "id": "b3e0ae35-84e8-4f36-bc97-b9f0555da4bb"
      },
      "source": [
        "Since both of these two files contains the unique key bidder_id, we firstly joined these data by this key. Our object is to try to find each bid is made by a human or robot, thus, we only consider the data which have bids information and labelled. We will left join on train.csv and check the joined data for missing bids information."
      ]
    },
    {
      "cell_type": "code",
      "execution_count": 15,
      "id": "436a8be1-1f50-4790-a733-0cd128f2babb",
      "metadata": {
        "id": "436a8be1-1f50-4790-a733-0cd128f2babb"
      },
      "outputs": [],
      "source": [
        "# Populate train and test data with bid details\n",
        "def populate_bids(df):\n",
        "    df = pd.merge(left=df, right=bids_df, how='left', left_on='bidder_id', right_on='bidder_id')\n",
        "    return df"
      ]
    },
    {
      "cell_type": "code",
      "execution_count": 16,
      "id": "b2196241-9058-4047-bf4a-fb5293c94e6f",
      "metadata": {
        "id": "b2196241-9058-4047-bf4a-fb5293c94e6f",
        "colab": {
          "base_uri": "https://localhost:8080/"
        },
        "outputId": "92c681d5-14e3-4aa4-b2d7-a064659e9fd6"
      },
      "outputs": [
        {
          "output_type": "execute_result",
          "data": {
            "text/plain": [
              "bidder_id             0\n",
              "payment_account       0\n",
              "address               0\n",
              "bid_id               70\n",
              "auction              70\n",
              "merchandise          70\n",
              "device               70\n",
              "time                 70\n",
              "country            6228\n",
              "ip                   70\n",
              "url                  70\n",
              "dtype: int64"
            ]
          },
          "metadata": {},
          "execution_count": 16
        }
      ],
      "source": [
        "test = populate_bids(test_df)\n",
        "test.isna().sum()"
      ]
    },
    {
      "cell_type": "code",
      "execution_count": 17,
      "id": "9fc262fe-7bfd-42e9-a123-4d900fb87de9",
      "metadata": {
        "id": "9fc262fe-7bfd-42e9-a123-4d900fb87de9",
        "colab": {
          "base_uri": "https://localhost:8080/"
        },
        "outputId": "6ddc5c4a-304f-48ee-b706-cedf3a63f5ae"
      },
      "outputs": [
        {
          "output_type": "execute_result",
          "data": {
            "text/plain": [
              "bidder_id             0\n",
              "payment_account       0\n",
              "address               0\n",
              "outcome               0\n",
              "bid_id               29\n",
              "auction              29\n",
              "merchandise          29\n",
              "device               29\n",
              "time                 29\n",
              "country            2730\n",
              "ip                   29\n",
              "url                  29\n",
              "dtype: int64"
            ]
          },
          "metadata": {},
          "execution_count": 17
        }
      ],
      "source": [
        "train = populate_bids(train_df)\n",
        "train.isna().sum()"
      ]
    },
    {
      "cell_type": "markdown",
      "id": "a374fe3f-b7a2-40f0-aea0-b400d7f67f22",
      "metadata": {
        "id": "a374fe3f-b7a2-40f0-aea0-b400d7f67f22"
      },
      "source": [
        "Data Cleaning: Since we can see all the missing values are from the variables that come from bids, we want to check if there exist some of bidder_id do not have any bids."
      ]
    },
    {
      "cell_type": "code",
      "execution_count": 18,
      "id": "a0698e3f-1bb7-4790-ad09-5e4a179b9408",
      "metadata": {
        "id": "a0698e3f-1bb7-4790-ad09-5e4a179b9408",
        "colab": {
          "base_uri": "https://localhost:8080/"
        },
        "outputId": "1f274304-0563-4ad4-df1c-c3c702ee07c9"
      },
      "outputs": [
        {
          "output_type": "execute_result",
          "data": {
            "text/plain": [
              "29"
            ]
          },
          "metadata": {},
          "execution_count": 18
        }
      ],
      "source": [
        "nobids_train = train[pd.isnull(train['bid_id'])]['bidder_id'].unique()\n",
        "len(nobids_train)"
      ]
    },
    {
      "cell_type": "code",
      "execution_count": 19,
      "id": "a360695f-e820-4c7e-9e6f-d919f6283687",
      "metadata": {
        "id": "a360695f-e820-4c7e-9e6f-d919f6283687",
        "colab": {
          "base_uri": "https://localhost:8080/"
        },
        "outputId": "1c628d4c-79ba-4cab-ae63-9def1298080f"
      },
      "outputs": [
        {
          "output_type": "execute_result",
          "data": {
            "text/plain": [
              "70"
            ]
          },
          "metadata": {},
          "execution_count": 19
        }
      ],
      "source": [
        "nobids_test = test[pd.isnull(test['bid_id'])]['bidder_id'].unique()\n",
        "len(nobids_test)"
      ]
    },
    {
      "cell_type": "code",
      "execution_count": 20,
      "id": "ee5c21af-8830-4d68-94eb-c61704f2df75",
      "metadata": {
        "id": "ee5c21af-8830-4d68-94eb-c61704f2df75",
        "colab": {
          "base_uri": "https://localhost:8080/"
        },
        "outputId": "7ff1db4c-2140-471a-b7fd-d6f717a72d8f"
      },
      "outputs": [
        {
          "output_type": "execute_result",
          "data": {
            "text/plain": [
              "17583      0.0\n",
              "42424      0.0\n",
              "129439     0.0\n",
              "214915     0.0\n",
              "221776     0.0\n",
              "226432     0.0\n",
              "255107     0.0\n",
              "305088     0.0\n",
              "333331     0.0\n",
              "409451     0.0\n",
              "654549     0.0\n",
              "657208     0.0\n",
              "788183     0.0\n",
              "790914     0.0\n",
              "794927     0.0\n",
              "810369     0.0\n",
              "883351     0.0\n",
              "1018748    0.0\n",
              "1019599    0.0\n",
              "1021349    0.0\n",
              "1123023    0.0\n",
              "1139921    0.0\n",
              "1217466    0.0\n",
              "1465813    0.0\n",
              "1482542    0.0\n",
              "1648201    0.0\n",
              "1974826    0.0\n",
              "2139077    0.0\n",
              "2999380    0.0\n",
              "Name: outcome, dtype: float64"
            ]
          },
          "metadata": {},
          "execution_count": 20
        }
      ],
      "source": [
        "# Check outcome for these in the train\n",
        "train[train['bidder_id'].isin(nobids_train)]['outcome']"
      ]
    },
    {
      "cell_type": "markdown",
      "id": "c1f27968-03d1-4c9b-b2ca-d7acd32b2ebd",
      "metadata": {
        "id": "c1f27968-03d1-4c9b-b2ca-d7acd32b2ebd"
      },
      "source": [
        "##### There exist 29 bidder in training data set having no bid data. After checking with their labels, they were all marked as human. Since we aim to detect robot, we will just ignore them. We will update populate_bids function."
      ]
    },
    {
      "cell_type": "code",
      "execution_count": 21,
      "id": "dd388325-aac3-47aa-82a4-1510c8e23296",
      "metadata": {
        "id": "dd388325-aac3-47aa-82a4-1510c8e23296"
      },
      "outputs": [],
      "source": [
        "# Populate train and test data with bid details\n",
        "def populate_bids_with_data_cleanup(df):\n",
        "    df = pd.merge(left=df, right=bids_df, how='left', left_on='bidder_id', right_on='bidder_id')\n",
        "    nobids = df[pd.isnull(df['bid_id'])]['bidder_id'].unique()\n",
        "    # for all the missing value observation, drop it\n",
        "    df = df[~df['bidder_id'].isin(nobids)]\n",
        "    return df"
      ]
    },
    {
      "cell_type": "code",
      "execution_count": 22,
      "id": "726fadd0-f988-4359-bd41-a9fb41127ac3",
      "metadata": {
        "id": "726fadd0-f988-4359-bd41-a9fb41127ac3",
        "colab": {
          "base_uri": "https://localhost:8080/"
        },
        "outputId": "f6af6dd0-b6eb-4fbf-fcfc-8bd72bc61677"
      },
      "outputs": [
        {
          "output_type": "execute_result",
          "data": {
            "text/plain": [
              "bidder_id             0\n",
              "payment_account       0\n",
              "address               0\n",
              "bid_id                0\n",
              "auction               0\n",
              "merchandise           0\n",
              "device                0\n",
              "time                  0\n",
              "country            6158\n",
              "ip                    0\n",
              "url                   0\n",
              "dtype: int64"
            ]
          },
          "metadata": {},
          "execution_count": 22
        }
      ],
      "source": [
        "test_data = populate_bids_with_data_cleanup(test_df)\n",
        "test_data.isna().sum()"
      ]
    },
    {
      "cell_type": "code",
      "execution_count": 23,
      "id": "f5f416fe-ceb5-47d9-98c4-2d6f2fa2f77a",
      "metadata": {
        "id": "f5f416fe-ceb5-47d9-98c4-2d6f2fa2f77a",
        "colab": {
          "base_uri": "https://localhost:8080/"
        },
        "outputId": "124a34ba-fb7f-4504-f0bc-d02ad70ef591"
      },
      "outputs": [
        {
          "output_type": "execute_result",
          "data": {
            "text/plain": [
              "bidder_id             0\n",
              "payment_account       0\n",
              "address               0\n",
              "outcome               0\n",
              "bid_id                0\n",
              "auction               0\n",
              "merchandise           0\n",
              "device                0\n",
              "time                  0\n",
              "country            2701\n",
              "ip                    0\n",
              "url                   0\n",
              "dtype: int64"
            ]
          },
          "metadata": {},
          "execution_count": 23
        }
      ],
      "source": [
        "train_data = populate_bids_with_data_cleanup(train_df)\n",
        "train_data.isna().sum()"
      ]
    },
    {
      "cell_type": "code",
      "execution_count": 24,
      "id": "a5f2363e-f9b5-46d7-8bbd-edabbacaf572",
      "metadata": {
        "id": "a5f2363e-f9b5-46d7-8bbd-edabbacaf572",
        "colab": {
          "base_uri": "https://localhost:8080/"
        },
        "outputId": "6d8d3a1b-396f-413a-a428-c4e7dbee6f37"
      },
      "outputs": [
        {
          "output_type": "stream",
          "name": "stdout",
          "text": [
            " 0.09 % observations missing country entry in train data.\n"
          ]
        }
      ],
      "source": [
        "# check the missing value ratio of the country entry in train data\n",
        "count_miss_ratio_train = pd.isnull(train_data['country']).sum()/len(train_data)*100\n",
        "print(f\" %0.2f %% observations missing country entry in train data.\" %\n",
        "      float(count_miss_ratio_train))"
      ]
    },
    {
      "cell_type": "code",
      "execution_count": 25,
      "id": "09efd5e5-24c6-48bd-aac1-6e7acf08293f",
      "metadata": {
        "id": "09efd5e5-24c6-48bd-aac1-6e7acf08293f",
        "colab": {
          "base_uri": "https://localhost:8080/"
        },
        "outputId": "685b8a17-5b4e-4aea-a7b1-3bb33030fef9"
      },
      "outputs": [
        {
          "output_type": "stream",
          "name": "stdout",
          "text": [
            " 0.13 % observations missing country entry in test data.\n"
          ]
        }
      ],
      "source": [
        "# check the missing value ratio of the country entry in test data\n",
        "count_miss_ratio_test = pd.isnull(test_data['country']).sum()/len(test_data)*100\n",
        "print(f\" %0.2f %% observations missing country entry in test data.\" %\n",
        "      float(count_miss_ratio_test))"
      ]
    },
    {
      "cell_type": "markdown",
      "id": "c1051663-4fb7-4a17-8d7e-3b1c7deaca66",
      "metadata": {
        "id": "c1051663-4fb7-4a17-8d7e-3b1c7deaca66"
      },
      "source": [
        "For the full data set, there is only few of observations missing country entry. We will just ignore the missing country entry data."
      ]
    },
    {
      "cell_type": "code",
      "execution_count": 26,
      "id": "4d13fecf-6393-411b-bb88-1e38b7a9ca92",
      "metadata": {
        "id": "4d13fecf-6393-411b-bb88-1e38b7a9ca92"
      },
      "outputs": [],
      "source": [
        "# Populate train and test data with bid details\n",
        "def populate_bids_with_data_cleanup_final(df):\n",
        "    df = pd.merge(left=df, right=bids_df, how='left', left_on='bidder_id', right_on='bidder_id')\n",
        "    nobids = df[pd.isnull(df['bid_id'])]['bidder_id'].unique()\n",
        "    # for all the missing value observation, drop it\n",
        "    df = df[~df['bidder_id'].isin(nobids)]\n",
        "    # remove missing country data\n",
        "    df = df.dropna()\n",
        "    return df"
      ]
    },
    {
      "cell_type": "code",
      "execution_count": 27,
      "id": "73495a46-5183-4c4f-8fb0-9ec5df151040",
      "metadata": {
        "id": "73495a46-5183-4c4f-8fb0-9ec5df151040",
        "colab": {
          "base_uri": "https://localhost:8080/"
        },
        "outputId": "385239a7-36d5-4d2e-ad63-e7a62113eade"
      },
      "outputs": [
        {
          "output_type": "execute_result",
          "data": {
            "text/plain": [
              "bidder_id          0\n",
              "payment_account    0\n",
              "address            0\n",
              "outcome            0\n",
              "bid_id             0\n",
              "auction            0\n",
              "merchandise        0\n",
              "device             0\n",
              "time               0\n",
              "country            0\n",
              "ip                 0\n",
              "url                0\n",
              "dtype: int64"
            ]
          },
          "metadata": {},
          "execution_count": 27
        }
      ],
      "source": [
        "train = populate_bids_with_data_cleanup_final(train_df)\n",
        "train.isna().sum()"
      ]
    },
    {
      "cell_type": "code",
      "execution_count": 28,
      "id": "0019885a-1a0a-4915-b454-78d6d9fe23e5",
      "metadata": {
        "id": "0019885a-1a0a-4915-b454-78d6d9fe23e5",
        "colab": {
          "base_uri": "https://localhost:8080/"
        },
        "outputId": "4831e08a-487e-485d-d2f1-b1ab7a305037"
      },
      "outputs": [
        {
          "output_type": "execute_result",
          "data": {
            "text/plain": [
              "bidder_id          0\n",
              "payment_account    0\n",
              "address            0\n",
              "bid_id             0\n",
              "auction            0\n",
              "merchandise        0\n",
              "device             0\n",
              "time               0\n",
              "country            0\n",
              "ip                 0\n",
              "url                0\n",
              "dtype: int64"
            ]
          },
          "metadata": {},
          "execution_count": 28
        }
      ],
      "source": [
        "test = populate_bids_with_data_cleanup_final(test_df)\n",
        "test.isna().sum()"
      ]
    },
    {
      "cell_type": "markdown",
      "id": "9b6b140c-6422-4e31-8474-6aa40bb11449",
      "metadata": {
        "id": "9b6b140c-6422-4e31-8474-6aa40bb11449"
      },
      "source": [
        "### Exploring data"
      ]
    },
    {
      "cell_type": "markdown",
      "id": "3dd3f4ac-72ad-490b-8dac-adde10a15340",
      "metadata": {
        "id": "3dd3f4ac-72ad-490b-8dac-adde10a15340"
      },
      "source": [
        "#### Checking the unique no of each feature in train and bids data"
      ]
    },
    {
      "cell_type": "code",
      "execution_count": 29,
      "id": "55c359c2-86d0-445a-a8aa-825a4aac53c4",
      "metadata": {
        "colab": {
          "base_uri": "https://localhost:8080/"
        },
        "id": "55c359c2-86d0-445a-a8aa-825a4aac53c4",
        "outputId": "9df9c9e7-68b6-4621-8db2-376b54cb557f"
      },
      "outputs": [
        {
          "output_type": "stream",
          "name": "stdout",
          "text": [
            "Total no of row in train:          3068523\n",
            "Total no of bids in train:         3068523\n",
            "Total no of bidder in train:      1983\n",
            "Total no of payment in train:     1983\n",
            "Total no of address in train:     1983\n",
            "Total no of auction in train:     12740\n",
            "Total no of merchandise in train: 10\n",
            "Total no of device in train:      5726\n",
            "Total no of country in train:     198\n",
            "Total no of ip in train:          1028810\n",
            "Total no of url in train:         663265\n"
          ]
        }
      ],
      "source": [
        "print(f\"Total no of row in train:          {len(train)}\")\n",
        "print(f\"Total no of bids in train:         {len(train['bid_id'].unique())}\")\n",
        "print(f\"Total no of bidder in train:      {len(train['bidder_id'].unique())}\")\n",
        "print(f\"Total no of payment in train:     {len(train['payment_account'].unique())}\")\n",
        "print(f\"Total no of address in train:     {len(train['address'].unique())}\")\n",
        "print(f\"Total no of auction in train:     {len(train['auction'].unique())}\")\n",
        "print(f\"Total no of merchandise in train: {len(train['merchandise'].unique())}\")\n",
        "print(f\"Total no of device in train:      {len(train['device'].unique())}\")\n",
        "print(f\"Total no of country in train:     {len(train['country'].unique())}\")\n",
        "print(f\"Total no of ip in train:          {len(train['ip'].unique())}\")\n",
        "print(f\"Total no of url in train:         {len(train['url'].unique())}\")"
      ]
    },
    {
      "cell_type": "code",
      "execution_count": 30,
      "id": "d3b18399-04df-40b5-bf18-51086061efce",
      "metadata": {
        "colab": {
          "base_uri": "https://localhost:8080/"
        },
        "id": "d3b18399-04df-40b5-bf18-51086061efce",
        "outputId": "ae2720e4-f607-4305-ec83-1f66adbd204a"
      },
      "outputs": [
        {
          "output_type": "stream",
          "name": "stdout",
          "text": [
            "total bids made by robots in data set: 412153\n",
            "total bids made by human in data set:  2656370\n",
            "the ratio of made by robot vs. bids made by human in data set: 3:20\n"
          ]
        }
      ],
      "source": [
        "print(f\"total bids made by robots in data set: {len(train[train['outcome'] == 1])}\")\n",
        "print(f\"total bids made by human in data set:  {len(train[train['outcome'] == 0])}\")\n",
        "print(\"the ratio of made by robot vs. bids made by human in data set: 3:20\")"
      ]
    },
    {
      "cell_type": "markdown",
      "id": "df1bb4ce-0c0b-4702-8c71-2be51b032407",
      "metadata": {
        "id": "df1bb4ce-0c0b-4702-8c71-2be51b032407"
      },
      "source": [
        "### Feature Engineering"
      ]
    },
    {
      "cell_type": "code",
      "execution_count": 31,
      "id": "0b96bed1-9094-4fd7-be6e-bcb30df4eddc",
      "metadata": {
        "id": "0b96bed1-9094-4fd7-be6e-bcb30df4eddc"
      },
      "outputs": [],
      "source": [
        "# bidding time difference per user (bidder_id)\n",
        "def calculate_bidding_time_difference_per_user(df):\n",
        "    df = df.sort_values(by=['time'])\n",
        "    df['timediffs'] = df.groupby('bidder_id')['time'].transform(pd.Series.diff)\n",
        "    return df"
      ]
    },
    {
      "cell_type": "code",
      "execution_count": 32,
      "id": "16018f47-dce9-4cb2-9343-2518068bc81b",
      "metadata": {
        "id": "16018f47-dce9-4cb2-9343-2518068bc81b"
      },
      "outputs": [],
      "source": [
        "# number of bids a user made per auction\n",
        "def bids_user_made_per_auction(df):\n",
        "    bids_per_auction = df.groupby(['auction', 'bidder_id']).size()\n",
        "    return bids_per_auction.to_frame()"
      ]
    },
    {
      "cell_type": "code",
      "execution_count": 33,
      "id": "a8901e7f-2741-4949-a8d4-205ff48fe1c9",
      "metadata": {
        "id": "a8901e7f-2741-4949-a8d4-205ff48fe1c9"
      },
      "outputs": [],
      "source": [
        "# proportion of bots for each country\n",
        "def proportion_of_bots_for_each_country(df):\n",
        "    pbots_country = df[df['outcome'] == 1].groupby('country').size()/df.groupby('country').size()\n",
        "    pbots_country = pbots_country.fillna(0)\n",
        "    return pbots_country.to_frame()"
      ]
    },
    {
      "cell_type": "code",
      "execution_count": 34,
      "id": "974db642-0314-4e3b-9d5f-393804e80f47",
      "metadata": {
        "id": "974db642-0314-4e3b-9d5f-393804e80f47"
      },
      "outputs": [],
      "source": [
        "# proportion of bots per device\n",
        "def proportion_of_bots_per_device(df):\n",
        "    pbots_device = df[df['outcome'] == 1].groupby('device').size()/df.groupby('device').size()\n",
        "    pbots_device = pbots_device.fillna(0)\n",
        "    return pbots_device.to_frame()"
      ]
    },
    {
      "cell_type": "code",
      "execution_count": 35,
      "id": "edd1e506-4bfd-4a02-8ce7-76e1a055b53d",
      "metadata": {
        "id": "edd1e506-4bfd-4a02-8ce7-76e1a055b53d"
      },
      "outputs": [],
      "source": [
        "# number of unique ip to number of bids ratio\n",
        "def number_of_unique_ip_to_number_of_bids_ratio(df):\n",
        "    ip_bids_ratio = df.groupby('bidder_id')['ip'].nunique()/df.groupby('bidder_id')['bid_id'].nunique()\n",
        "    return ip_bids_ratio.to_frame()"
      ]
    },
    {
      "cell_type": "code",
      "execution_count": 36,
      "id": "87fcb90e-8dff-4e73-aab8-0cf4ee9b51d0",
      "metadata": {
        "id": "87fcb90e-8dff-4e73-aab8-0cf4ee9b51d0"
      },
      "outputs": [],
      "source": [
        "from scipy import stats\n",
        "\n",
        "def ent(data):\n",
        "    p_data = data.value_counts()/len(data)  # calculates the probabilities\n",
        "    # input probabilities to get the entropy\n",
        "    entropy = stats.entropy(p_data)\n",
        "    return entropy"
      ]
    },
    {
      "cell_type": "code",
      "execution_count": 37,
      "id": "0467d83b-171b-450a-945a-737758a1592e",
      "metadata": {
        "id": "0467d83b-171b-450a-945a-737758a1592e"
      },
      "outputs": [],
      "source": [
        "# mean per auction url entropy for each user\n",
        "# Input a pandas series\n",
        "def mean_per_auctio_url_entropy_for_each_user(df):\n",
        "    auction_url_entropy = df.groupby(['auction', 'bidder_id'])['url'].apply(ent)\n",
        "    return auction_url_entropy.groupby('bidder_id').mean().reset_index()"
      ]
    },
    {
      "cell_type": "code",
      "execution_count": 38,
      "id": "103ea079-c6c4-46c0-905d-d4a2670ba171",
      "metadata": {
        "id": "103ea079-c6c4-46c0-905d-d4a2670ba171"
      },
      "outputs": [],
      "source": [
        "def feature_engineering(df):\n",
        "    df = df.sort_values(by=['time'])\n",
        "    df['timediffs'] = df.groupby('bidder_id')['time'].transform(pd.Series.diff)\n",
        "    df = pd.merge(df, bids_user_made_per_auction(df), on=['auction', 'bidder_id'], how='left')\n",
        "    df = pd.merge(df, proportion_of_bots_for_each_country(df), on='country', how='left')\n",
        "    df = pd.merge(df, proportion_of_bots_per_device(df), on='device', how='left')\n",
        "    df = pd.merge(df, number_of_unique_ip_to_number_of_bids_ratio(df), on='bidder_id', how='left')\n",
        "    df = pd.merge(df, mean_per_auctio_url_entropy_for_each_user(df), on='bidder_id', how='left')\n",
        "    return df"
      ]
    },
    {
      "cell_type": "code",
      "execution_count": 39,
      "id": "e24b1f10-f93b-4e32-83ce-1a4c8693fdb3",
      "metadata": {
        "id": "e24b1f10-f93b-4e32-83ce-1a4c8693fdb3",
        "colab": {
          "base_uri": "https://localhost:8080/"
        },
        "outputId": "344ad05f-07fe-484e-9a87-0724e5c87ed1"
      },
      "outputs": [
        {
          "output_type": "stream",
          "name": "stderr",
          "text": [
            "/usr/local/lib/python3.7/dist-packages/ipykernel_launcher.py:7: FutureWarning: Passing 'suffixes' which cause duplicate columns {'0_x'} in the result is deprecated and will raise a MergeError in a future version.\n",
            "  import sys\n"
          ]
        },
        {
          "output_type": "execute_result",
          "data": {
            "text/plain": [
              "bidder_id             0\n",
              "payment_account       0\n",
              "address               0\n",
              "outcome               0\n",
              "bid_id                0\n",
              "auction               0\n",
              "merchandise           0\n",
              "device                0\n",
              "time                  0\n",
              "country               0\n",
              "ip                    0\n",
              "url_x                 0\n",
              "timediffs          1983\n",
              "0_x                   0\n",
              "0_y                   0\n",
              "0_x                   0\n",
              "0_y                   0\n",
              "url_y                 0\n",
              "dtype: int64"
            ]
          },
          "metadata": {},
          "execution_count": 39
        }
      ],
      "source": [
        "train = feature_engineering(train)\n",
        "train.isnull().sum()"
      ]
    },
    {
      "cell_type": "code",
      "execution_count": 40,
      "id": "0f9bb367-d064-4980-981d-eb8fe583bd53",
      "metadata": {
        "id": "0f9bb367-d064-4980-981d-eb8fe583bd53",
        "colab": {
          "base_uri": "https://localhost:8080/"
        },
        "outputId": "3dd238cc-0dd1-46f3-ad5c-1e464d073b71"
      },
      "outputs": [
        {
          "output_type": "execute_result",
          "data": {
            "text/plain": [
              "Index(['bidder_id', 'payment_account', 'address', 'outcome', 'bid_id',\n",
              "       'auction', 'merchandise', 'device', 'time', 'country', 'ip', 'url_x',\n",
              "       'timediffs', '0_x', '0_y', '0_x', '0_y', 'url_y'],\n",
              "      dtype='object')"
            ]
          },
          "metadata": {},
          "execution_count": 40
        }
      ],
      "source": [
        "train.columns"
      ]
    },
    {
      "cell_type": "code",
      "execution_count": 41,
      "id": "401ef3ab-7456-4971-8205-9f1862cbb08e",
      "metadata": {
        "id": "401ef3ab-7456-4971-8205-9f1862cbb08e",
        "colab": {
          "base_uri": "https://localhost:8080/",
          "height": 322
        },
        "outputId": "17b86fad-aecc-406e-9cb6-8c02030f6f88"
      },
      "outputs": [
        {
          "output_type": "execute_result",
          "data": {
            "text/plain": [
              "                               bidder_id  \\\n",
              "0  76218e14c379c12d599dae9e1c00b61a3i5b2   \n",
              "1  6e178db6d17d21aa88aaca5bf15c2761lc500   \n",
              "2  197e90906939267ace2422e78e8e83889znqp   \n",
              "3  f5b2bbad20d1d7ded3ed960393bec0f40u6hn   \n",
              "4  f5b2bbad20d1d7ded3ed960393bec0f40u6hn   \n",
              "\n",
              "                         payment_account  \\\n",
              "0  a3d2de7675556553a5f08e4c88d2c228sjo4q   \n",
              "1  a3d2de7675556553a5f08e4c88d2c228mqaf6   \n",
              "2  faef6512727719c3dd147a06ba951c947c4fn   \n",
              "3  a3d2de7675556553a5f08e4c88d2c228sezhf   \n",
              "4  a3d2de7675556553a5f08e4c88d2c228sezhf   \n",
              "\n",
              "                                 address  outcome     bid_id auction  \\\n",
              "0  ca8d4b018cb62966eebb2974f5a83b4fstk6z      0.0  2351187.0   6hpvy   \n",
              "1  0d11440b07e5e2c8550af74b728ab4edk47gk      0.0  2351200.0   jqx39   \n",
              "2  dd7151709002fc3dce968916d8ec00ede03vc      0.0  2351192.0   gst86   \n",
              "3  a3d2de7675556553a5f08e4c88d2c228nfhse      0.0  2351190.0   fagyq   \n",
              "4  a3d2de7675556553a5f08e4c88d2c228nfhse      0.0  2351188.0   64uay   \n",
              "\n",
              "      merchandise     device          time country              ip  \\\n",
              "0  sporting goods  phone1161  9.631917e+15      cz   121.169.96.51   \n",
              "1         jewelry    phone99  9.631917e+15      sa   174.12.78.255   \n",
              "2      home goods   phone348  9.631917e+15      ma  154.151.182.60   \n",
              "3  sporting goods     phone1  9.631917e+15      in  161.192.187.34   \n",
              "4  sporting goods     phone0  9.631917e+15      ke  17.120.130.121   \n",
              "\n",
              "               url  timediffs  bids_per_auction  pbots_country  pbots_device  \\\n",
              "0  f33fl83l4vrg6is        NaN               368       0.089199      0.020161   \n",
              "1  omwhmwzvrn6ycq6        NaN             15452       0.177281      0.055360   \n",
              "2  vasstdc27m7nks3        NaN              2386       0.095494      0.065255   \n",
              "3  3skc4v2r07bneta        NaN               851       0.133801      0.056095   \n",
              "4  vasstdc27m7nks3        0.0                12       0.035496      0.009222   \n",
              "\n",
              "   ip_bids_ratio  auction_url_entropy  \n",
              "0       0.178624             1.463760  \n",
              "1       0.583490             0.885604  \n",
              "2       0.461730             0.809338  \n",
              "3       0.196636             1.747853  \n",
              "4       0.196636             1.747853  "
            ],
            "text/html": [
              "\n",
              "  <div id=\"df-57cc2d41-7ff1-4cf1-bb2a-655c3eb40bbf\">\n",
              "    <div class=\"colab-df-container\">\n",
              "      <div>\n",
              "<style scoped>\n",
              "    .dataframe tbody tr th:only-of-type {\n",
              "        vertical-align: middle;\n",
              "    }\n",
              "\n",
              "    .dataframe tbody tr th {\n",
              "        vertical-align: top;\n",
              "    }\n",
              "\n",
              "    .dataframe thead th {\n",
              "        text-align: right;\n",
              "    }\n",
              "</style>\n",
              "<table border=\"1\" class=\"dataframe\">\n",
              "  <thead>\n",
              "    <tr style=\"text-align: right;\">\n",
              "      <th></th>\n",
              "      <th>bidder_id</th>\n",
              "      <th>payment_account</th>\n",
              "      <th>address</th>\n",
              "      <th>outcome</th>\n",
              "      <th>bid_id</th>\n",
              "      <th>auction</th>\n",
              "      <th>merchandise</th>\n",
              "      <th>device</th>\n",
              "      <th>time</th>\n",
              "      <th>country</th>\n",
              "      <th>ip</th>\n",
              "      <th>url</th>\n",
              "      <th>timediffs</th>\n",
              "      <th>bids_per_auction</th>\n",
              "      <th>pbots_country</th>\n",
              "      <th>pbots_device</th>\n",
              "      <th>ip_bids_ratio</th>\n",
              "      <th>auction_url_entropy</th>\n",
              "    </tr>\n",
              "  </thead>\n",
              "  <tbody>\n",
              "    <tr>\n",
              "      <th>0</th>\n",
              "      <td>76218e14c379c12d599dae9e1c00b61a3i5b2</td>\n",
              "      <td>a3d2de7675556553a5f08e4c88d2c228sjo4q</td>\n",
              "      <td>ca8d4b018cb62966eebb2974f5a83b4fstk6z</td>\n",
              "      <td>0.0</td>\n",
              "      <td>2351187.0</td>\n",
              "      <td>6hpvy</td>\n",
              "      <td>sporting goods</td>\n",
              "      <td>phone1161</td>\n",
              "      <td>9.631917e+15</td>\n",
              "      <td>cz</td>\n",
              "      <td>121.169.96.51</td>\n",
              "      <td>f33fl83l4vrg6is</td>\n",
              "      <td>NaN</td>\n",
              "      <td>368</td>\n",
              "      <td>0.089199</td>\n",
              "      <td>0.020161</td>\n",
              "      <td>0.178624</td>\n",
              "      <td>1.463760</td>\n",
              "    </tr>\n",
              "    <tr>\n",
              "      <th>1</th>\n",
              "      <td>6e178db6d17d21aa88aaca5bf15c2761lc500</td>\n",
              "      <td>a3d2de7675556553a5f08e4c88d2c228mqaf6</td>\n",
              "      <td>0d11440b07e5e2c8550af74b728ab4edk47gk</td>\n",
              "      <td>0.0</td>\n",
              "      <td>2351200.0</td>\n",
              "      <td>jqx39</td>\n",
              "      <td>jewelry</td>\n",
              "      <td>phone99</td>\n",
              "      <td>9.631917e+15</td>\n",
              "      <td>sa</td>\n",
              "      <td>174.12.78.255</td>\n",
              "      <td>omwhmwzvrn6ycq6</td>\n",
              "      <td>NaN</td>\n",
              "      <td>15452</td>\n",
              "      <td>0.177281</td>\n",
              "      <td>0.055360</td>\n",
              "      <td>0.583490</td>\n",
              "      <td>0.885604</td>\n",
              "    </tr>\n",
              "    <tr>\n",
              "      <th>2</th>\n",
              "      <td>197e90906939267ace2422e78e8e83889znqp</td>\n",
              "      <td>faef6512727719c3dd147a06ba951c947c4fn</td>\n",
              "      <td>dd7151709002fc3dce968916d8ec00ede03vc</td>\n",
              "      <td>0.0</td>\n",
              "      <td>2351192.0</td>\n",
              "      <td>gst86</td>\n",
              "      <td>home goods</td>\n",
              "      <td>phone348</td>\n",
              "      <td>9.631917e+15</td>\n",
              "      <td>ma</td>\n",
              "      <td>154.151.182.60</td>\n",
              "      <td>vasstdc27m7nks3</td>\n",
              "      <td>NaN</td>\n",
              "      <td>2386</td>\n",
              "      <td>0.095494</td>\n",
              "      <td>0.065255</td>\n",
              "      <td>0.461730</td>\n",
              "      <td>0.809338</td>\n",
              "    </tr>\n",
              "    <tr>\n",
              "      <th>3</th>\n",
              "      <td>f5b2bbad20d1d7ded3ed960393bec0f40u6hn</td>\n",
              "      <td>a3d2de7675556553a5f08e4c88d2c228sezhf</td>\n",
              "      <td>a3d2de7675556553a5f08e4c88d2c228nfhse</td>\n",
              "      <td>0.0</td>\n",
              "      <td>2351190.0</td>\n",
              "      <td>fagyq</td>\n",
              "      <td>sporting goods</td>\n",
              "      <td>phone1</td>\n",
              "      <td>9.631917e+15</td>\n",
              "      <td>in</td>\n",
              "      <td>161.192.187.34</td>\n",
              "      <td>3skc4v2r07bneta</td>\n",
              "      <td>NaN</td>\n",
              "      <td>851</td>\n",
              "      <td>0.133801</td>\n",
              "      <td>0.056095</td>\n",
              "      <td>0.196636</td>\n",
              "      <td>1.747853</td>\n",
              "    </tr>\n",
              "    <tr>\n",
              "      <th>4</th>\n",
              "      <td>f5b2bbad20d1d7ded3ed960393bec0f40u6hn</td>\n",
              "      <td>a3d2de7675556553a5f08e4c88d2c228sezhf</td>\n",
              "      <td>a3d2de7675556553a5f08e4c88d2c228nfhse</td>\n",
              "      <td>0.0</td>\n",
              "      <td>2351188.0</td>\n",
              "      <td>64uay</td>\n",
              "      <td>sporting goods</td>\n",
              "      <td>phone0</td>\n",
              "      <td>9.631917e+15</td>\n",
              "      <td>ke</td>\n",
              "      <td>17.120.130.121</td>\n",
              "      <td>vasstdc27m7nks3</td>\n",
              "      <td>0.0</td>\n",
              "      <td>12</td>\n",
              "      <td>0.035496</td>\n",
              "      <td>0.009222</td>\n",
              "      <td>0.196636</td>\n",
              "      <td>1.747853</td>\n",
              "    </tr>\n",
              "  </tbody>\n",
              "</table>\n",
              "</div>\n",
              "      <button class=\"colab-df-convert\" onclick=\"convertToInteractive('df-57cc2d41-7ff1-4cf1-bb2a-655c3eb40bbf')\"\n",
              "              title=\"Convert this dataframe to an interactive table.\"\n",
              "              style=\"display:none;\">\n",
              "        \n",
              "  <svg xmlns=\"http://www.w3.org/2000/svg\" height=\"24px\"viewBox=\"0 0 24 24\"\n",
              "       width=\"24px\">\n",
              "    <path d=\"M0 0h24v24H0V0z\" fill=\"none\"/>\n",
              "    <path d=\"M18.56 5.44l.94 2.06.94-2.06 2.06-.94-2.06-.94-.94-2.06-.94 2.06-2.06.94zm-11 1L8.5 8.5l.94-2.06 2.06-.94-2.06-.94L8.5 2.5l-.94 2.06-2.06.94zm10 10l.94 2.06.94-2.06 2.06-.94-2.06-.94-.94-2.06-.94 2.06-2.06.94z\"/><path d=\"M17.41 7.96l-1.37-1.37c-.4-.4-.92-.59-1.43-.59-.52 0-1.04.2-1.43.59L10.3 9.45l-7.72 7.72c-.78.78-.78 2.05 0 2.83L4 21.41c.39.39.9.59 1.41.59.51 0 1.02-.2 1.41-.59l7.78-7.78 2.81-2.81c.8-.78.8-2.07 0-2.86zM5.41 20L4 18.59l7.72-7.72 1.47 1.35L5.41 20z\"/>\n",
              "  </svg>\n",
              "      </button>\n",
              "      \n",
              "  <style>\n",
              "    .colab-df-container {\n",
              "      display:flex;\n",
              "      flex-wrap:wrap;\n",
              "      gap: 12px;\n",
              "    }\n",
              "\n",
              "    .colab-df-convert {\n",
              "      background-color: #E8F0FE;\n",
              "      border: none;\n",
              "      border-radius: 50%;\n",
              "      cursor: pointer;\n",
              "      display: none;\n",
              "      fill: #1967D2;\n",
              "      height: 32px;\n",
              "      padding: 0 0 0 0;\n",
              "      width: 32px;\n",
              "    }\n",
              "\n",
              "    .colab-df-convert:hover {\n",
              "      background-color: #E2EBFA;\n",
              "      box-shadow: 0px 1px 2px rgba(60, 64, 67, 0.3), 0px 1px 3px 1px rgba(60, 64, 67, 0.15);\n",
              "      fill: #174EA6;\n",
              "    }\n",
              "\n",
              "    [theme=dark] .colab-df-convert {\n",
              "      background-color: #3B4455;\n",
              "      fill: #D2E3FC;\n",
              "    }\n",
              "\n",
              "    [theme=dark] .colab-df-convert:hover {\n",
              "      background-color: #434B5C;\n",
              "      box-shadow: 0px 1px 3px 1px rgba(0, 0, 0, 0.15);\n",
              "      filter: drop-shadow(0px 1px 2px rgba(0, 0, 0, 0.3));\n",
              "      fill: #FFFFFF;\n",
              "    }\n",
              "  </style>\n",
              "\n",
              "      <script>\n",
              "        const buttonEl =\n",
              "          document.querySelector('#df-57cc2d41-7ff1-4cf1-bb2a-655c3eb40bbf button.colab-df-convert');\n",
              "        buttonEl.style.display =\n",
              "          google.colab.kernel.accessAllowed ? 'block' : 'none';\n",
              "\n",
              "        async function convertToInteractive(key) {\n",
              "          const element = document.querySelector('#df-57cc2d41-7ff1-4cf1-bb2a-655c3eb40bbf');\n",
              "          const dataTable =\n",
              "            await google.colab.kernel.invokeFunction('convertToInteractive',\n",
              "                                                     [key], {});\n",
              "          if (!dataTable) return;\n",
              "\n",
              "          const docLinkHtml = 'Like what you see? Visit the ' +\n",
              "            '<a target=\"_blank\" href=https://colab.research.google.com/notebooks/data_table.ipynb>data table notebook</a>'\n",
              "            + ' to learn more about interactive tables.';\n",
              "          element.innerHTML = '';\n",
              "          dataTable['output_type'] = 'display_data';\n",
              "          await google.colab.output.renderOutput(dataTable, element);\n",
              "          const docLink = document.createElement('div');\n",
              "          docLink.innerHTML = docLinkHtml;\n",
              "          element.appendChild(docLink);\n",
              "        }\n",
              "      </script>\n",
              "    </div>\n",
              "  </div>\n",
              "  "
            ]
          },
          "metadata": {},
          "execution_count": 41
        }
      ],
      "source": [
        "# set column names\n",
        "train.columns = ['bidder_id', 'payment_account', 'address', 'outcome',\n",
        "               'bid_id', 'auction', 'merchandise', 'device', 'time', 'country',\n",
        "               'ip', 'url', 'timediffs', 'bids_per_auction', 'pbots_country', 'pbots_device',\n",
        "               'ip_bids_ratio', 'auction_url_entropy']\n",
        "train.head()"
      ]
    },
    {
      "cell_type": "code",
      "execution_count": 42,
      "id": "5d171de4-1ffc-4ce9-980e-e1c1b7f4a782",
      "metadata": {
        "id": "5d171de4-1ffc-4ce9-980e-e1c1b7f4a782",
        "colab": {
          "base_uri": "https://localhost:8080/",
          "height": 322
        },
        "outputId": "26f021b9-aee9-4305-9c85-b3bd7951e422"
      },
      "outputs": [
        {
          "output_type": "execute_result",
          "data": {
            "text/plain": [
              "                               bidder_id  \\\n",
              "0  76218e14c379c12d599dae9e1c00b61a3i5b2   \n",
              "1  6e178db6d17d21aa88aaca5bf15c2761lc500   \n",
              "2  197e90906939267ace2422e78e8e83889znqp   \n",
              "3  f5b2bbad20d1d7ded3ed960393bec0f40u6hn   \n",
              "4  f5b2bbad20d1d7ded3ed960393bec0f40u6hn   \n",
              "\n",
              "                         payment_account  \\\n",
              "0  a3d2de7675556553a5f08e4c88d2c228sjo4q   \n",
              "1  a3d2de7675556553a5f08e4c88d2c228mqaf6   \n",
              "2  faef6512727719c3dd147a06ba951c947c4fn   \n",
              "3  a3d2de7675556553a5f08e4c88d2c228sezhf   \n",
              "4  a3d2de7675556553a5f08e4c88d2c228sezhf   \n",
              "\n",
              "                                 address  outcome     bid_id auction  \\\n",
              "0  ca8d4b018cb62966eebb2974f5a83b4fstk6z      0.0  2351187.0   6hpvy   \n",
              "1  0d11440b07e5e2c8550af74b728ab4edk47gk      0.0  2351200.0   jqx39   \n",
              "2  dd7151709002fc3dce968916d8ec00ede03vc      0.0  2351192.0   gst86   \n",
              "3  a3d2de7675556553a5f08e4c88d2c228nfhse      0.0  2351190.0   fagyq   \n",
              "4  a3d2de7675556553a5f08e4c88d2c228nfhse      0.0  2351188.0   64uay   \n",
              "\n",
              "      merchandise     device          time country              ip  \\\n",
              "0  sporting goods  phone1161  9.631917e+15      cz   121.169.96.51   \n",
              "1         jewelry    phone99  9.631917e+15      sa   174.12.78.255   \n",
              "2      home goods   phone348  9.631917e+15      ma  154.151.182.60   \n",
              "3  sporting goods     phone1  9.631917e+15      in  161.192.187.34   \n",
              "4  sporting goods     phone0  9.631917e+15      ke  17.120.130.121   \n",
              "\n",
              "               url  timediffs  bids_per_auction  pbots_country  pbots_device  \\\n",
              "0  f33fl83l4vrg6is        0.0               368       0.089199      0.020161   \n",
              "1  omwhmwzvrn6ycq6        0.0             15452       0.177281      0.055360   \n",
              "2  vasstdc27m7nks3        0.0              2386       0.095494      0.065255   \n",
              "3  3skc4v2r07bneta        0.0               851       0.133801      0.056095   \n",
              "4  vasstdc27m7nks3        0.0                12       0.035496      0.009222   \n",
              "\n",
              "   ip_bids_ratio  auction_url_entropy  \n",
              "0       0.178624             1.463760  \n",
              "1       0.583490             0.885604  \n",
              "2       0.461730             0.809338  \n",
              "3       0.196636             1.747853  \n",
              "4       0.196636             1.747853  "
            ],
            "text/html": [
              "\n",
              "  <div id=\"df-ae3c3cfc-87c9-4cc0-a921-d212c81720e6\">\n",
              "    <div class=\"colab-df-container\">\n",
              "      <div>\n",
              "<style scoped>\n",
              "    .dataframe tbody tr th:only-of-type {\n",
              "        vertical-align: middle;\n",
              "    }\n",
              "\n",
              "    .dataframe tbody tr th {\n",
              "        vertical-align: top;\n",
              "    }\n",
              "\n",
              "    .dataframe thead th {\n",
              "        text-align: right;\n",
              "    }\n",
              "</style>\n",
              "<table border=\"1\" class=\"dataframe\">\n",
              "  <thead>\n",
              "    <tr style=\"text-align: right;\">\n",
              "      <th></th>\n",
              "      <th>bidder_id</th>\n",
              "      <th>payment_account</th>\n",
              "      <th>address</th>\n",
              "      <th>outcome</th>\n",
              "      <th>bid_id</th>\n",
              "      <th>auction</th>\n",
              "      <th>merchandise</th>\n",
              "      <th>device</th>\n",
              "      <th>time</th>\n",
              "      <th>country</th>\n",
              "      <th>ip</th>\n",
              "      <th>url</th>\n",
              "      <th>timediffs</th>\n",
              "      <th>bids_per_auction</th>\n",
              "      <th>pbots_country</th>\n",
              "      <th>pbots_device</th>\n",
              "      <th>ip_bids_ratio</th>\n",
              "      <th>auction_url_entropy</th>\n",
              "    </tr>\n",
              "  </thead>\n",
              "  <tbody>\n",
              "    <tr>\n",
              "      <th>0</th>\n",
              "      <td>76218e14c379c12d599dae9e1c00b61a3i5b2</td>\n",
              "      <td>a3d2de7675556553a5f08e4c88d2c228sjo4q</td>\n",
              "      <td>ca8d4b018cb62966eebb2974f5a83b4fstk6z</td>\n",
              "      <td>0.0</td>\n",
              "      <td>2351187.0</td>\n",
              "      <td>6hpvy</td>\n",
              "      <td>sporting goods</td>\n",
              "      <td>phone1161</td>\n",
              "      <td>9.631917e+15</td>\n",
              "      <td>cz</td>\n",
              "      <td>121.169.96.51</td>\n",
              "      <td>f33fl83l4vrg6is</td>\n",
              "      <td>0.0</td>\n",
              "      <td>368</td>\n",
              "      <td>0.089199</td>\n",
              "      <td>0.020161</td>\n",
              "      <td>0.178624</td>\n",
              "      <td>1.463760</td>\n",
              "    </tr>\n",
              "    <tr>\n",
              "      <th>1</th>\n",
              "      <td>6e178db6d17d21aa88aaca5bf15c2761lc500</td>\n",
              "      <td>a3d2de7675556553a5f08e4c88d2c228mqaf6</td>\n",
              "      <td>0d11440b07e5e2c8550af74b728ab4edk47gk</td>\n",
              "      <td>0.0</td>\n",
              "      <td>2351200.0</td>\n",
              "      <td>jqx39</td>\n",
              "      <td>jewelry</td>\n",
              "      <td>phone99</td>\n",
              "      <td>9.631917e+15</td>\n",
              "      <td>sa</td>\n",
              "      <td>174.12.78.255</td>\n",
              "      <td>omwhmwzvrn6ycq6</td>\n",
              "      <td>0.0</td>\n",
              "      <td>15452</td>\n",
              "      <td>0.177281</td>\n",
              "      <td>0.055360</td>\n",
              "      <td>0.583490</td>\n",
              "      <td>0.885604</td>\n",
              "    </tr>\n",
              "    <tr>\n",
              "      <th>2</th>\n",
              "      <td>197e90906939267ace2422e78e8e83889znqp</td>\n",
              "      <td>faef6512727719c3dd147a06ba951c947c4fn</td>\n",
              "      <td>dd7151709002fc3dce968916d8ec00ede03vc</td>\n",
              "      <td>0.0</td>\n",
              "      <td>2351192.0</td>\n",
              "      <td>gst86</td>\n",
              "      <td>home goods</td>\n",
              "      <td>phone348</td>\n",
              "      <td>9.631917e+15</td>\n",
              "      <td>ma</td>\n",
              "      <td>154.151.182.60</td>\n",
              "      <td>vasstdc27m7nks3</td>\n",
              "      <td>0.0</td>\n",
              "      <td>2386</td>\n",
              "      <td>0.095494</td>\n",
              "      <td>0.065255</td>\n",
              "      <td>0.461730</td>\n",
              "      <td>0.809338</td>\n",
              "    </tr>\n",
              "    <tr>\n",
              "      <th>3</th>\n",
              "      <td>f5b2bbad20d1d7ded3ed960393bec0f40u6hn</td>\n",
              "      <td>a3d2de7675556553a5f08e4c88d2c228sezhf</td>\n",
              "      <td>a3d2de7675556553a5f08e4c88d2c228nfhse</td>\n",
              "      <td>0.0</td>\n",
              "      <td>2351190.0</td>\n",
              "      <td>fagyq</td>\n",
              "      <td>sporting goods</td>\n",
              "      <td>phone1</td>\n",
              "      <td>9.631917e+15</td>\n",
              "      <td>in</td>\n",
              "      <td>161.192.187.34</td>\n",
              "      <td>3skc4v2r07bneta</td>\n",
              "      <td>0.0</td>\n",
              "      <td>851</td>\n",
              "      <td>0.133801</td>\n",
              "      <td>0.056095</td>\n",
              "      <td>0.196636</td>\n",
              "      <td>1.747853</td>\n",
              "    </tr>\n",
              "    <tr>\n",
              "      <th>4</th>\n",
              "      <td>f5b2bbad20d1d7ded3ed960393bec0f40u6hn</td>\n",
              "      <td>a3d2de7675556553a5f08e4c88d2c228sezhf</td>\n",
              "      <td>a3d2de7675556553a5f08e4c88d2c228nfhse</td>\n",
              "      <td>0.0</td>\n",
              "      <td>2351188.0</td>\n",
              "      <td>64uay</td>\n",
              "      <td>sporting goods</td>\n",
              "      <td>phone0</td>\n",
              "      <td>9.631917e+15</td>\n",
              "      <td>ke</td>\n",
              "      <td>17.120.130.121</td>\n",
              "      <td>vasstdc27m7nks3</td>\n",
              "      <td>0.0</td>\n",
              "      <td>12</td>\n",
              "      <td>0.035496</td>\n",
              "      <td>0.009222</td>\n",
              "      <td>0.196636</td>\n",
              "      <td>1.747853</td>\n",
              "    </tr>\n",
              "  </tbody>\n",
              "</table>\n",
              "</div>\n",
              "      <button class=\"colab-df-convert\" onclick=\"convertToInteractive('df-ae3c3cfc-87c9-4cc0-a921-d212c81720e6')\"\n",
              "              title=\"Convert this dataframe to an interactive table.\"\n",
              "              style=\"display:none;\">\n",
              "        \n",
              "  <svg xmlns=\"http://www.w3.org/2000/svg\" height=\"24px\"viewBox=\"0 0 24 24\"\n",
              "       width=\"24px\">\n",
              "    <path d=\"M0 0h24v24H0V0z\" fill=\"none\"/>\n",
              "    <path d=\"M18.56 5.44l.94 2.06.94-2.06 2.06-.94-2.06-.94-.94-2.06-.94 2.06-2.06.94zm-11 1L8.5 8.5l.94-2.06 2.06-.94-2.06-.94L8.5 2.5l-.94 2.06-2.06.94zm10 10l.94 2.06.94-2.06 2.06-.94-2.06-.94-.94-2.06-.94 2.06-2.06.94z\"/><path d=\"M17.41 7.96l-1.37-1.37c-.4-.4-.92-.59-1.43-.59-.52 0-1.04.2-1.43.59L10.3 9.45l-7.72 7.72c-.78.78-.78 2.05 0 2.83L4 21.41c.39.39.9.59 1.41.59.51 0 1.02-.2 1.41-.59l7.78-7.78 2.81-2.81c.8-.78.8-2.07 0-2.86zM5.41 20L4 18.59l7.72-7.72 1.47 1.35L5.41 20z\"/>\n",
              "  </svg>\n",
              "      </button>\n",
              "      \n",
              "  <style>\n",
              "    .colab-df-container {\n",
              "      display:flex;\n",
              "      flex-wrap:wrap;\n",
              "      gap: 12px;\n",
              "    }\n",
              "\n",
              "    .colab-df-convert {\n",
              "      background-color: #E8F0FE;\n",
              "      border: none;\n",
              "      border-radius: 50%;\n",
              "      cursor: pointer;\n",
              "      display: none;\n",
              "      fill: #1967D2;\n",
              "      height: 32px;\n",
              "      padding: 0 0 0 0;\n",
              "      width: 32px;\n",
              "    }\n",
              "\n",
              "    .colab-df-convert:hover {\n",
              "      background-color: #E2EBFA;\n",
              "      box-shadow: 0px 1px 2px rgba(60, 64, 67, 0.3), 0px 1px 3px 1px rgba(60, 64, 67, 0.15);\n",
              "      fill: #174EA6;\n",
              "    }\n",
              "\n",
              "    [theme=dark] .colab-df-convert {\n",
              "      background-color: #3B4455;\n",
              "      fill: #D2E3FC;\n",
              "    }\n",
              "\n",
              "    [theme=dark] .colab-df-convert:hover {\n",
              "      background-color: #434B5C;\n",
              "      box-shadow: 0px 1px 3px 1px rgba(0, 0, 0, 0.15);\n",
              "      filter: drop-shadow(0px 1px 2px rgba(0, 0, 0, 0.3));\n",
              "      fill: #FFFFFF;\n",
              "    }\n",
              "  </style>\n",
              "\n",
              "      <script>\n",
              "        const buttonEl =\n",
              "          document.querySelector('#df-ae3c3cfc-87c9-4cc0-a921-d212c81720e6 button.colab-df-convert');\n",
              "        buttonEl.style.display =\n",
              "          google.colab.kernel.accessAllowed ? 'block' : 'none';\n",
              "\n",
              "        async function convertToInteractive(key) {\n",
              "          const element = document.querySelector('#df-ae3c3cfc-87c9-4cc0-a921-d212c81720e6');\n",
              "          const dataTable =\n",
              "            await google.colab.kernel.invokeFunction('convertToInteractive',\n",
              "                                                     [key], {});\n",
              "          if (!dataTable) return;\n",
              "\n",
              "          const docLinkHtml = 'Like what you see? Visit the ' +\n",
              "            '<a target=\"_blank\" href=https://colab.research.google.com/notebooks/data_table.ipynb>data table notebook</a>'\n",
              "            + ' to learn more about interactive tables.';\n",
              "          element.innerHTML = '';\n",
              "          dataTable['output_type'] = 'display_data';\n",
              "          await google.colab.output.renderOutput(dataTable, element);\n",
              "          const docLink = document.createElement('div');\n",
              "          docLink.innerHTML = docLinkHtml;\n",
              "          element.appendChild(docLink);\n",
              "        }\n",
              "      </script>\n",
              "    </div>\n",
              "  </div>\n",
              "  "
            ]
          },
          "metadata": {},
          "execution_count": 42
        }
      ],
      "source": [
        "train.timediffs = train.timediffs.fillna(0)\n",
        "train.head()"
      ]
    },
    {
      "cell_type": "markdown",
      "id": "2f528c1e-49b9-458d-8eda-cb7bd759d480",
      "metadata": {
        "id": "2f528c1e-49b9-458d-8eda-cb7bd759d480"
      },
      "source": [
        "### Data Visualization"
      ]
    },
    {
      "cell_type": "code",
      "source": [
        "pip install beautifultable"
      ],
      "metadata": {
        "colab": {
          "base_uri": "https://localhost:8080/"
        },
        "id": "pIuBv6EKq4e1",
        "outputId": "52cc1927-f452-4fb0-e040-6e5de198c0d6"
      },
      "id": "pIuBv6EKq4e1",
      "execution_count": 43,
      "outputs": [
        {
          "output_type": "stream",
          "name": "stdout",
          "text": [
            "Looking in indexes: https://pypi.org/simple, https://us-python.pkg.dev/colab-wheels/public/simple/\n",
            "Collecting beautifultable\n",
            "  Downloading beautifultable-1.1.0-py2.py3-none-any.whl (28 kB)\n",
            "Requirement already satisfied: wcwidth in /usr/local/lib/python3.7/dist-packages (from beautifultable) (0.2.5)\n",
            "Installing collected packages: beautifultable\n",
            "Successfully installed beautifultable-1.1.0\n"
          ]
        }
      ]
    },
    {
      "cell_type": "code",
      "execution_count": 44,
      "id": "59c515d2-79df-42f1-8edf-8996bb13abec",
      "metadata": {
        "id": "59c515d2-79df-42f1-8edf-8996bb13abec"
      },
      "outputs": [],
      "source": [
        "import matplotlib.pyplot as plt\n",
        "import seaborn as sns\n",
        "from beautifultable import BeautifulTable\n",
        "import warnings"
      ]
    },
    {
      "cell_type": "code",
      "execution_count": 45,
      "id": "1ff87014-196a-4640-b900-f537fb04e922",
      "metadata": {
        "id": "1ff87014-196a-4640-b900-f537fb04e922"
      },
      "outputs": [],
      "source": [
        "warnings.filterwarnings('ignore')"
      ]
    },
    {
      "cell_type": "code",
      "execution_count": 46,
      "id": "22297c64-eb12-4f6c-a4ad-b20e1508918b",
      "metadata": {
        "colab": {
          "base_uri": "https://localhost:8080/"
        },
        "id": "22297c64-eb12-4f6c-a4ad-b20e1508918b",
        "outputId": "bbe38da4-f7b6-4466-84e9-4b0e19067fda"
      },
      "outputs": [
        {
          "output_type": "execute_result",
          "data": {
            "text/plain": [
              "((412153, 18), (2656370, 18))"
            ]
          },
          "metadata": {},
          "execution_count": 46
        }
      ],
      "source": [
        "bots = train.loc[train.outcome == 1]\n",
        "human = train.loc[train.outcome == 0]\n",
        "bots.shape, human.shape"
      ]
    },
    {
      "cell_type": "code",
      "execution_count": 47,
      "id": "1e1971ec-d84f-401c-9b12-13c3fae45286",
      "metadata": {
        "colab": {
          "base_uri": "https://localhost:8080/",
          "height": 718
        },
        "id": "1e1971ec-d84f-401c-9b12-13c3fae45286",
        "outputId": "652a0d8a-1d33-4d83-bbb4-f21260cff58f"
      },
      "outputs": [
        {
          "output_type": "display_data",
          "data": {
            "text/plain": [
              "<Figure size 1008x864 with 6 Axes>"
            ],
            "image/png": "[encoded data removed]"
          },
          "metadata": {
            "needs_background": "light"
          }
        }
      ],
      "source": [
        "fig, axes = plt.subplots(3, 2, figsize=(14, 12), sharex=False)\n",
        "sns.distplot(train['bids_per_auction'], hist=False, kde=True,\n",
        "             bins=int(180/5), color='darkblue',\n",
        "             kde_kws={'linewidth': 1.5}, ax=axes[0, 0])\n",
        "sns.distplot(human['bids_per_auction'], hist=False, kde=True,\n",
        "             bins=int(180/5), color='darkred',\n",
        "             kde_kws={'linewidth': 1.5}, ax=axes[0, 0])\n",
        "\n",
        "sns.distplot(bots['pbots_country'], hist=False, kde=True,\n",
        "             bins=int(180/5), color='darkblue',\n",
        "             kde_kws={'linewidth': 1.5}, ax=axes[0, 1])\n",
        "sns.distplot(human['pbots_country'], hist=False, kde=True,\n",
        "             bins=int(180/5), color='darkred',\n",
        "             kde_kws={'linewidth': 1.5}, ax=axes[0, 1])\n",
        "\n",
        "sns.distplot(bots['pbots_device'], hist=False, kde=True,\n",
        "             bins=int(180/5), color='darkblue', label='bots',\n",
        "             kde_kws={'linewidth': 1.5}, ax=axes[1, 0])\n",
        "sns.distplot(human['pbots_device'], hist=False, kde=True,\n",
        "             bins=int(180/5), color='darkred', label='human',\n",
        "             kde_kws={'linewidth': 1.5}, ax=axes[1, 0])\n",
        "\n",
        "sns.distplot(bots['ip_bids_ratio'], hist=False, kde=True,\n",
        "             bins=int(180/5), color='darkblue',\n",
        "             kde_kws={'linewidth': 1.5}, ax=axes[1, 1])\n",
        "sns.distplot(human['ip_bids_ratio'], hist=False, kde=True,\n",
        "             bins=int(180/5), color='darkred',\n",
        "             kde_kws={'linewidth': 1.5}, ax=axes[1, 1])\n",
        "\n",
        "sns.distplot(bots['auction_url_entropy'], hist=False, kde=True,\n",
        "             bins=int(180/5), color='darkblue',\n",
        "             kde_kws={'linewidth': 1.5}, ax=axes[2, 0])\n",
        "sns.distplot(human['auction_url_entropy'], hist=False, kde=True,\n",
        "             bins=int(180/5), color='darkred',\n",
        "             kde_kws={'linewidth': 1.5}, ax=axes[2, 0])\n",
        "\n",
        "sns.distplot(bots['timediffs'], hist=False, kde=True,\n",
        "             bins=int(180/5), color='darkblue',\n",
        "             kde_kws={'linewidth': 1.5}, ax=axes[2, 1])\n",
        "sns.distplot(human['timediffs'], hist=False, kde=True,\n",
        "             bins=int(180/5), color='darkred',\n",
        "             kde_kws={'linewidth': 1.5}, ax=axes[2, 1])\n",
        "plt.legend(['bots', 'human'])\n",
        "plt.show()"
      ]
    },
    {
      "cell_type": "code",
      "execution_count": 48,
      "id": "7c0b987b-4194-4449-b612-50272d07e9f9",
      "metadata": {
        "id": "7c0b987b-4194-4449-b612-50272d07e9f9",
        "colab": {
          "base_uri": "https://localhost:8080/",
          "height": 376
        },
        "outputId": "91a7a978-eac5-4b56-9da5-7bc815b189c9"
      },
      "outputs": [
        {
          "output_type": "execute_result",
          "data": {
            "text/plain": [
              "<matplotlib.axes._subplots.AxesSubplot at 0x7fb79a2cf590>"
            ]
          },
          "metadata": {},
          "execution_count": 48
        },
        {
          "output_type": "display_data",
          "data": {
            "text/plain": [
              "<Figure size 432x288 with 2 Axes>"
            ],
            "image/png": "[encoded data removed]"
          },
          "metadata": {
            "needs_background": "light"
          }
        }
      ],
      "source": [
        "corr_matrix = train.corr()\n",
        "sns.heatmap(corr_matrix.corr(),\n",
        "            xticklabels=corr_matrix.corr().columns,\n",
        "            yticklabels=corr_matrix.corr().columns,\n",
        "            cmap=\"YlGnBu\",\n",
        "            fmt='d')"
      ]
    },
    {
      "cell_type": "markdown",
      "id": "02dad335-2b64-41ad-8634-870de9f93d98",
      "metadata": {
        "id": "02dad335-2b64-41ad-8634-870de9f93d98"
      },
      "source": [
        "## Modeling"
      ]
    },
    {
      "cell_type": "code",
      "execution_count": 49,
      "id": "f4392895-4af6-445b-9dd6-e4cfd459cb9e",
      "metadata": {
        "id": "f4392895-4af6-445b-9dd6-e4cfd459cb9e"
      },
      "outputs": [],
      "source": [
        "# for train and test data set split\n",
        "from sklearn.model_selection import train_test_split\n",
        "bid_train, bid_test = train_test_split(train, test_size=0.2)"
      ]
    },
    {
      "cell_type": "markdown",
      "id": "89b74f31-c900-4107-8234-f7919322b696",
      "metadata": {
        "id": "89b74f31-c900-4107-8234-f7919322b696"
      },
      "source": [
        "### 1. Undersampling"
      ]
    },
    {
      "cell_type": "markdown",
      "id": "4e800a79-5c96-4998-9533-f993cd6f3f30",
      "metadata": {
        "id": "4e800a79-5c96-4998-9533-f993cd6f3f30"
      },
      "source": [
        "From data preprocessing part, we see the ratio of the robot bidder and the human bidder is 3:20, thus we need to undersampling the human bidder samples in the trainset to keep the data balance."
      ]
    },
    {
      "cell_type": "code",
      "execution_count": 50,
      "id": "bc066134-5a16-41f9-8815-90635f7a7ac3",
      "metadata": {
        "id": "bc066134-5a16-41f9-8815-90635f7a7ac3",
        "colab": {
          "base_uri": "https://localhost:8080/",
          "height": 287
        },
        "outputId": "c13485c7-b05a-4a80-dd75-219090c2067c"
      },
      "outputs": [
        {
          "output_type": "execute_result",
          "data": {
            "text/plain": [
              "                                     bidder_id  \\\n",
              "2401579  46a28eaed47c29b4fd148a50cde44840u0bsn   \n",
              "1335551  8c33cf751b05ca6a9d886a379a84a2ees9jlu   \n",
              "738158   1aa485901ede7baf78ea116e297e9d7f9en6i   \n",
              "2619785  a4e83190edb97fefdc4a6cbfd00f41fbm7c4o   \n",
              "2987356  46a28eaed47c29b4fd148a50cde44840u0bsn   \n",
              "\n",
              "                               payment_account  \\\n",
              "2401579  b5445055af775b6cbd13e1872b97f8f1jhbrd   \n",
              "1335551  cd1ea709310b008859c0cdac916b9689qnduo   \n",
              "738158   a3d2de7675556553a5f08e4c88d2c228n1tgz   \n",
              "2619785  a3d2de7675556553a5f08e4c88d2c228qteoy   \n",
              "2987356  b5445055af775b6cbd13e1872b97f8f1jhbrd   \n",
              "\n",
              "                                       address  outcome     bid_id auction  \\\n",
              "2401579  a713e4323ca6330ec8b6ae4a87ecf99b1497i      1.0   648832.0   h1ko2   \n",
              "1335551  b9a1f8858fa2679f9dc45ebae7fc660condo9      1.0  5583602.0   u077v   \n",
              "738158   ca8d4b018cb62966eebb2974f5a83b4fo1zpr      1.0  4117806.0   85448   \n",
              "2619785  3a7e6a32b24aeab0688e91a41f3188e2mhc65      1.0  1201729.0   vobqp   \n",
              "2987356  a713e4323ca6330ec8b6ae4a87ecf99b1497i      1.0  2128614.0   19feo   \n",
              "\n",
              "            merchandise     device          time country               ip  \\\n",
              "2401579          mobile    phone17  9.763056e+15      tr  157.191.249.131   \n",
              "1335551          mobile  phone1029  9.697209e+15      au    26.76.194.175   \n",
              "738158   sporting goods   phone189  9.640691e+15      in   238.214.32.189   \n",
              "2619785          mobile    phone28  9.766176e+15      za   197.245.57.108   \n",
              "2987356          mobile   phone248  9.771573e+15      dk  198.219.184.175   \n",
              "\n",
              "                     url     timediffs  bids_per_auction  pbots_country  \\\n",
              "2401579  vasstdc27m7nks3  5.263158e+08              1565       0.078637   \n",
              "1335551  vasstdc27m7nks3  9.473684e+08               657       0.526785   \n",
              "738158   j9hfsrcqsfi6392  1.789474e+09                32       0.133801   \n",
              "2619785  vasstdc27m7nks3  1.947368e+09               210       0.086032   \n",
              "2987356  vasstdc27m7nks3  2.368421e+09                91       0.240370   \n",
              "\n",
              "         pbots_device  ip_bids_ratio  auction_url_entropy  \n",
              "2401579      0.376879       0.737734             0.358151  \n",
              "1335551      0.874638       0.556040             0.071472  \n",
              "738158       0.039965       0.688275             1.135521  \n",
              "2619785      0.237663       0.506430             0.449011  \n",
              "2987356      0.591015       0.737734             0.358151  "
            ],
            "text/html": [
              "\n",
              "  <div id=\"df-b33c47ed-a05e-492d-87ca-8a813fea1767\">\n",
              "    <div class=\"colab-df-container\">\n",
              "      <div>\n",
              "<style scoped>\n",
              "    .dataframe tbody tr th:only-of-type {\n",
              "        vertical-align: middle;\n",
              "    }\n",
              "\n",
              "    .dataframe tbody tr th {\n",
              "        vertical-align: top;\n",
              "    }\n",
              "\n",
              "    .dataframe thead th {\n",
              "        text-align: right;\n",
              "    }\n",
              "</style>\n",
              "<table border=\"1\" class=\"dataframe\">\n",
              "  <thead>\n",
              "    <tr style=\"text-align: right;\">\n",
              "      <th></th>\n",
              "      <th>bidder_id</th>\n",
              "      <th>payment_account</th>\n",
              "      <th>address</th>\n",
              "      <th>outcome</th>\n",
              "      <th>bid_id</th>\n",
              "      <th>auction</th>\n",
              "      <th>merchandise</th>\n",
              "      <th>device</th>\n",
              "      <th>time</th>\n",
              "      <th>country</th>\n",
              "      <th>ip</th>\n",
              "      <th>url</th>\n",
              "      <th>timediffs</th>\n",
              "      <th>bids_per_auction</th>\n",
              "      <th>pbots_country</th>\n",
              "      <th>pbots_device</th>\n",
              "      <th>ip_bids_ratio</th>\n",
              "      <th>auction_url_entropy</th>\n",
              "    </tr>\n",
              "  </thead>\n",
              "  <tbody>\n",
              "    <tr>\n",
              "      <th>2401579</th>\n",
              "      <td>46a28eaed47c29b4fd148a50cde44840u0bsn</td>\n",
              "      <td>b5445055af775b6cbd13e1872b97f8f1jhbrd</td>\n",
              "      <td>a713e4323ca6330ec8b6ae4a87ecf99b1497i</td>\n",
              "      <td>1.0</td>\n",
              "      <td>648832.0</td>\n",
              "      <td>h1ko2</td>\n",
              "      <td>mobile</td>\n",
              "      <td>phone17</td>\n",
              "      <td>9.763056e+15</td>\n",
              "      <td>tr</td>\n",
              "      <td>157.191.249.131</td>\n",
              "      <td>vasstdc27m7nks3</td>\n",
              "      <td>5.263158e+08</td>\n",
              "      <td>1565</td>\n",
              "      <td>0.078637</td>\n",
              "      <td>0.376879</td>\n",
              "      <td>0.737734</td>\n",
              "      <td>0.358151</td>\n",
              "    </tr>\n",
              "    <tr>\n",
              "      <th>1335551</th>\n",
              "      <td>8c33cf751b05ca6a9d886a379a84a2ees9jlu</td>\n",
              "      <td>cd1ea709310b008859c0cdac916b9689qnduo</td>\n",
              "      <td>b9a1f8858fa2679f9dc45ebae7fc660condo9</td>\n",
              "      <td>1.0</td>\n",
              "      <td>5583602.0</td>\n",
              "      <td>u077v</td>\n",
              "      <td>mobile</td>\n",
              "      <td>phone1029</td>\n",
              "      <td>9.697209e+15</td>\n",
              "      <td>au</td>\n",
              "      <td>26.76.194.175</td>\n",
              "      <td>vasstdc27m7nks3</td>\n",
              "      <td>9.473684e+08</td>\n",
              "      <td>657</td>\n",
              "      <td>0.526785</td>\n",
              "      <td>0.874638</td>\n",
              "      <td>0.556040</td>\n",
              "      <td>0.071472</td>\n",
              "    </tr>\n",
              "    <tr>\n",
              "      <th>738158</th>\n",
              "      <td>1aa485901ede7baf78ea116e297e9d7f9en6i</td>\n",
              "      <td>a3d2de7675556553a5f08e4c88d2c228n1tgz</td>\n",
              "      <td>ca8d4b018cb62966eebb2974f5a83b4fo1zpr</td>\n",
              "      <td>1.0</td>\n",
              "      <td>4117806.0</td>\n",
              "      <td>85448</td>\n",
              "      <td>sporting goods</td>\n",
              "      <td>phone189</td>\n",
              "      <td>9.640691e+15</td>\n",
              "      <td>in</td>\n",
              "      <td>238.214.32.189</td>\n",
              "      <td>j9hfsrcqsfi6392</td>\n",
              "      <td>1.789474e+09</td>\n",
              "      <td>32</td>\n",
              "      <td>0.133801</td>\n",
              "      <td>0.039965</td>\n",
              "      <td>0.688275</td>\n",
              "      <td>1.135521</td>\n",
              "    </tr>\n",
              "    <tr>\n",
              "      <th>2619785</th>\n",
              "      <td>a4e83190edb97fefdc4a6cbfd00f41fbm7c4o</td>\n",
              "      <td>a3d2de7675556553a5f08e4c88d2c228qteoy</td>\n",
              "      <td>3a7e6a32b24aeab0688e91a41f3188e2mhc65</td>\n",
              "      <td>1.0</td>\n",
              "      <td>1201729.0</td>\n",
              "      <td>vobqp</td>\n",
              "      <td>mobile</td>\n",
              "      <td>phone28</td>\n",
              "      <td>9.766176e+15</td>\n",
              "      <td>za</td>\n",
              "      <td>197.245.57.108</td>\n",
              "      <td>vasstdc27m7nks3</td>\n",
              "      <td>1.947368e+09</td>\n",
              "      <td>210</td>\n",
              "      <td>0.086032</td>\n",
              "      <td>0.237663</td>\n",
              "      <td>0.506430</td>\n",
              "      <td>0.449011</td>\n",
              "    </tr>\n",
              "    <tr>\n",
              "      <th>2987356</th>\n",
              "      <td>46a28eaed47c29b4fd148a50cde44840u0bsn</td>\n",
              "      <td>b5445055af775b6cbd13e1872b97f8f1jhbrd</td>\n",
              "      <td>a713e4323ca6330ec8b6ae4a87ecf99b1497i</td>\n",
              "      <td>1.0</td>\n",
              "      <td>2128614.0</td>\n",
              "      <td>19feo</td>\n",
              "      <td>mobile</td>\n",
              "      <td>phone248</td>\n",
              "      <td>9.771573e+15</td>\n",
              "      <td>dk</td>\n",
              "      <td>198.219.184.175</td>\n",
              "      <td>vasstdc27m7nks3</td>\n",
              "      <td>2.368421e+09</td>\n",
              "      <td>91</td>\n",
              "      <td>0.240370</td>\n",
              "      <td>0.591015</td>\n",
              "      <td>0.737734</td>\n",
              "      <td>0.358151</td>\n",
              "    </tr>\n",
              "  </tbody>\n",
              "</table>\n",
              "</div>\n",
              "      <button class=\"colab-df-convert\" onclick=\"convertToInteractive('df-b33c47ed-a05e-492d-87ca-8a813fea1767')\"\n",
              "              title=\"Convert this dataframe to an interactive table.\"\n",
              "              style=\"display:none;\">\n",
              "        \n",
              "  <svg xmlns=\"http://www.w3.org/2000/svg\" height=\"24px\"viewBox=\"0 0 24 24\"\n",
              "       width=\"24px\">\n",
              "    <path d=\"M0 0h24v24H0V0z\" fill=\"none\"/>\n",
              "    <path d=\"M18.56 5.44l.94 2.06.94-2.06 2.06-.94-2.06-.94-.94-2.06-.94 2.06-2.06.94zm-11 1L8.5 8.5l.94-2.06 2.06-.94-2.06-.94L8.5 2.5l-.94 2.06-2.06.94zm10 10l.94 2.06.94-2.06 2.06-.94-2.06-.94-.94-2.06-.94 2.06-2.06.94z\"/><path d=\"M17.41 7.96l-1.37-1.37c-.4-.4-.92-.59-1.43-.59-.52 0-1.04.2-1.43.59L10.3 9.45l-7.72 7.72c-.78.78-.78 2.05 0 2.83L4 21.41c.39.39.9.59 1.41.59.51 0 1.02-.2 1.41-.59l7.78-7.78 2.81-2.81c.8-.78.8-2.07 0-2.86zM5.41 20L4 18.59l7.72-7.72 1.47 1.35L5.41 20z\"/>\n",
              "  </svg>\n",
              "      </button>\n",
              "      \n",
              "  <style>\n",
              "    .colab-df-container {\n",
              "      display:flex;\n",
              "      flex-wrap:wrap;\n",
              "      gap: 12px;\n",
              "    }\n",
              "\n",
              "    .colab-df-convert {\n",
              "      background-color: #E8F0FE;\n",
              "      border: none;\n",
              "      border-radius: 50%;\n",
              "      cursor: pointer;\n",
              "      display: none;\n",
              "      fill: #1967D2;\n",
              "      height: 32px;\n",
              "      padding: 0 0 0 0;\n",
              "      width: 32px;\n",
              "    }\n",
              "\n",
              "    .colab-df-convert:hover {\n",
              "      background-color: #E2EBFA;\n",
              "      box-shadow: 0px 1px 2px rgba(60, 64, 67, 0.3), 0px 1px 3px 1px rgba(60, 64, 67, 0.15);\n",
              "      fill: #174EA6;\n",
              "    }\n",
              "\n",
              "    [theme=dark] .colab-df-convert {\n",
              "      background-color: #3B4455;\n",
              "      fill: #D2E3FC;\n",
              "    }\n",
              "\n",
              "    [theme=dark] .colab-df-convert:hover {\n",
              "      background-color: #434B5C;\n",
              "      box-shadow: 0px 1px 3px 1px rgba(0, 0, 0, 0.15);\n",
              "      filter: drop-shadow(0px 1px 2px rgba(0, 0, 0, 0.3));\n",
              "      fill: #FFFFFF;\n",
              "    }\n",
              "  </style>\n",
              "\n",
              "      <script>\n",
              "        const buttonEl =\n",
              "          document.querySelector('#df-b33c47ed-a05e-492d-87ca-8a813fea1767 button.colab-df-convert');\n",
              "        buttonEl.style.display =\n",
              "          google.colab.kernel.accessAllowed ? 'block' : 'none';\n",
              "\n",
              "        async function convertToInteractive(key) {\n",
              "          const element = document.querySelector('#df-b33c47ed-a05e-492d-87ca-8a813fea1767');\n",
              "          const dataTable =\n",
              "            await google.colab.kernel.invokeFunction('convertToInteractive',\n",
              "                                                     [key], {});\n",
              "          if (!dataTable) return;\n",
              "\n",
              "          const docLinkHtml = 'Like what you see? Visit the ' +\n",
              "            '<a target=\"_blank\" href=https://colab.research.google.com/notebooks/data_table.ipynb>data table notebook</a>'\n",
              "            + ' to learn more about interactive tables.';\n",
              "          element.innerHTML = '';\n",
              "          dataTable['output_type'] = 'display_data';\n",
              "          await google.colab.output.renderOutput(dataTable, element);\n",
              "          const docLink = document.createElement('div');\n",
              "          docLink.innerHTML = docLinkHtml;\n",
              "          element.appendChild(docLink);\n",
              "        }\n",
              "      </script>\n",
              "    </div>\n",
              "  </div>\n",
              "  "
            ]
          },
          "metadata": {},
          "execution_count": 50
        }
      ],
      "source": [
        "# Balance train data\n",
        "bots_train = bid_train.loc[bid_train.outcome == 1]\n",
        "human_train = bid_train.loc[bid_train.outcome == 0]\n",
        "human_sample = human_train.sample(n=len(bots_train))\n",
        "bid_train_balance = pd.concat([bots_train, human_sample])\n",
        "bid_train_balance.head()"
      ]
    },
    {
      "cell_type": "code",
      "execution_count": 51,
      "id": "afcddcff-7a8f-4809-999e-ed004e4e58a3",
      "metadata": {
        "id": "afcddcff-7a8f-4809-999e-ed004e4e58a3",
        "colab": {
          "base_uri": "https://localhost:8080/"
        },
        "outputId": "acc75de8-df1b-4257-fb54-adb8149b9983"
      },
      "outputs": [
        {
          "output_type": "execute_result",
          "data": {
            "text/plain": [
              "((658774, 5), (658774,))"
            ]
          },
          "metadata": {},
          "execution_count": 51
        }
      ],
      "source": [
        "train_columns = ['bids_per_auction','pbots_country','pbots_device','ip_bids_ratio','auction_url_entropy']\n",
        "X_train = bid_train_balance[train_columns]\n",
        "y_train = bid_train_balance['outcome']\n",
        "\n",
        "X_test = bid_test[train_columns]\n",
        "y_test = bid_test['outcome']\n",
        "X_train.shape, y_train.shape"
      ]
    },
    {
      "cell_type": "markdown",
      "source": [
        "### 2: Bagging Models"
      ],
      "metadata": {
        "id": "AFQyqr4dqfx7"
      },
      "id": "AFQyqr4dqfx7"
    },
    {
      "cell_type": "code",
      "source": [
        "import xgboost as xgb\n",
        "import lightgbm as lgb"
      ],
      "metadata": {
        "id": "a3ZA-UwQtf8V"
      },
      "id": "a3ZA-UwQtf8V",
      "execution_count": 52,
      "outputs": []
    },
    {
      "cell_type": "code",
      "source": [
        "from sklearn.ensemble import BaggingRegressor,GradientBoostingRegressor\n",
        "from sklearn.metrics import mean_squared_error\n",
        "from sklearn.preprocessing import RobustScaler\n",
        "from sklearn.linear_model import LinearRegression, Lasso, ElasticNet\n",
        "from sklearn.kernel_ridge import KernelRidge\n",
        "from sklearn.pipeline import make_pipeline\n",
        "from sklearn.metrics import accuracy_score,roc_curve,auc,classification_report\n",
        "import matplotlib.pyplot as plt"
      ],
      "metadata": {
        "id": "c5XeC_6SpDkH"
      },
      "execution_count": 53,
      "outputs": [],
      "id": "c5XeC_6SpDkH"
    },
    {
      "cell_type": "code",
      "source": [
        "random_state = 42\n",
        "\n",
        "linear_regression = make_pipeline(LinearRegression())\n",
        "lasso = make_pipeline(RobustScaler(), Lasso(alpha=0.0005, random_state= random_state))\n",
        "elastic_net = make_pipeline(RobustScaler(), ElasticNet(alpha=0.0005, l1_ratio= .9, random_state= random_state))"
      ],
      "metadata": {
        "id": "chQSy2H8pg3t"
      },
      "execution_count": 54,
      "outputs": [],
      "id": "chQSy2H8pg3t"
    },
    {
      "cell_type": "code",
      "source": [
        "models_scores = []"
      ],
      "metadata": {
        "id": "Tb2jzKKNqJo9"
      },
      "execution_count": 55,
      "outputs": [],
      "id": "Tb2jzKKNqJo9"
    },
    {
      "cell_type": "code",
      "source": [
        "def rmse(model):\n",
        "    model.fit(X_train, y_train)\n",
        "    y_pred = model.predict(X_test)\n",
        "    \n",
        "    return mean_squared_error(y_test, y_pred, squared= False)"
      ],
      "metadata": {
        "id": "Pln0TXRytpeo"
      },
      "id": "Pln0TXRytpeo",
      "execution_count": 56,
      "outputs": []
    },
    {
      "cell_type": "code",
      "source": [
        "def bagging_predictions(estimator):\n",
        "    regr = BaggingRegressor(base_estimator=estimator,\n",
        "                            n_estimators=10,\n",
        "                            max_samples=1.0,\n",
        "                            bootstrap=True, # Samples are drawn with replacement\n",
        "                            n_jobs= -1,\n",
        "                            random_state=random_state).fit(X_train, y_train)\n",
        "\n",
        "    br_y_pred = regr.predict(X_test)\n",
        "\n",
        "    rmse_val = mean_squared_error(y_test, br_y_pred, squared= False) # squared= False > returns Root Mean Square Error   \n",
        "\n",
        "    print(f'RMSE for base estimator {regr.base_estimator_} = {rmse_val}\\n')\n",
        "    return br_y_pred\n",
        "\n",
        "\n",
        "predictions = np.column_stack((bagging_predictions(linear_regression),\n",
        "                              bagging_predictions(lasso),\n",
        "                              bagging_predictions(elastic_net)))\n",
        "print(f\"Bagged predictions shape: {predictions.shape}\")\n",
        "       \n",
        "y_pred = np.mean(predictions, axis=1)\n",
        "print(\"Aggregated predictions (y_pred) shape\", y_pred.shape)\n",
        "\n",
        "rmse_val = mean_squared_error(y_test, y_pred, squared= False) # squared= False > returns Root Mean Square Error   \n",
        "models_scores.append(['Bagging', rmse_val])\n",
        "\n",
        "print(f'\\nBagging RMSE= {rmse_val}')"
      ],
      "metadata": {
        "colab": {
          "base_uri": "https://localhost:8080/"
        },
        "id": "C4aZf1froM-W",
        "outputId": "dfc24d1b-fc8b-4fef-d090-f06048f2cd92"
      },
      "execution_count": 57,
      "outputs": [
        {
          "output_type": "stream",
          "name": "stdout",
          "text": [
            "RMSE for base estimator Pipeline(steps=[('linearregression', LinearRegression())]) = 0.34382223898083053\n",
            "\n",
            "RMSE for base estimator Pipeline(steps=[('robustscaler', RobustScaler()),\n",
            "                ('lasso', Lasso(alpha=0.0005, random_state=42))]) = 0.343817581320667\n",
            "\n",
            "RMSE for base estimator Pipeline(steps=[('robustscaler', RobustScaler()),\n",
            "                ('elasticnet',\n",
            "                 ElasticNet(alpha=0.0005, l1_ratio=0.9, random_state=42))]) = 0.34381800454729927\n",
            "\n",
            "Bagged predictions shape: (613705, 3)\n",
            "Aggregated predictions (y_pred) shape (613705,)\n",
            "\n",
            "Bagging RMSE= 0.3438188642976172\n"
          ]
        }
      ],
      "id": "C4aZf1froM-W"
    },
    {
      "cell_type": "code",
      "source": [
        "print('Accuracy Score of Ensemble Bagging Regressor Model : ',accuracy_score(y_test,y_pred,normalize=True))"
      ],
      "metadata": {
        "colab": {
          "base_uri": "https://localhost:8080/"
        },
        "id": "p9Vp0LH3CeNd",
        "outputId": "9e5cb206-34a7-441c-d3d7-53eef1767784"
      },
      "id": "p9Vp0LH3CeNd",
      "execution_count": 97,
      "outputs": [
        {
          "output_type": "stream",
          "name": "stdout",
          "text": [
            "Accuracy Score of Ensemble Bagging Regressor Model :  0.999978817184152\n"
          ]
        }
      ]
    },
    {
      "cell_type": "code",
      "source": [
        "gradient_boosting_regressor= GradientBoostingRegressor(n_estimators=3000, learning_rate=0.05,\n",
        "                                   max_depth=4, max_features='sqrt',\n",
        "                                   min_samples_leaf=15, min_samples_split=10, \n",
        "                                   loss='huber', random_state = random_state)\n",
        "xgb_regressor= xgb.XGBRegressor(colsample_bytree=0.4603, gamma=0.0468, \n",
        "                             learning_rate=0.05, max_depth=3, \n",
        "                             min_child_weight=1.7817, n_estimators=2200,\n",
        "                             reg_alpha=0.4640, reg_lambda=0.8571,\n",
        "                             subsample=0.5213,verbosity=0, nthread = -1, random_state = random_state)\n",
        "lgbm_regressor= lgb.LGBMRegressor(objective='regression',num_leaves=5,\n",
        "                              learning_rate=0.05, n_estimators=720,\n",
        "                              max_bin = 55, bagging_fraction = 0.8,\n",
        "                              bagging_freq = 5, feature_fraction = 0.2319,\n",
        "                              feature_fraction_seed=9, bagging_seed=9,\n",
        "                              min_data_in_leaf =6, min_sum_hessian_in_leaf = 11,random_state = random_state)"
      ],
      "metadata": {
        "id": "qBH66SfEqUz8"
      },
      "execution_count": 58,
      "outputs": [],
      "id": "qBH66SfEqUz8"
    },
    {
      "cell_type": "code",
      "source": [
        "gb_rmse= rmse(gradient_boosting_regressor)\n",
        "xgb_rmse= rmse(xgb_regressor)\n",
        "lgbm_rmse= rmse(lgbm_regressor)"
      ],
      "metadata": {
        "id": "fZoGwaB-tOxD"
      },
      "id": "fZoGwaB-tOxD",
      "execution_count": 59,
      "outputs": []
    },
    {
      "cell_type": "code",
      "source": [
        "print(f'GradientBoostingRegressor Score= {gb_rmse}')\n",
        "print(f'XGBRegressor Score= {xgb_rmse}')\n",
        "print(f'LGBMRegressor Score= {lgbm_rmse}')"
      ],
      "metadata": {
        "colab": {
          "base_uri": "https://localhost:8080/"
        },
        "id": "1d-aMj12uEvM",
        "outputId": "1f60ddce-d5f7-4798-ca1b-b26828e51db1"
      },
      "id": "1d-aMj12uEvM",
      "execution_count": 60,
      "outputs": [
        {
          "output_type": "stream",
          "name": "stdout",
          "text": [
            "GradientBoostingRegressor Score= 0.04720807920823864\n",
            "XGBRegressor Score= 0.05463198175103816\n",
            "LGBMRegressor Score= 0.23354251201324894\n"
          ]
        }
      ]
    },
    {
      "cell_type": "code",
      "source": [
        "import pickle\n",
        "model_file = \"gradient_boosting_regressor.pickle\"\n",
        "with open(model_file,'wb') as f:\n",
        "  pickle.dump(gradient_boosting_regressor, f)"
      ],
      "metadata": {
        "id": "IO_fvOg9uDvh"
      },
      "id": "IO_fvOg9uDvh",
      "execution_count": 61,
      "outputs": []
    },
    {
      "cell_type": "code",
      "source": [
        "import pickle\n",
        "model_file = \"xgb_regressor.pickle\"\n",
        "with open(model_file,'wb') as f:\n",
        "  pickle.dump(xgb_regressor, f)"
      ],
      "metadata": {
        "id": "8r2lhrqyuXCW"
      },
      "id": "8r2lhrqyuXCW",
      "execution_count": 62,
      "outputs": []
    },
    {
      "cell_type": "code",
      "source": [
        "import pickle\n",
        "model_file = \"lgbm_regressor.pickle\"\n",
        "with open(model_file,'wb') as f:\n",
        "  pickle.dump(lgbm_regressor, f)"
      ],
      "metadata": {
        "id": "h6GGhnOduYKc"
      },
      "id": "h6GGhnOduYKc",
      "execution_count": 63,
      "outputs": []
    },
    {
      "cell_type": "markdown",
      "metadata": {
        "id": "063bb1a0-8036-4b92-a25d-4d211920b06c"
      },
      "source": [
        "#### AUC"
      ],
      "id": "063bb1a0-8036-4b92-a25d-4d211920b06c"
    },
    {
      "cell_type": "code",
      "source": [
        "y_gbr_pred = gradient_boosting_regressor.predict(X_test)\n",
        "y_lgbm_pred = lgbm_regressor.predict(X_test)\n",
        "y_xgb_pred = xgb_regressor.predict(X_test)"
      ],
      "metadata": {
        "id": "OxoAC6zF3BLi"
      },
      "id": "OxoAC6zF3BLi",
      "execution_count": 64,
      "outputs": []
    },
    {
      "cell_type": "code",
      "source": [
        "print(y_gbr_pred.shape)\n",
        "print(y_lgbm_pred.shape)\n",
        "print(y_xgb_pred.shape)\n",
        "print(y_test.shape)"
      ],
      "metadata": {
        "colab": {
          "base_uri": "https://localhost:8080/"
        },
        "id": "t77z9ovP0xQL",
        "outputId": "abe77911-c0a3-45ee-87df-d12fddd541e6"
      },
      "id": "t77z9ovP0xQL",
      "execution_count": 83,
      "outputs": [
        {
          "output_type": "stream",
          "name": "stdout",
          "text": [
            "(613705,)\n",
            "(613705,)\n",
            "(613705,)\n",
            "(613705,)\n"
          ]
        }
      ]
    },
    {
      "cell_type": "code",
      "execution_count": 81,
      "metadata": {
        "id": "58c711d6-b486-4a2b-acd2-328476ca74ef",
        "colab": {
          "base_uri": "https://localhost:8080/",
          "height": 350
        },
        "outputId": "95fa1654-c7e7-49d0-e64e-2460b73a585c"
      },
      "outputs": [
        {
          "output_type": "display_data",
          "data": {
            "text/plain": [
              "<Figure size 360x360 with 1 Axes>"
            ],
            "image/png": "[encoded data removed]"
          },
          "metadata": {
            "needs_background": "light"
          }
        }
      ],
      "source": [
        "# Plot ROC in one graph\n",
        "fpr_gbr, tpr_gbr, _gbr = roc_curve(y_test,y_gbr_pred )\n",
        "roc_gbr_auc = auc(fpr_gbr, tpr_gbr)\n",
        "\n",
        "plt.figure(figsize=(5, 5))\n",
        "plt.plot(fpr_gbr, tpr_gbr, label='GBR ROC curve (area = %0.2f)' % roc_gbr_auc)\n",
        "plt.plot([0, 1], [0, 1], 'k--')\n",
        "plt.xlim([0.0, 1.0])\n",
        "plt.ylim([0.0, 1.005])\n",
        "plt.xlabel('False Positive Rate')\n",
        "plt.ylabel('True Positive Rate')\n",
        "plt.title('Receiver operating characteristic')\n",
        "plt.legend(loc=\"lower right\")\n",
        "plt.show()\n",
        "# fig.savefig('roc_bgr_auc.png')"
      ],
      "id": "58c711d6-b486-4a2b-acd2-328476ca74ef"
    },
    {
      "cell_type": "code",
      "source": [
        "# Plot ROC in one graph\n",
        "fpr_xgb, tpr_xgb, _xgb = roc_curve(y_test,y_xgb_pred)\n",
        "roc_xgb_auc = auc(fpr_xgb, tpr_xgb)\n",
        "\n",
        "plt.figure(figsize=(5, 5))\n",
        "plt.plot(fpr_xgb, tpr_xgb, label='XGBR ROC curve (area = %0.2f)' % roc_xgb_auc)\n",
        "plt.plot([0, 1], [0, 1], 'k--')\n",
        "plt.xlim([0.0, 1.0])\n",
        "plt.ylim([0.0, 1.005])\n",
        "plt.xlabel('False Positive Rate')\n",
        "plt.ylabel('True Positive Rate')\n",
        "plt.title('Receiver operating characteristic')\n",
        "plt.legend(loc=\"lower right\")\n",
        "plt.show()\n",
        "# fig.savefig('roc_xgbr_auc.png')"
      ],
      "metadata": {
        "colab": {
          "base_uri": "https://localhost:8080/",
          "height": 350
        },
        "id": "xYcOoeeg9dMi",
        "outputId": "34a68b69-12a3-4e2c-94c2-16068ddb4cab"
      },
      "id": "xYcOoeeg9dMi",
      "execution_count": 66,
      "outputs": [
        {
          "output_type": "display_data",
          "data": {
            "text/plain": [
              "<Figure size 360x360 with 1 Axes>"
            ],
            "image/png": "[encoded data removed]"
          },
          "metadata": {
            "needs_background": "light"
          }
        }
      ]
    },
    {
      "cell_type": "code",
      "source": [
        "# Plot ROC in one graph\n",
        "fpr_lgbm, tpr_lgbm, _gbr = roc_curve(y_test,y_xgb_pred)\n",
        "roc_lgbm_auc = auc(fpr_lgbm, tpr_lgbm)\n",
        "\n",
        "plt.figure(figsize=(5, 5))\n",
        "plt.plot(fpr_lgbm, tpr_lgbm, label='LGBM ROC curve (area = %0.2f)' % roc_lgbm_auc)\n",
        "plt.plot([0, 1], [0, 1], 'k--')\n",
        "plt.xlim([0.0, 1.0])\n",
        "plt.ylim([0.0, 1.005])\n",
        "plt.xlabel('False Positive Rate')\n",
        "plt.ylabel('True Positive Rate')\n",
        "plt.title('Receiver operating characteristic')\n",
        "plt.legend(loc=\"lower right\")\n",
        "plt.show()\n",
        "# fig.savefig('roc_LGBM_auc.png')"
      ],
      "metadata": {
        "colab": {
          "base_uri": "https://localhost:8080/",
          "height": 350
        },
        "id": "qck6teI29d8-",
        "outputId": "1f80b8e2-4ba9-4598-9e53-db9662d338f2"
      },
      "id": "qck6teI29d8-",
      "execution_count": 67,
      "outputs": [
        {
          "output_type": "display_data",
          "data": {
            "text/plain": [
              "<Figure size 360x360 with 1 Axes>"
            ],
            "image/png": "[encoded data removed]"
          },
          "metadata": {
            "needs_background": "light"
          }
        }
      ]
    },
    {
      "cell_type": "markdown",
      "metadata": {
        "id": "175f53e8-273c-48d4-b487-31821b86bb17"
      },
      "source": [
        "#### Precision vs. Recall"
      ],
      "id": "175f53e8-273c-48d4-b487-31821b86bb17"
    },
    {
      "cell_type": "code",
      "execution_count": 91,
      "metadata": {
        "id": "a064ecce-8bc2-4cb0-a28a-2415405a29c0",
        "colab": {
          "base_uri": "https://localhost:8080/"
        },
        "outputId": "99f043a2-50d5-4ef7-c8c4-ed348f53823b"
      },
      "outputs": [
        {
          "output_type": "stream",
          "name": "stdout",
          "text": [
            "Classification Report of XGB Regressor Model\n",
            "              precision    recall  f1-score   support\n",
            "\n",
            "         0.0       1.00      1.00      1.00    530939\n",
            "         1.0       1.00      1.00      1.00     82766\n",
            "\n",
            "    accuracy                           1.00    613705\n",
            "   macro avg       1.00      1.00      1.00    613705\n",
            "weighted avg       1.00      1.00      1.00    613705\n",
            "\n",
            "Classification Report of Gradient Boosting Regressor Model\n",
            "              precision    recall  f1-score   support\n",
            "\n",
            "         0.0       1.00      1.00      1.00    530939\n",
            "         1.0       0.99      1.00      0.99     82766\n",
            "\n",
            "    accuracy                           1.00    613705\n",
            "   macro avg       0.99      1.00      1.00    613705\n",
            "weighted avg       1.00      1.00      1.00    613705\n",
            "\n",
            "Classification Report of LGBM Regressor Model\n",
            "              precision    recall  f1-score   support\n",
            "\n",
            "         0.0       0.99      0.94      0.96    530939\n",
            "         1.0       0.70      0.95      0.81     82766\n",
            "\n",
            "    accuracy                           0.94    613705\n",
            "   macro avg       0.85      0.94      0.89    613705\n",
            "weighted avg       0.95      0.94      0.94    613705\n",
            "\n"
          ]
        }
      ],
      "source": [
        "print('Classification Report of XGB Regressor Model')\n",
        "print(classification_report(y_test, y_xgb_pred.round()))\n",
        "\n",
        "print('Classification Report of Gradient Boosting Regressor Model')\n",
        "print(classification_report(y_test, y_gbr_pred.round()))\n",
        "\n",
        "print('Classification Report of LGBM Regressor Model')\n",
        "print(classification_report(y_test, y_lgbm_pred.round()))"
      ],
      "id": "a064ecce-8bc2-4cb0-a28a-2415405a29c0"
    },
    {
      "cell_type": "code",
      "source": [
        "print('Accuracy Score of XGB Regressor Model')\n",
        "print(accuracy_score(y_test, y_xgb_pred.round(),normalize=True))\n",
        "\n",
        "print('Accuracy Score of Gradient Boosting Regressor Model')\n",
        "print(accuracy_score(y_test, y_gbr_pred.round(),normalize=True))\n",
        "\n",
        "print('Accuracy Score of LGBM Regressor Model')\n",
        "print(accuracy_score(y_test, y_lgbm_pred.round(),normalize=True))"
      ],
      "metadata": {
        "colab": {
          "base_uri": "https://localhost:8080/"
        },
        "id": "TG5eG5EeB6h4",
        "outputId": "913a9637-8b4d-4633-f3ac-ff3badcee2a4"
      },
      "id": "TG5eG5EeB6h4",
      "execution_count": 93,
      "outputs": [
        {
          "output_type": "stream",
          "name": "stdout",
          "text": [
            "Accuracy Score of XGB Regressor Model\n",
            "0.999274895919049\n",
            "Accuracy Score of Gradient Boosting Regressor Model\n",
            "0.9983705526270765\n",
            "Accuracy Score of LGBM Regressor Model\n",
            "0.9391303639370707\n"
          ]
        }
      ]
    },
    {
      "cell_type": "markdown",
      "id": "50555fa5-835c-4233-b4da-a4065ae37c86",
      "metadata": {
        "id": "50555fa5-835c-4233-b4da-a4065ae37c86"
      },
      "source": [
        "### 2. XGB (eXtreme Gradient Boosting)"
      ]
    },
    {
      "cell_type": "code",
      "source": [
        "# import XGBoost\n",
        "import xgboost as xgb"
      ],
      "metadata": {
        "id": "ThRO5x1UZA8m"
      },
      "id": "ThRO5x1UZA8m",
      "execution_count": 68,
      "outputs": []
    },
    {
      "cell_type": "code",
      "source": [
        "from xgboost import XGBClassifier\n",
        "\n",
        "\n",
        "# declare parameters\n",
        "params = {\n",
        "            'objective':'binary:logistic',\n",
        "            'max_depth': 4,\n",
        "            'alpha': 10,\n",
        "            'learning_rate': 1.0,\n",
        "            'n_estimators':100\n",
        "        }         \n",
        "           \n",
        "          \n",
        "# instantiate the classifier \n",
        "xgb_clf = XGBClassifier(**params)\n",
        "\n",
        "\n",
        "# fit the classifier to the training data\n",
        "xgb_clf.fit(X_train, y_train)"
      ],
      "metadata": {
        "id": "KrKTnMm9ksP8",
        "colab": {
          "base_uri": "https://localhost:8080/"
        },
        "outputId": "65033ee1-d38e-4b80-eb88-336068ac1547"
      },
      "id": "KrKTnMm9ksP8",
      "execution_count": 69,
      "outputs": [
        {
          "output_type": "execute_result",
          "data": {
            "text/plain": [
              "XGBClassifier(alpha=10, learning_rate=1.0, max_depth=4)"
            ]
          },
          "metadata": {},
          "execution_count": 69
        }
      ]
    },
    {
      "cell_type": "code",
      "source": [
        "print(xgb_clf)"
      ],
      "metadata": {
        "id": "GwT8Uhatk2E9",
        "colab": {
          "base_uri": "https://localhost:8080/"
        },
        "outputId": "7119d9d6-9266-485d-bb00-c6d11e62a21b"
      },
      "id": "GwT8Uhatk2E9",
      "execution_count": 70,
      "outputs": [
        {
          "output_type": "stream",
          "name": "stdout",
          "text": [
            "XGBClassifier(alpha=10, learning_rate=1.0, max_depth=4)\n"
          ]
        }
      ]
    },
    {
      "cell_type": "code",
      "source": [
        "y_pred = xgb_clf.predict(X_test)"
      ],
      "metadata": {
        "id": "BGWmpGlYm4My"
      },
      "id": "BGWmpGlYm4My",
      "execution_count": 71,
      "outputs": []
    },
    {
      "cell_type": "code",
      "source": [
        "from sklearn.metrics import accuracy_score,roc_curve\n",
        "\n",
        "print('XGBoost model accuracy score: {0:0.4f}'. format(accuracy_score(y_test, y_pred)))"
      ],
      "metadata": {
        "id": "UKLSqS9Vm5_P",
        "colab": {
          "base_uri": "https://localhost:8080/"
        },
        "outputId": "699815b1-88c0-4c79-f137-020a74f0248a"
      },
      "id": "UKLSqS9Vm5_P",
      "execution_count": 72,
      "outputs": [
        {
          "output_type": "stream",
          "name": "stdout",
          "text": [
            "XGBoost model accuracy score: 1.0000\n"
          ]
        }
      ]
    },
    {
      "cell_type": "code",
      "source": [
        "from xgboost import cv\n",
        "X_data = [X_train, X_test]\n",
        "y_data = [y_train,y_test]\n",
        "X = pd.concat(X_data)\n",
        "y=pd.concat(y_data)\n",
        "data_dmatrix = xgb.DMatrix(data=X,label=y)\n",
        "params = {\"objective\":\"binary:logistic\",'colsample_bytree': 0.3,'learning_rate': 0.1,\n",
        "                'max_depth': 5, 'alpha': 10}\n",
        "\n",
        "xgb_cv = cv(dtrain=data_dmatrix, params=params, nfold=3,\n",
        "                    num_boost_round=50, early_stopping_rounds=10, metrics=\"auc\", as_pandas=True, seed=123)"
      ],
      "metadata": {
        "id": "D8M25tbpm8U6"
      },
      "id": "D8M25tbpm8U6",
      "execution_count": 73,
      "outputs": []
    },
    {
      "cell_type": "code",
      "source": [
        "xgb_cv.head()"
      ],
      "metadata": {
        "id": "BmbpF4C_n08f",
        "colab": {
          "base_uri": "https://localhost:8080/",
          "height": 206
        },
        "outputId": "276073db-db2f-4430-97ec-1750878009cf"
      },
      "id": "BmbpF4C_n08f",
      "execution_count": 74,
      "outputs": [
        {
          "output_type": "execute_result",
          "data": {
            "text/plain": [
              "   train-auc-mean  train-auc-std  test-auc-mean  test-auc-std\n",
              "0        0.962825       0.000063       0.962825      0.000126\n",
              "1        0.965335       0.001408       0.965249      0.001166\n",
              "2        0.969676       0.011529       0.969548      0.011699\n",
              "3        0.975911       0.006128       0.975832      0.006193\n",
              "4        0.971024       0.010654       0.970960      0.010706"
            ],
            "text/html": [
              "\n",
              "  <div id=\"df-ba8f5485-22f4-44d9-82c7-61b30976bfaa\">\n",
              "    <div class=\"colab-df-container\">\n",
              "      <div>\n",
              "<style scoped>\n",
              "    .dataframe tbody tr th:only-of-type {\n",
              "        vertical-align: middle;\n",
              "    }\n",
              "\n",
              "    .dataframe tbody tr th {\n",
              "        vertical-align: top;\n",
              "    }\n",
              "\n",
              "    .dataframe thead th {\n",
              "        text-align: right;\n",
              "    }\n",
              "</style>\n",
              "<table border=\"1\" class=\"dataframe\">\n",
              "  <thead>\n",
              "    <tr style=\"text-align: right;\">\n",
              "      <th></th>\n",
              "      <th>train-auc-mean</th>\n",
              "      <th>train-auc-std</th>\n",
              "      <th>test-auc-mean</th>\n",
              "      <th>test-auc-std</th>\n",
              "    </tr>\n",
              "  </thead>\n",
              "  <tbody>\n",
              "    <tr>\n",
              "      <th>0</th>\n",
              "      <td>0.962825</td>\n",
              "      <td>0.000063</td>\n",
              "      <td>0.962825</td>\n",
              "      <td>0.000126</td>\n",
              "    </tr>\n",
              "    <tr>\n",
              "      <th>1</th>\n",
              "      <td>0.965335</td>\n",
              "      <td>0.001408</td>\n",
              "      <td>0.965249</td>\n",
              "      <td>0.001166</td>\n",
              "    </tr>\n",
              "    <tr>\n",
              "      <th>2</th>\n",
              "      <td>0.969676</td>\n",
              "      <td>0.011529</td>\n",
              "      <td>0.969548</td>\n",
              "      <td>0.011699</td>\n",
              "    </tr>\n",
              "    <tr>\n",
              "      <th>3</th>\n",
              "      <td>0.975911</td>\n",
              "      <td>0.006128</td>\n",
              "      <td>0.975832</td>\n",
              "      <td>0.006193</td>\n",
              "    </tr>\n",
              "    <tr>\n",
              "      <th>4</th>\n",
              "      <td>0.971024</td>\n",
              "      <td>0.010654</td>\n",
              "      <td>0.970960</td>\n",
              "      <td>0.010706</td>\n",
              "    </tr>\n",
              "  </tbody>\n",
              "</table>\n",
              "</div>\n",
              "      <button class=\"colab-df-convert\" onclick=\"convertToInteractive('df-ba8f5485-22f4-44d9-82c7-61b30976bfaa')\"\n",
              "              title=\"Convert this dataframe to an interactive table.\"\n",
              "              style=\"display:none;\">\n",
              "        \n",
              "  <svg xmlns=\"http://www.w3.org/2000/svg\" height=\"24px\"viewBox=\"0 0 24 24\"\n",
              "       width=\"24px\">\n",
              "    <path d=\"M0 0h24v24H0V0z\" fill=\"none\"/>\n",
              "    <path d=\"M18.56 5.44l.94 2.06.94-2.06 2.06-.94-2.06-.94-.94-2.06-.94 2.06-2.06.94zm-11 1L8.5 8.5l.94-2.06 2.06-.94-2.06-.94L8.5 2.5l-.94 2.06-2.06.94zm10 10l.94 2.06.94-2.06 2.06-.94-2.06-.94-.94-2.06-.94 2.06-2.06.94z\"/><path d=\"M17.41 7.96l-1.37-1.37c-.4-.4-.92-.59-1.43-.59-.52 0-1.04.2-1.43.59L10.3 9.45l-7.72 7.72c-.78.78-.78 2.05 0 2.83L4 21.41c.39.39.9.59 1.41.59.51 0 1.02-.2 1.41-.59l7.78-7.78 2.81-2.81c.8-.78.8-2.07 0-2.86zM5.41 20L4 18.59l7.72-7.72 1.47 1.35L5.41 20z\"/>\n",
              "  </svg>\n",
              "      </button>\n",
              "      \n",
              "  <style>\n",
              "    .colab-df-container {\n",
              "      display:flex;\n",
              "      flex-wrap:wrap;\n",
              "      gap: 12px;\n",
              "    }\n",
              "\n",
              "    .colab-df-convert {\n",
              "      background-color: #E8F0FE;\n",
              "      border: none;\n",
              "      border-radius: 50%;\n",
              "      cursor: pointer;\n",
              "      display: none;\n",
              "      fill: #1967D2;\n",
              "      height: 32px;\n",
              "      padding: 0 0 0 0;\n",
              "      width: 32px;\n",
              "    }\n",
              "\n",
              "    .colab-df-convert:hover {\n",
              "      background-color: #E2EBFA;\n",
              "      box-shadow: 0px 1px 2px rgba(60, 64, 67, 0.3), 0px 1px 3px 1px rgba(60, 64, 67, 0.15);\n",
              "      fill: #174EA6;\n",
              "    }\n",
              "\n",
              "    [theme=dark] .colab-df-convert {\n",
              "      background-color: #3B4455;\n",
              "      fill: #D2E3FC;\n",
              "    }\n",
              "\n",
              "    [theme=dark] .colab-df-convert:hover {\n",
              "      background-color: #434B5C;\n",
              "      box-shadow: 0px 1px 3px 1px rgba(0, 0, 0, 0.15);\n",
              "      filter: drop-shadow(0px 1px 2px rgba(0, 0, 0, 0.3));\n",
              "      fill: #FFFFFF;\n",
              "    }\n",
              "  </style>\n",
              "\n",
              "      <script>\n",
              "        const buttonEl =\n",
              "          document.querySelector('#df-ba8f5485-22f4-44d9-82c7-61b30976bfaa button.colab-df-convert');\n",
              "        buttonEl.style.display =\n",
              "          google.colab.kernel.accessAllowed ? 'block' : 'none';\n",
              "\n",
              "        async function convertToInteractive(key) {\n",
              "          const element = document.querySelector('#df-ba8f5485-22f4-44d9-82c7-61b30976bfaa');\n",
              "          const dataTable =\n",
              "            await google.colab.kernel.invokeFunction('convertToInteractive',\n",
              "                                                     [key], {});\n",
              "          if (!dataTable) return;\n",
              "\n",
              "          const docLinkHtml = 'Like what you see? Visit the ' +\n",
              "            '<a target=\"_blank\" href=https://colab.research.google.com/notebooks/data_table.ipynb>data table notebook</a>'\n",
              "            + ' to learn more about interactive tables.';\n",
              "          element.innerHTML = '';\n",
              "          dataTable['output_type'] = 'display_data';\n",
              "          await google.colab.output.renderOutput(dataTable, element);\n",
              "          const docLink = document.createElement('div');\n",
              "          docLink.innerHTML = docLinkHtml;\n",
              "          element.appendChild(docLink);\n",
              "        }\n",
              "      </script>\n",
              "    </div>\n",
              "  </div>\n",
              "  "
            ]
          },
          "metadata": {},
          "execution_count": 74
        }
      ]
    },
    {
      "cell_type": "code",
      "source": [
        "xgb.plot_importance(xgb_clf)\n",
        "plt.figure(figsize = (16, 12))\n",
        "plt.show()"
      ],
      "metadata": {
        "id": "VXKXzOjmntSQ",
        "colab": {
          "base_uri": "https://localhost:8080/",
          "height": 313
        },
        "outputId": "90bde19d-8def-473b-9d7f-56d67d80bb79"
      },
      "id": "VXKXzOjmntSQ",
      "execution_count": 75,
      "outputs": [
        {
          "output_type": "display_data",
          "data": {
            "text/plain": [
              "<Figure size 432x288 with 1 Axes>"
            ],
            "image/png": "[encoded data removed]"
          },
          "metadata": {
            "needs_background": "light"
          }
        },
        {
          "output_type": "display_data",
          "data": {
            "text/plain": [
              "<Figure size 1152x864 with 0 Axes>"
            ]
          },
          "metadata": {}
        }
      ]
    },
    {
      "cell_type": "code",
      "source": [
        "import pickle\n",
        "model_file = \"xgb.pickle\"\n",
        "with open(model_file,'wb') as f:\n",
        "  pickle.dump(xgb_clf, f)"
      ],
      "metadata": {
        "id": "4-7IjfCfn2UL"
      },
      "id": "4-7IjfCfn2UL",
      "execution_count": 76,
      "outputs": []
    },
    {
      "cell_type": "markdown",
      "metadata": {
        "id": "882a4164-283c-46f8-9bc5-42ab03d1df94"
      },
      "source": [
        "#### AUC"
      ],
      "id": "882a4164-283c-46f8-9bc5-42ab03d1df94"
    },
    {
      "cell_type": "code",
      "execution_count": 77,
      "metadata": {
        "id": "02869b39-21c7-4c34-8b9e-b53bf296f90e",
        "colab": {
          "base_uri": "https://localhost:8080/",
          "height": 350
        },
        "outputId": "05678ce6-6257-4798-b2c2-67b005078a7a"
      },
      "outputs": [
        {
          "output_type": "display_data",
          "data": {
            "text/plain": [
              "<Figure size 360x360 with 1 Axes>"
            ],
            "image/png": "[encoded data removed]"
          },
          "metadata": {
            "needs_background": "light"
          }
        }
      ],
      "source": [
        "from sklearn.metrics import roc_curve, auc\n",
        "from sklearn.metrics import confusion_matrix\n",
        "from sklearn.metrics import classification_report\n",
        "from pylab import rcParams\n",
        "\n",
        "# Plot ROC in one graph\n",
        "y_xgb_clf_score = xgb_clf.predict_proba(X_test)[:, 1]\n",
        "fpr_xgb_clf, tpr_xgb_clf, _xgb_clf = roc_curve(y_test, y_xgb_clf_score)\n",
        "roc_xgb_clf_auc = auc(fpr_xgb_clf, tpr_xgb_clf)\n",
        "\n",
        "fig = plt.figure(figsize=(5, 5))\n",
        "plt.plot(fpr_xgb_clf, tpr_xgb_clf, label='XGB ROC curve (area = %0.2f)' % roc_xgb_clf_auc)\n",
        "plt.plot([0, 1], [0, 1], 'k--')\n",
        "plt.xlim([0.0, 1.0])\n",
        "plt.ylim([0.0, 1.005])\n",
        "plt.xlabel('False Positive Rate')\n",
        "plt.ylabel('True Positive Rate')\n",
        "plt.title('Receiver operating characteristic')\n",
        "plt.legend(loc=\"lower right\")\n",
        "plt.show()\n",
        "fig.savefig('roc_xgb_clf_auc.png')"
      ],
      "id": "02869b39-21c7-4c34-8b9e-b53bf296f90e"
    },
    {
      "cell_type": "code",
      "source": [
        "print('Classification Report of XGB Model')\n",
        "print(classification_report(y_test, y_pred))"
      ],
      "metadata": {
        "id": "uCWI4IZ6rKAQ",
        "colab": {
          "base_uri": "https://localhost:8080/"
        },
        "outputId": "2f4f9042-6e6f-4472-f45f-6ebaa4efd0e0"
      },
      "id": "uCWI4IZ6rKAQ",
      "execution_count": 78,
      "outputs": [
        {
          "output_type": "stream",
          "name": "stdout",
          "text": [
            "Classification Report of XGB Model\n",
            "              precision    recall  f1-score   support\n",
            "\n",
            "         0.0       1.00      1.00      1.00    530939\n",
            "         1.0       1.00      1.00      1.00     82766\n",
            "\n",
            "    accuracy                           1.00    613705\n",
            "   macro avg       1.00      1.00      1.00    613705\n",
            "weighted avg       1.00      1.00      1.00    613705\n",
            "\n"
          ]
        }
      ]
    }
  ],
  "metadata": {
    "kernelspec": {
      "display_name": "Python 3 (ipykernel)",
      "language": "python",
      "name": "python3"
    },
    "language_info": {
      "codemirror_mode": {
        "name": "ipython",
        "version": 3
      },
      "file_extension": ".py",
      "mimetype": "text/x-python",
      "name": "python",
      "nbconvert_exporter": "python",
      "pygments_lexer": "ipython3",
      "version": "3.9.7"
    },
    "colab": {
      "provenance": [],
      "collapsed_sections": [
        "7996d32d-ebb5-4caa-95e5-f8e29117f162",
        "3d07fb7c-482a-41dc-82b4-370237a7edbb",
        "a9eb6bd7-c095-4156-b4b3-eb0aa3b866c9",
        "9b6b140c-6422-4e31-8474-6aa40bb11449",
        "3dd3f4ac-72ad-490b-8dac-adde10a15340",
        "df1bb4ce-0c0b-4702-8c71-2be51b032407",
        "2f528c1e-49b9-458d-8eda-cb7bd759d480",
        "89b74f31-c900-4107-8234-f7919322b696",
        "79079a20-b320-4e66-876c-1eb080caa701",
        "a7934125-cc92-4fd1-8b89-0c62312797d7"
      ]
    }
  },
  "nbformat": 4,
  "nbformat_minor": 5
}