{
 "cells": [
  {
   "cell_type": "code",
   "execution_count": 1,
   "id": "50507b06-d4b5-425a-af20-647c479a07d8",
   "metadata": {},
   "outputs": [],
   "source": [
    "import cassandra\n",
    "from cassandra.cluster import Cluster\n",
    "import warnings\n",
    "warnings.filterwarnings('ignore')\n",
    "try: \n",
    "    cluster = Cluster(['127.0.0.1']) #cassandra is running locally\n",
    "    session = cluster.connect()\n",
    "except Exception as e:\n",
    "    print(e)"
   ]
  },
  {
   "cell_type": "code",
   "execution_count": 4,
   "id": "6a547bad-2db1-4872-ae20-ac61bab57ac2",
   "metadata": {},
   "outputs": [
    {
     "data": {
      "text/plain": [
       "<cassandra.cluster.ResultSet at 0x7fa9f27fde20>"
      ]
     },
     "execution_count": 4,
     "metadata": {},
     "output_type": "execute_result"
    }
   ],
   "source": [
    "session.execute(\"\"\"\n",
    "CREATE KEYSPACE IF NOT EXISTS biddingKeyspace\n",
    "WITH REPLICATION = {'class': 'SimpleStrategy', 'replication_factor': 1}\"\"\"\n",
    ")"
   ]
  },
  {
   "cell_type": "code",
   "execution_count": 7,
   "id": "96ecba05-9c7c-4e8d-b7e1-7d8c16fe891f",
   "metadata": {},
   "outputs": [],
   "source": [
    "session.set_keyspace(\"biddingkeyspace\")"
   ]
  },
  {
   "cell_type": "code",
   "execution_count": 9,
   "id": "66f2fb0a-1bca-4e7c-a411-f5519d941cb7",
   "metadata": {},
   "outputs": [
    {
     "data": {
      "text/plain": [
       "<cassandra.cluster.ResultSet at 0x7fa9f27fdee0>"
      ]
     },
     "execution_count": 9,
     "metadata": {},
     "output_type": "execute_result"
    }
   ],
   "source": [
    "query1 = \"CREATE TABLE IF NOT EXISTS newBids\"\n",
    "query1 = query1 + \"(bid_id int, item_id int, user_id int, user_email text, user_ip text, is_human int, bid_price int, item_price int, user_country text, \\\n",
    "         PRIMARY KEY (bid_id))\"\n",
    "session.execute(query1)"
   ]
  },
  {
   "cell_type": "code",
   "execution_count": 14,
   "id": "14ed9ff6-5d9c-4fce-ad1a-6c604c4f28ec",
   "metadata": {},
   "outputs": [],
   "source": [
    "class bid:\n",
    "    def __init__(self, bid_id, item_id, user_id, user_email, user_ip, is_human, bid_price, item_price, user_country):\n",
    "        self.bid_id = bid_id\n",
    "        self.item_id = item_id\n",
    "        self.user_id = user_id\n",
    "        self.user_email = user_email\n",
    "        self.user_ip = user_ip\n",
    "        self.is_human = is_human\n",
    "        self.bid_price = bid_price\n",
    "        self.item_price = item_price\n",
    "        self.user_country = user_country\n",
    "    \n",
    "    def insertBidData(self):\n",
    "        query = \"INSERT INTO newBids (bid_id, item_id, user_id, user_email, user_ip, is_human, bid_price, item_price, user_country)\"\n",
    "        query = query + \" VALUES (%s, %s, %s, %s, %s, %s, %s, %s, %s)\"\n",
    "        \n",
    "        session.execute(query, (self.bid_id, self.item_id, self.user_id, self.user_ip, self.user_email, self.is_human, self.bid_price, self.item_price, self.user_country))\n",
    "        print(\"Data Inserted\")"
   ]
  },
  {
   "cell_type": "code",
   "execution_count": 15,
   "id": "ce700182-d57c-466d-b911-911d227067ca",
   "metadata": {},
   "outputs": [
    {
     "name": "stdout",
     "output_type": "stream",
     "text": [
      "Data Inserted\n"
     ]
    }
   ],
   "source": [
    "myBid = bid(1,1,1,'shruti.savardekar@sjsu.edu', '0.0.0.0', 1, 20, 15, 'United States')\n",
    "\n",
    "myBid.insertBidData()"
   ]
  }
 ],
 "metadata": {
  "kernelspec": {
   "display_name": "Python 3 (ipykernel)",
   "language": "python",
   "name": "python3"
  },
  "language_info": {
   "codemirror_mode": {
    "name": "ipython",
    "version": 3
   },
   "file_extension": ".py",
   "mimetype": "text/x-python",
   "name": "python",
   "nbconvert_exporter": "python",
   "pygments_lexer": "ipython3",
   "version": "3.9.7"
  }
 },
 "nbformat": 4,
 "nbformat_minor": 5
}
